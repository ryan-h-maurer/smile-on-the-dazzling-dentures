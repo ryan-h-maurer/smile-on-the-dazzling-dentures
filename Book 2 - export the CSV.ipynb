{
 "cells": [
  {
   "cell_type": "code",
   "execution_count": 2,
   "id": "2a5dcf35",
   "metadata": {},
   "outputs": [],
   "source": [
    "import pandas as pd"
   ]
  },
  {
   "cell_type": "markdown",
   "id": "27f029a5",
   "metadata": {},
   "source": [
    "# Drop the uncessary columns by using \"usecols =\""
   ]
  },
  {
   "cell_type": "code",
   "execution_count": 4,
   "id": "fc5f3d6c",
   "metadata": {},
   "outputs": [
    {
     "name": "stderr",
     "output_type": "stream",
     "text": [
      "C:\\Users\\6106057\\Anaconda3\\lib\\site-packages\\IPython\\core\\interactiveshell.py:3165: DtypeWarning: Columns (59) have mixed types.Specify dtype option on import or set low_memory=False.\n",
      "  has_raised = await self.run_ast_nodes(code_ast.body, cell_name,\n"
     ]
    }
   ],
   "source": [
    "def convert_dtype(x):\n",
    "    if not x:\n",
    "        return ''\n",
    "    try:\n",
    "        return str(x)\n",
    "    except:\n",
    "        return ''\n",
    "def convert_dtypea(x):\n",
    "    if not x:\n",
    "        return ''\n",
    "    try:\n",
    "        return int(x)\n",
    "    except:\n",
    "        return ''\n",
    "smile = pd.read_csv('C:/Users/6106057/nss-data-analytics/projects/smile-on-the-dazzling-dentures/Data/Smileon.2021.10.17.csv', skiprows=2, header=0, encoding='latin-1', converters={\n",
    "    'LinkedToCallReportNum':convert_dtype, 'ThirdPartyStateProvince':convert_dtype, 'FeedbackFromPhoneWorkerName':convert_dtype,\n",
    "'SMILE ON 60+ Demographic Information - # of People in Household':convert_dtypea, 'Birth Year':convert_dtypea, 'SMILE ON 60+ Oral Care Encounter - 2393 - Quantity':convert_dtypea,\n",
    "'SMILE ON 60+ Oral Care Encounter - 2950 - Quantity':convert_dtypea, 'SMILE ON 60+ Oral Care Encounter - 4342 - Quantity':convert_dtypea,\n",
    "'SMILE ON 60+ Oral Care Encounter - 7140 - Quantity':convert_dtypea, 'SMILE ON 60+ Oral Care Encounter - 7320 - Quantity':convert_dtypea,\n",
    "'SMILE ON 60+ Oral Care Encounter - Lab Assist narrative':convert_dtype, 'SMILE ON 60+ Case Management Information - What is the outcome for the client?':convert_dtype,\n",
    "'SMILE ON 60+ Case Management Information - Dental Clinic':convert_dtype}, usecols = [0,1,2,3,4,5,6,7,16,17,18,19,20,34,47,48,58,59,60,130,131,133,134,136,137,138,142,143,149,150,151,152,153,154,155,160,161,162,167,168,170,171,172,173,174,175,176,177,179,180,181])"
   ]
  },
  {
   "cell_type": "code",
   "execution_count": 5,
   "id": "d58db42a",
   "metadata": {
    "scrolled": false
   },
   "outputs": [
    {
     "name": "stdout",
     "output_type": "stream",
     "text": [
      "<class 'pandas.core.frame.DataFrame'>\n",
      "RangeIndex: 57860 entries, 0 to 57859\n",
      "Data columns (total 51 columns):\n",
      " #   Column                                                                                                                                                                   Non-Null Count  Dtype  \n",
      "---  ------                                                                                                                                                                   --------------  -----  \n",
      " 0   CallReportNum                                                                                                                                                            57860 non-null  int64  \n",
      " 1   ReportVersion                                                                                                                                                            57860 non-null  object \n",
      " 2   LinkedToCallReportNum                                                                                                                                                    57860 non-null  object \n",
      " 3   CallDateAndTimeStart                                                                                                                                                     57860 non-null  object \n",
      " 4   CallDateAndTimeEnd                                                                                                                                                       57860 non-null  object \n",
      " 5   CallLength                                                                                                                                                               57860 non-null  int64  \n",
      " 6   CallerNum                                                                                                                                                                57860 non-null  int64  \n",
      " 7   PhoneWorkerNum                                                                                                                                                           57860 non-null  int64  \n",
      " 8   CityName                                                                                                                                                                 57434 non-null  object \n",
      " 9   CountyName                                                                                                                                                               57759 non-null  object \n",
      " 10  StateProvince                                                                                                                                                            57850 non-null  object \n",
      " 11  CountryName                                                                                                                                                              57757 non-null  object \n",
      " 12  PostalCode                                                                                                                                                               54791 non-null  float64\n",
      " 13  Narrative                                                                                                                                                                8510 non-null   object \n",
      " 14  EnteredByWorkerNum                                                                                                                                                       57860 non-null  int64  \n",
      " 15  EnteredOn                                                                                                                                                                57860 non-null  object \n",
      " 16  SMILE ON 60+ Demographic Information - # of People in Household                                                                                                          57860 non-null  object \n",
      " 17  Birth Year                                                                                                                                                               57860 non-null  object \n",
      " 18  SMILE ON 60+ Demographic Information - Other Language                                                                                                                    137 non-null    object \n",
      " 19  SMILE ON 60+ Screening - Last Screening Date                                                                                                                             20705 non-null  object \n",
      " 20  SMILE ON 60+ Verification of Eligibility - Verification Date                                                                                                             26258 non-null  object \n",
      " 21  SMILE ON 60+ Base-line Oral and Conditions Questions - Dental Clinic                                                                                                     20119 non-null  object \n",
      " 22  SMILE ON 60+ Base-line Oral and Conditions Questions - Did the client commit to referral?                                                                                42851 non-null  object \n",
      " 23  SMILE ON 60+ Base-line Oral and Conditions Questions - Do you need help in these other areas?                                                                            13797 non-null  object \n",
      " 24  SMILE ON 60+ Base-line Oral and Conditions Questions - Have you ever felt that the appearance of your mouth and teeth affected your quality of life?                     48425 non-null  object \n",
      " 25  SMILE ON 60+ Base-line Oral and Conditions Questions - How would you describe the condition of your mouth and teeth?                                                     49150 non-null  object \n",
      " 26  SMILE ON 60+ Case Management Information - Transportation Barriers                                                                                                       3743 non-null   object \n",
      " 27  SMILE ON 60+ Case Management Information - What barriers have kept you from finding a consistent dental home? (Select all that apply)                                    50874 non-null  object \n",
      " 28  SMILE ON 60+ Demographic Information - Gender                                                                                                                            57339 non-null  object \n",
      " 29  SMILE ON 60+ Demographic Information - Household Income Level                                                                                                            55548 non-null  object \n",
      " 30  SMILE ON 60+ Demographic Information - How did you first hear about the SMILE ON 60+ program?                                                                            55060 non-null  object \n",
      " 31  SMILE ON 60+ Demographic Information - Preferred Language/Language Needed                                                                                                17364 non-null  object \n",
      " 32  SMILE ON 60+ Demographic Information - Race/Ethnicity                                                                                                                    51598 non-null  object \n",
      " 33  SMILE ON 60+ Demographic Information - What other assistance programs are you on?                                                                                        28606 non-null  object \n",
      " 34  SMILE ON 60+ Demographic Information - When is the last time you visited your dentist?                                                                                   54296 non-null  object \n",
      " 35  SMILE ON 60+ Oral Care Encounter - What care was provided to the enrollee? (Select all that apply)                                                                       36778 non-null  object \n",
      " 36  SMILE ON 60+ Presumptive Eligibility - Dental Insurance?                                                                                                                 54321 non-null  object \n",
      " 37  SMILE ON 60+ Presumptive Eligibility - Do they pre-qualify for SMILE ON 60+?                                                                                             53397 non-null  object \n",
      " 38  SMILE ON 60+ Screening - Do you have removable dentures?                                                                                                                 7333 non-null   object \n",
      " 39  SMILE ON 60+ Screening - Do you usually wear your denture(s) when you eat?                                                                                               6314 non-null   object \n",
      " 40  SMILE ON 60+ Screening - How often do you brush your teeth?                                                                                                              6318 non-null   object \n",
      " 41  SMILE ON 60+ Screening - Need for Periodontal Care                                                                                                                       6108 non-null   object \n",
      " 42  SMILE ON 60+ Screening - Root Fragments                                                                                                                                  6420 non-null   object \n",
      " 43  SMILE ON 60+ Screening - Suspicious Soft Tissue Lesions                                                                                                                  6019 non-null   object \n",
      " 44  SMILE ON 60+ Screening - Treatment Urgency                                                                                                                               6531 non-null   object \n",
      " 45  SMILE ON 60+ Screening - Untreated Decay                                                                                                                                 6629 non-null   object \n",
      " 46  SMILE ON 60+ Site Information - Enroller ID                                                                                                                              47009 non-null  object \n",
      " 47  SMILE ON 60+ Site Information - Enroller Location                                                                                                                        39995 non-null  object \n",
      " 48  SMILE ON 60+ Treatment Plan - Is the treatment plan completed?                                                                                                           27205 non-null  object \n",
      " 49  SMILE ON 60+ Treatment Plan - Was a treatment plan developed?                                                                                                            26152 non-null  object \n",
      " 50  SMILE ON 60+ Treatment Plan - Was the enrollee able to be restored to function (can chew) and \"social six\" esthetics (top front six teeth are present and disease free)  22054 non-null  object \n",
      "dtypes: float64(1), int64(5), object(45)\n",
      "memory usage: 22.5+ MB\n"
     ]
    }
   ],
   "source": [
    "smile.info()"
   ]
  },
  {
   "cell_type": "code",
   "execution_count": 7,
   "id": "8897babd",
   "metadata": {},
   "outputs": [],
   "source": [
    "smile.to_csv('smile.csv')"
   ]
  }
 ],
 "metadata": {
  "kernelspec": {
   "display_name": "Python 3",
   "language": "python",
   "name": "python3"
  },
  "language_info": {
   "codemirror_mode": {
    "name": "ipython",
    "version": 3
   },
   "file_extension": ".py",
   "mimetype": "text/x-python",
   "name": "python",
   "nbconvert_exporter": "python",
   "pygments_lexer": "ipython3",
   "version": "3.8.8"
  }
 },
 "nbformat": 4,
 "nbformat_minor": 5
}
