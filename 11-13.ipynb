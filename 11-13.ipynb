{
 "cells": [
  {
   "cell_type": "code",
   "execution_count": 35,
   "id": "b1532bdc",
   "metadata": {},
   "outputs": [
    {
     "ename": "ModuleNotFoundError",
     "evalue": "No module named 'altair'",
     "output_type": "error",
     "traceback": [
      "\u001b[1;31m---------------------------------------------------------------------------\u001b[0m",
      "\u001b[1;31mModuleNotFoundError\u001b[0m                       Traceback (most recent call last)",
      "\u001b[1;32m<ipython-input-35-9c028bd77bc2>\u001b[0m in \u001b[0;36m<module>\u001b[1;34m\u001b[0m\n\u001b[0;32m      4\u001b[0m \u001b[1;32mimport\u001b[0m \u001b[0mseaborn\u001b[0m \u001b[1;32mas\u001b[0m \u001b[0msns\u001b[0m\u001b[1;33m\u001b[0m\u001b[1;33m\u001b[0m\u001b[0m\n\u001b[0;32m      5\u001b[0m \u001b[1;32mimport\u001b[0m \u001b[0mre\u001b[0m\u001b[1;33m\u001b[0m\u001b[1;33m\u001b[0m\u001b[0m\n\u001b[1;32m----> 6\u001b[1;33m \u001b[1;32mimport\u001b[0m \u001b[0maltair\u001b[0m \u001b[1;32mas\u001b[0m \u001b[0malt\u001b[0m\u001b[1;33m\u001b[0m\u001b[1;33m\u001b[0m\u001b[0m\n\u001b[0m",
      "\u001b[1;31mModuleNotFoundError\u001b[0m: No module named 'altair'"
     ]
    }
   ],
   "source": [
    "import pandas as pd\n",
    "import matplotlib.pyplot as plt\n",
    "import numpy as np\n",
    "import seaborn as sns\n",
    "import re"
   ]
  },
  {
   "cell_type": "code",
   "execution_count": 2,
   "id": "140d4c08",
   "metadata": {},
   "outputs": [
    {
     "name": "stderr",
     "output_type": "stream",
     "text": [
      "C:\\Users\\6106057\\Anaconda3\\lib\\site-packages\\IPython\\core\\interactiveshell.py:3165: DtypeWarning: Columns (3) have mixed types.Specify dtype option on import or set low_memory=False.\n",
      "  has_raised = await self.run_ast_nodes(code_ast.body, cell_name,\n"
     ]
    }
   ],
   "source": [
    "smile = pd.read_csv('C:/Users/6106057/nss-data-analytics/projects/smile-on-the-dazzling-dentures/Data/smile.csv')"
   ]
  },
  {
   "cell_type": "code",
   "execution_count": 3,
   "id": "2d73eecc",
   "metadata": {},
   "outputs": [],
   "source": [
    "smile = smile.rename(columns ={'CallReportNum':'reportID','ReportVersion':'reg_clic',\n",
    "                               'CallDateAndTimeStart':'callStart','CallDateAndTimeEnd':'callEnd',\n",
    "                              'CityName':'city', 'CountyName':'county','CountryName':'country',\n",
    "                              'PostalCode':'zipcode',\n",
    "                               'SMILE ON 60+ Demographic Information - # of People in Household': 'num_household',\n",
    "                               'Birth Year':'birth_year',\n",
    "                               'SMILE ON 60+ Demographic Information - Other Language': 'language',\n",
    "                               'SMILE ON 60+ Verification of Eligibility - Verification Date':'lastscreeningdate',\n",
    "                               'SMILE ON 60+ Base-line Oral and Conditions Questions - Dental Clinic':'dental_clinic',\n",
    "                               'SMILE ON 60+ Base-line Oral and Conditions Questions - Did the client commit to referral?':'referral',\n",
    "                               'SMILE ON 60+ Base-line Oral and Conditions Questions - Have you ever felt that the appearance of your mouth and teeth affected your quality of life?' : 'mouth_teeth_quality',\n",
    "                               'SMILE ON 60+ Demographic Information - Gender':'gender',\n",
    "                               'SMILE ON 60+ Demographic Information - Race/Ethnicity': 'race',\n",
    "                               'SMILE ON 60+ Demographic Information - Household Income Level':'income_level',\n",
    "                               'SMILE ON 60+ Demographic Information - When is the last time you visited your dentist?':'last_time_visit',\n",
    "                               'SMILE ON 60+ Presumptive Eligibility - Dental Insurance?':'with_insurance',\n",
    "                               'SMILE ON 60+ Screening - How often do you brush your teeth?': 'brush_teeth',\n",
    "                               'SMILE ON 60+ Screening - Need for Periodontal Care':'future_care',\n",
    "                               'SMILE ON 60+ Treatment Plan - Is the treatment plan completed?':'treatment_completed'\n",
    "                              })"
   ]
  },
  {
   "cell_type": "code",
   "execution_count": 4,
   "id": "8b9ec4b7",
   "metadata": {},
   "outputs": [],
   "source": [
    "smile['income_level'] = smile['income_level'].str.replace(\" \", \"\") "
   ]
  },
  {
   "cell_type": "code",
   "execution_count": 83,
   "id": "cbdba194",
   "metadata": {
    "scrolled": false
   },
   "outputs": [
    {
     "data": {
      "text/plain": [
       "['Unnamed: 0',\n",
       " 'reportID',\n",
       " 'reg_clic',\n",
       " 'LinkedToCallReportNum',\n",
       " 'callStart',\n",
       " 'callEnd',\n",
       " 'CallLength',\n",
       " 'CallerNum',\n",
       " 'PhoneWorkerNum',\n",
       " 'city',\n",
       " 'county',\n",
       " 'StateProvince',\n",
       " 'country',\n",
       " 'zipcode',\n",
       " 'Narrative',\n",
       " 'EnteredByWorkerNum',\n",
       " 'EnteredOn',\n",
       " 'num_household',\n",
       " 'birth_year',\n",
       " 'language',\n",
       " 'SMILE ON 60+ Screening - Last Screening Date',\n",
       " 'lastscreeningdate',\n",
       " 'dental_clinic',\n",
       " 'referral',\n",
       " 'SMILE ON 60+ Base-line Oral and Conditions Questions - Do you need help in these other areas?',\n",
       " 'mouth_teeth_quality',\n",
       " 'SMILE ON 60+ Base-line Oral and Conditions Questions - How would you describe the condition of your mouth and teeth?',\n",
       " 'SMILE ON 60+ Case Management Information - Transportation Barriers',\n",
       " 'SMILE ON 60+ Case Management Information - What barriers have kept you from finding a consistent dental home? (Select all that apply)',\n",
       " 'gender',\n",
       " 'income_level',\n",
       " 'SMILE ON 60+ Demographic Information - How did you first hear about the SMILE ON 60+ program?',\n",
       " 'SMILE ON 60+ Demographic Information - Preferred Language/Language Needed',\n",
       " 'race',\n",
       " 'SMILE ON 60+ Demographic Information - What other assistance programs are you on?',\n",
       " 'last_time_visit',\n",
       " 'SMILE ON 60+ Oral Care Encounter - What care was provided to the enrollee? (Select all that apply)',\n",
       " 'with_insurance',\n",
       " 'SMILE ON 60+ Presumptive Eligibility - Do they pre-qualify for SMILE ON 60+?',\n",
       " 'SMILE ON 60+ Screening - Do you have removable dentures?',\n",
       " 'SMILE ON 60+ Screening - Do you usually wear your denture(s) when you eat?',\n",
       " 'brush_teeth',\n",
       " 'future_care',\n",
       " 'SMILE ON 60+ Screening - Root Fragments',\n",
       " 'SMILE ON 60+ Screening - Suspicious Soft Tissue Lesions',\n",
       " 'SMILE ON 60+ Screening - Treatment Urgency',\n",
       " 'SMILE ON 60+ Screening - Untreated Decay',\n",
       " 'SMILE ON 60+ Site Information - Enroller ID',\n",
       " 'SMILE ON 60+ Site Information - Enroller Location',\n",
       " 'treatment_completed',\n",
       " 'SMILE ON 60+ Treatment Plan - Was a treatment plan developed?',\n",
       " 'SMILE ON 60+ Treatment Plan - Was the enrollee able to be restored to function (can chew) and \"social six\" esthetics (top front six teeth are present and disease free)']"
      ]
     },
     "execution_count": 83,
     "metadata": {},
     "output_type": "execute_result"
    }
   ],
   "source": [
    "list(smile.columns)"
   ]
  },
  {
   "cell_type": "code",
   "execution_count": 5,
   "id": "d49991c6",
   "metadata": {
    "scrolled": false
   },
   "outputs": [
    {
     "data": {
      "text/html": [
       "<div>\n",
       "<style scoped>\n",
       "    .dataframe tbody tr th:only-of-type {\n",
       "        vertical-align: middle;\n",
       "    }\n",
       "\n",
       "    .dataframe tbody tr th {\n",
       "        vertical-align: top;\n",
       "    }\n",
       "\n",
       "    .dataframe thead th {\n",
       "        text-align: right;\n",
       "    }\n",
       "</style>\n",
       "<table border=\"1\" class=\"dataframe\">\n",
       "  <thead>\n",
       "    <tr style=\"text-align: right;\">\n",
       "      <th></th>\n",
       "      <th>gender</th>\n",
       "      <th>race</th>\n",
       "      <th>CallerNum</th>\n",
       "    </tr>\n",
       "  </thead>\n",
       "  <tbody>\n",
       "    <tr>\n",
       "      <th>0</th>\n",
       "      <td>Female</td>\n",
       "      <td>African American</td>\n",
       "      <td>1766</td>\n",
       "    </tr>\n",
       "    <tr>\n",
       "      <th>1</th>\n",
       "      <td>Female</td>\n",
       "      <td>American Indian and Alaska Native</td>\n",
       "      <td>32</td>\n",
       "    </tr>\n",
       "    <tr>\n",
       "      <th>2</th>\n",
       "      <td>Female</td>\n",
       "      <td>Asian</td>\n",
       "      <td>92</td>\n",
       "    </tr>\n",
       "    <tr>\n",
       "      <th>3</th>\n",
       "      <td>Female</td>\n",
       "      <td>Caucasian</td>\n",
       "      <td>3776</td>\n",
       "    </tr>\n",
       "    <tr>\n",
       "      <th>4</th>\n",
       "      <td>Female</td>\n",
       "      <td>Hispanic</td>\n",
       "      <td>269</td>\n",
       "    </tr>\n",
       "    <tr>\n",
       "      <th>5</th>\n",
       "      <td>Female</td>\n",
       "      <td>Multi-racial</td>\n",
       "      <td>21</td>\n",
       "    </tr>\n",
       "    <tr>\n",
       "      <th>6</th>\n",
       "      <td>Female</td>\n",
       "      <td>Pacific Islander</td>\n",
       "      <td>6</td>\n",
       "    </tr>\n",
       "    <tr>\n",
       "      <th>7</th>\n",
       "      <td>Female</td>\n",
       "      <td>Unknown</td>\n",
       "      <td>61</td>\n",
       "    </tr>\n",
       "    <tr>\n",
       "      <th>8</th>\n",
       "      <td>Male</td>\n",
       "      <td>African American</td>\n",
       "      <td>891</td>\n",
       "    </tr>\n",
       "    <tr>\n",
       "      <th>9</th>\n",
       "      <td>Male</td>\n",
       "      <td>American Indian and Alaska Native</td>\n",
       "      <td>19</td>\n",
       "    </tr>\n",
       "    <tr>\n",
       "      <th>10</th>\n",
       "      <td>Male</td>\n",
       "      <td>Asian</td>\n",
       "      <td>59</td>\n",
       "    </tr>\n",
       "    <tr>\n",
       "      <th>11</th>\n",
       "      <td>Male</td>\n",
       "      <td>Caucasian</td>\n",
       "      <td>2174</td>\n",
       "    </tr>\n",
       "    <tr>\n",
       "      <th>12</th>\n",
       "      <td>Male</td>\n",
       "      <td>Hispanic</td>\n",
       "      <td>193</td>\n",
       "    </tr>\n",
       "    <tr>\n",
       "      <th>13</th>\n",
       "      <td>Male</td>\n",
       "      <td>Multi-racial</td>\n",
       "      <td>12</td>\n",
       "    </tr>\n",
       "    <tr>\n",
       "      <th>14</th>\n",
       "      <td>Male</td>\n",
       "      <td>Pacific Islander</td>\n",
       "      <td>4</td>\n",
       "    </tr>\n",
       "    <tr>\n",
       "      <th>15</th>\n",
       "      <td>Male</td>\n",
       "      <td>Unknown</td>\n",
       "      <td>51</td>\n",
       "    </tr>\n",
       "    <tr>\n",
       "      <th>16</th>\n",
       "      <td>Other</td>\n",
       "      <td>Unknown</td>\n",
       "      <td>1</td>\n",
       "    </tr>\n",
       "    <tr>\n",
       "      <th>17</th>\n",
       "      <td>Transgender</td>\n",
       "      <td>Caucasian</td>\n",
       "      <td>1</td>\n",
       "    </tr>\n",
       "  </tbody>\n",
       "</table>\n",
       "</div>"
      ],
      "text/plain": [
       "         gender                               race  CallerNum\n",
       "0        Female                   African American       1766\n",
       "1        Female  American Indian and Alaska Native         32\n",
       "2        Female                              Asian         92\n",
       "3        Female                          Caucasian       3776\n",
       "4        Female                           Hispanic        269\n",
       "5        Female                       Multi-racial         21\n",
       "6        Female                   Pacific Islander          6\n",
       "7        Female                            Unknown         61\n",
       "8          Male                   African American        891\n",
       "9          Male  American Indian and Alaska Native         19\n",
       "10         Male                              Asian         59\n",
       "11         Male                          Caucasian       2174\n",
       "12         Male                           Hispanic        193\n",
       "13         Male                       Multi-racial         12\n",
       "14         Male                   Pacific Islander          4\n",
       "15         Male                            Unknown         51\n",
       "16        Other                            Unknown          1\n",
       "17  Transgender                          Caucasian          1"
      ]
     },
     "execution_count": 5,
     "metadata": {},
     "output_type": "execute_result"
    }
   ],
   "source": [
    "smile.groupby(['gender','race'])[\"CallerNum\"].nunique().reset_index()"
   ]
  },
  {
   "cell_type": "code",
   "execution_count": 59,
   "id": "48eb3377",
   "metadata": {},
   "outputs": [
    {
     "data": {
      "text/plain": [
       "0        NaN\n",
       "1        NaN\n",
       "2         No\n",
       "3         No\n",
       "4         No\n",
       "        ... \n",
       "57855    NaN\n",
       "57856     No\n",
       "57857    NaN\n",
       "57858    NaN\n",
       "57859     No\n",
       "Name: treatment_completed, Length: 57860, dtype: object"
      ]
     },
     "execution_count": 59,
     "metadata": {},
     "output_type": "execute_result"
    }
   ],
   "source": [
    "smile.treatment_completed"
   ]
  },
  {
   "cell_type": "raw",
   "id": "9d91f0bc",
   "metadata": {},
   "source": [
    "smile.groupby(['treatment_completed])[\"CallerNum\"].nunique().reset_index()"
   ]
  },
  {
   "cell_type": "markdown",
   "id": "75ea5242",
   "metadata": {},
   "source": [
    "# Geo - gender, birth year and race# "
   ]
  },
  {
   "cell_type": "code",
   "execution_count": 8,
   "id": "96374324",
   "metadata": {},
   "outputs": [
    {
     "data": {
      "text/html": [
       "<div>\n",
       "<style scoped>\n",
       "    .dataframe tbody tr th:only-of-type {\n",
       "        vertical-align: middle;\n",
       "    }\n",
       "\n",
       "    .dataframe tbody tr th {\n",
       "        vertical-align: top;\n",
       "    }\n",
       "\n",
       "    .dataframe thead th {\n",
       "        text-align: right;\n",
       "    }\n",
       "</style>\n",
       "<table border=\"1\" class=\"dataframe\">\n",
       "  <thead>\n",
       "    <tr style=\"text-align: right;\">\n",
       "      <th></th>\n",
       "      <th>CallerNum</th>\n",
       "      <th>birth_year</th>\n",
       "      <th>gender</th>\n",
       "      <th>race</th>\n",
       "    </tr>\n",
       "  </thead>\n",
       "  <tbody>\n",
       "    <tr>\n",
       "      <th>0</th>\n",
       "      <td>3638169</td>\n",
       "      <td>1960.0</td>\n",
       "      <td>Female</td>\n",
       "      <td>African American</td>\n",
       "    </tr>\n",
       "    <tr>\n",
       "      <th>1</th>\n",
       "      <td>4431194</td>\n",
       "      <td>1959.0</td>\n",
       "      <td>Female</td>\n",
       "      <td>Caucasian</td>\n",
       "    </tr>\n",
       "    <tr>\n",
       "      <th>2</th>\n",
       "      <td>2941341</td>\n",
       "      <td>1942.0</td>\n",
       "      <td>Male</td>\n",
       "      <td>Asian</td>\n",
       "    </tr>\n",
       "    <tr>\n",
       "      <th>3</th>\n",
       "      <td>3823933</td>\n",
       "      <td>1960.0</td>\n",
       "      <td>Male</td>\n",
       "      <td>African American</td>\n",
       "    </tr>\n",
       "    <tr>\n",
       "      <th>4</th>\n",
       "      <td>3348256</td>\n",
       "      <td>1955.0</td>\n",
       "      <td>Female</td>\n",
       "      <td>African American</td>\n",
       "    </tr>\n",
       "  </tbody>\n",
       "</table>\n",
       "</div>"
      ],
      "text/plain": [
       "   CallerNum  birth_year  gender              race\n",
       "0    3638169      1960.0  Female  African American\n",
       "1    4431194      1959.0  Female         Caucasian\n",
       "2    2941341      1942.0    Male             Asian\n",
       "3    3823933      1960.0    Male  African American\n",
       "4    3348256      1955.0  Female  African American"
      ]
     },
     "execution_count": 8,
     "metadata": {},
     "output_type": "execute_result"
    }
   ],
   "source": [
    "smile_geo = smile[smile.columns[smile.columns.isin(['gender','birth_year','race','CallerNum'])]]\n",
    "smile_geo.head()"
   ]
  },
  {
   "cell_type": "code",
   "execution_count": 9,
   "id": "34d3ba54",
   "metadata": {
    "scrolled": true
   },
   "outputs": [
    {
     "name": "stdout",
     "output_type": "stream",
     "text": [
      "<class 'pandas.core.frame.DataFrame'>\n",
      "Int64Index: 57791 entries, 0 to 57859\n",
      "Data columns (total 4 columns):\n",
      " #   Column      Non-Null Count  Dtype  \n",
      "---  ------      --------------  -----  \n",
      " 0   CallerNum   57791 non-null  int64  \n",
      " 1   birth_year  57791 non-null  float64\n",
      " 2   gender      57278 non-null  object \n",
      " 3   race        51539 non-null  object \n",
      "dtypes: float64(1), int64(1), object(2)\n",
      "memory usage: 2.2+ MB\n"
     ]
    }
   ],
   "source": [
    "over_60 = smile_geo[smile_geo['birth_year'] <= 1961.0]\n",
    "over_60.info()"
   ]
  },
  {
   "cell_type": "code",
   "execution_count": 11,
   "id": "fad6f836",
   "metadata": {},
   "outputs": [],
   "source": [
    "gender_race = over_60.groupby(['gender','race'])[\"CallerNum\"].nunique().reset_index()\n",
    "gender_race = gender_race.sort_values(\"CallerNum\", ascending = False)"
   ]
  },
  {
   "cell_type": "code",
   "execution_count": 12,
   "id": "dd323610",
   "metadata": {
    "scrolled": false
   },
   "outputs": [
    {
     "name": "stderr",
     "output_type": "stream",
     "text": [
      "<ipython-input-12-859bd929bc76>:2: UserWarning: FixedFormatter should only be used together with FixedLocator\n",
      "  ax.set_xticklabels(gender_race.index,rotation=90)\n"
     ]
    },
    {
     "data": {
      "text/plain": [
       "Text(0.5, 1.0, 'The number patients of in differnt Genders')"
      ]
     },
     "execution_count": 12,
     "metadata": {},
     "output_type": "execute_result"
    },
    {
     "data": {
      "image/png": "[encoded data removed]",
      "text/plain": [
       "<Figure size 864x720 with 1 Axes>"
      ]
     },
     "metadata": {
      "needs_background": "light"
     },
     "output_type": "display_data"
    }
   ],
   "source": [
    "c\n",
    "## python barplot x rotation"
   ]
  },
  {
   "cell_type": "markdown",
   "id": "4187acec",
   "metadata": {},
   "source": [
    "# saving the picture: plt.savefig(\"The_number_patients_of_in differnt_Genders.png\")"
   ]
  },
  {
   "cell_type": "markdown",
   "id": "479b00ae",
   "metadata": {},
   "source": [
    "# look the income level and insurance"
   ]
  },
  {
   "cell_type": "code",
   "execution_count": 13,
   "id": "49e33e16",
   "metadata": {
    "scrolled": true
   },
   "outputs": [
    {
     "data": {
      "text/plain": [
       "$0-$21280        42590\n",
       "$21246-$24280     7332\n",
       "$24281-$27315     2323\n",
       "$28806-$32920     2016\n",
       "$32921-$37035      645\n",
       "$36366-$41560      236\n",
       "$41561-$46755      206\n",
       "$43926-$50200       58\n",
       "$50201-$56475       55\n",
       "$51486-$58840       26\n",
       "$58841-$66195       22\n",
       "$59046-$67480       18\n",
       "$76121-$85635        8\n",
       "$66606-$76120        4\n",
       "$84761-$95355        4\n",
       "$67481-$75915        3\n",
       "$74166-$84760        2\n",
       "Name: income_level, dtype: int64"
      ]
     },
     "execution_count": 13,
     "metadata": {},
     "output_type": "execute_result"
    }
   ],
   "source": [
    "smile['income_level'] = smile['income_level'].str.replace(\" \", \"\") \n",
    "## replace the black space in the \"21 280\"\n",
    "smile['income_level'].value_counts()\n",
    "## there is blank space on the 21280 income level. "
   ]
  },
  {
   "cell_type": "code",
   "execution_count": 14,
   "id": "f3cbe234",
   "metadata": {},
   "outputs": [
    {
     "name": "stdout",
     "output_type": "stream",
     "text": [
      "  with_insurance  Numbers\n",
      "0             No     9170\n",
      "1            Yes      863\n"
     ]
    }
   ],
   "source": [
    "insurance = smile.groupby(['with_insurance'])[\"CallerNum\"].nunique().reset_index()\n",
    "insurance = insurance.rename(columns = {\"CallerNum\": \"Numbers\"})\n",
    "print(insurance)"
   ]
  },
  {
   "cell_type": "code",
   "execution_count": 15,
   "id": "1142924a",
   "metadata": {},
   "outputs": [
    {
     "data": {
      "image/png": "[encoded data removed]",
      "text/plain": [
       "<Figure size 432x288 with 1 Axes>"
      ]
     },
     "metadata": {},
     "output_type": "display_data"
    }
   ],
   "source": [
    "labels = insurance[\"with_insurance\"]\n",
    "sizes = insurance[\"Numbers\"]\n",
    "colors = (\"cyan\",\"orange\") \n",
    "fig1, ax1 = plt.subplots()\n",
    "explode = (0, 0.1) \n",
    "ax1.pie(sizes, colors = colors, explode=explode, labels=labels, autopct='%1.1f%%',\n",
    "        shadow=True, startangle=90) \n",
    "patches, texts, auto = ax1.pie(sizes, colors = colors, explode=explode, labels=labels, autopct='%1.1f%%',\n",
    "        shadow=True, startangle=90)\n",
    "plt.legend(patches, labels, loc=\"best\")\n",
    "plt.show()\n",
    "\n",
    "## why only 8.6% holding insurance becasue of free med-care?"
   ]
  },
  {
   "cell_type": "code",
   "execution_count": 22,
   "id": "44bed706",
   "metadata": {
    "scrolled": false
   },
   "outputs": [
    {
     "data": {
      "text/html": [
       "<div>\n",
       "<style scoped>\n",
       "    .dataframe tbody tr th:only-of-type {\n",
       "        vertical-align: middle;\n",
       "    }\n",
       "\n",
       "    .dataframe tbody tr th {\n",
       "        vertical-align: top;\n",
       "    }\n",
       "\n",
       "    .dataframe thead th {\n",
       "        text-align: right;\n",
       "    }\n",
       "</style>\n",
       "<table border=\"1\" class=\"dataframe\">\n",
       "  <thead>\n",
       "    <tr style=\"text-align: right;\">\n",
       "      <th></th>\n",
       "      <th>insuranced</th>\n",
       "      <th>income_level</th>\n",
       "      <th>numbers</th>\n",
       "    </tr>\n",
       "  </thead>\n",
       "  <tbody>\n",
       "    <tr>\n",
       "      <th>0</th>\n",
       "      <td>No</td>\n",
       "      <td>$0-$21280</td>\n",
       "      <td>6861</td>\n",
       "    </tr>\n",
       "    <tr>\n",
       "      <th>1</th>\n",
       "      <td>No</td>\n",
       "      <td>$21246-$24280</td>\n",
       "      <td>1182</td>\n",
       "    </tr>\n",
       "    <tr>\n",
       "      <th>2</th>\n",
       "      <td>No</td>\n",
       "      <td>$24281-$27315</td>\n",
       "      <td>369</td>\n",
       "    </tr>\n",
       "    <tr>\n",
       "      <th>3</th>\n",
       "      <td>No</td>\n",
       "      <td>$28806-$32920</td>\n",
       "      <td>311</td>\n",
       "    </tr>\n",
       "    <tr>\n",
       "      <th>4</th>\n",
       "      <td>No</td>\n",
       "      <td>$32921-$37035</td>\n",
       "      <td>114</td>\n",
       "    </tr>\n",
       "    <tr>\n",
       "      <th>5</th>\n",
       "      <td>No</td>\n",
       "      <td>$36366-$41560</td>\n",
       "      <td>44</td>\n",
       "    </tr>\n",
       "    <tr>\n",
       "      <th>6</th>\n",
       "      <td>No</td>\n",
       "      <td>$41561-$46755</td>\n",
       "      <td>52</td>\n",
       "    </tr>\n",
       "    <tr>\n",
       "      <th>7</th>\n",
       "      <td>No</td>\n",
       "      <td>$43926-$50200</td>\n",
       "      <td>16</td>\n",
       "    </tr>\n",
       "    <tr>\n",
       "      <th>8</th>\n",
       "      <td>No</td>\n",
       "      <td>$50201-$56475</td>\n",
       "      <td>11</td>\n",
       "    </tr>\n",
       "    <tr>\n",
       "      <th>9</th>\n",
       "      <td>No</td>\n",
       "      <td>$51486-$58840</td>\n",
       "      <td>5</td>\n",
       "    </tr>\n",
       "    <tr>\n",
       "      <th>10</th>\n",
       "      <td>No</td>\n",
       "      <td>$58841-$66195</td>\n",
       "      <td>4</td>\n",
       "    </tr>\n",
       "    <tr>\n",
       "      <th>11</th>\n",
       "      <td>No</td>\n",
       "      <td>$59046-$67480</td>\n",
       "      <td>6</td>\n",
       "    </tr>\n",
       "    <tr>\n",
       "      <th>12</th>\n",
       "      <td>No</td>\n",
       "      <td>$66606-$76120</td>\n",
       "      <td>2</td>\n",
       "    </tr>\n",
       "    <tr>\n",
       "      <th>13</th>\n",
       "      <td>No</td>\n",
       "      <td>$67481-$75915</td>\n",
       "      <td>2</td>\n",
       "    </tr>\n",
       "    <tr>\n",
       "      <th>14</th>\n",
       "      <td>No</td>\n",
       "      <td>$74166-$84760</td>\n",
       "      <td>1</td>\n",
       "    </tr>\n",
       "    <tr>\n",
       "      <th>15</th>\n",
       "      <td>No</td>\n",
       "      <td>$76121-$85635</td>\n",
       "      <td>2</td>\n",
       "    </tr>\n",
       "    <tr>\n",
       "      <th>16</th>\n",
       "      <td>No</td>\n",
       "      <td>$84761-$95355</td>\n",
       "      <td>2</td>\n",
       "    </tr>\n",
       "    <tr>\n",
       "      <th>17</th>\n",
       "      <td>Yes</td>\n",
       "      <td>$0-$21280</td>\n",
       "      <td>453</td>\n",
       "    </tr>\n",
       "    <tr>\n",
       "      <th>18</th>\n",
       "      <td>Yes</td>\n",
       "      <td>$21246-$24280</td>\n",
       "      <td>134</td>\n",
       "    </tr>\n",
       "    <tr>\n",
       "      <th>19</th>\n",
       "      <td>Yes</td>\n",
       "      <td>$24281-$27315</td>\n",
       "      <td>51</td>\n",
       "    </tr>\n",
       "    <tr>\n",
       "      <th>20</th>\n",
       "      <td>Yes</td>\n",
       "      <td>$28806-$32920</td>\n",
       "      <td>45</td>\n",
       "    </tr>\n",
       "    <tr>\n",
       "      <th>21</th>\n",
       "      <td>Yes</td>\n",
       "      <td>$32921-$37035</td>\n",
       "      <td>18</td>\n",
       "    </tr>\n",
       "    <tr>\n",
       "      <th>22</th>\n",
       "      <td>Yes</td>\n",
       "      <td>$36366-$41560</td>\n",
       "      <td>19</td>\n",
       "    </tr>\n",
       "    <tr>\n",
       "      <th>23</th>\n",
       "      <td>Yes</td>\n",
       "      <td>$41561-$46755</td>\n",
       "      <td>18</td>\n",
       "    </tr>\n",
       "    <tr>\n",
       "      <th>24</th>\n",
       "      <td>Yes</td>\n",
       "      <td>$43926-$50200</td>\n",
       "      <td>4</td>\n",
       "    </tr>\n",
       "    <tr>\n",
       "      <th>25</th>\n",
       "      <td>Yes</td>\n",
       "      <td>$51486-$58840</td>\n",
       "      <td>1</td>\n",
       "    </tr>\n",
       "    <tr>\n",
       "      <th>26</th>\n",
       "      <td>Yes</td>\n",
       "      <td>$58841-$66195</td>\n",
       "      <td>2</td>\n",
       "    </tr>\n",
       "    <tr>\n",
       "      <th>27</th>\n",
       "      <td>Yes</td>\n",
       "      <td>$59046-$67480</td>\n",
       "      <td>2</td>\n",
       "    </tr>\n",
       "    <tr>\n",
       "      <th>28</th>\n",
       "      <td>Yes</td>\n",
       "      <td>$67481-$75915</td>\n",
       "      <td>1</td>\n",
       "    </tr>\n",
       "    <tr>\n",
       "      <th>29</th>\n",
       "      <td>Yes</td>\n",
       "      <td>$76121-$85635</td>\n",
       "      <td>1</td>\n",
       "    </tr>\n",
       "    <tr>\n",
       "      <th>30</th>\n",
       "      <td>Yes</td>\n",
       "      <td>$84761-$95355</td>\n",
       "      <td>1</td>\n",
       "    </tr>\n",
       "  </tbody>\n",
       "</table>\n",
       "</div>"
      ],
      "text/plain": [
       "   insuranced   income_level  numbers\n",
       "0          No      $0-$21280     6861\n",
       "1          No  $21246-$24280     1182\n",
       "2          No  $24281-$27315      369\n",
       "3          No  $28806-$32920      311\n",
       "4          No  $32921-$37035      114\n",
       "5          No  $36366-$41560       44\n",
       "6          No  $41561-$46755       52\n",
       "7          No  $43926-$50200       16\n",
       "8          No  $50201-$56475       11\n",
       "9          No  $51486-$58840        5\n",
       "10         No  $58841-$66195        4\n",
       "11         No  $59046-$67480        6\n",
       "12         No  $66606-$76120        2\n",
       "13         No  $67481-$75915        2\n",
       "14         No  $74166-$84760        1\n",
       "15         No  $76121-$85635        2\n",
       "16         No  $84761-$95355        2\n",
       "17        Yes      $0-$21280      453\n",
       "18        Yes  $21246-$24280      134\n",
       "19        Yes  $24281-$27315       51\n",
       "20        Yes  $28806-$32920       45\n",
       "21        Yes  $32921-$37035       18\n",
       "22        Yes  $36366-$41560       19\n",
       "23        Yes  $41561-$46755       18\n",
       "24        Yes  $43926-$50200        4\n",
       "25        Yes  $51486-$58840        1\n",
       "26        Yes  $58841-$66195        2\n",
       "27        Yes  $59046-$67480        2\n",
       "28        Yes  $67481-$75915        1\n",
       "29        Yes  $76121-$85635        1\n",
       "30        Yes  $84761-$95355        1"
      ]
     },
     "execution_count": 22,
     "metadata": {},
     "output_type": "execute_result"
    }
   ],
   "source": [
    "income_insurance = smile.groupby([\"with_insurance\",\"income_level\"])[\"CallerNum\"].nunique().reset_index()\n",
    "income_insurance = income_insurance.rename(columns = {'with_insurance':'insuranced', 'CallerNum':'numbers'})\n",
    "income_insurance"
   ]
  },
  {
   "cell_type": "code",
   "execution_count": 40,
   "id": "671f056d",
   "metadata": {
    "scrolled": true
   },
   "outputs": [
    {
     "data": {
      "text/html": [
       "<div>\n",
       "<style scoped>\n",
       "    .dataframe tbody tr th:only-of-type {\n",
       "        vertical-align: middle;\n",
       "    }\n",
       "\n",
       "    .dataframe tbody tr th {\n",
       "        vertical-align: top;\n",
       "    }\n",
       "\n",
       "    .dataframe thead th {\n",
       "        text-align: right;\n",
       "    }\n",
       "</style>\n",
       "<table border=\"1\" class=\"dataframe\">\n",
       "  <thead>\n",
       "    <tr style=\"text-align: right;\">\n",
       "      <th></th>\n",
       "      <th>insuranced</th>\n",
       "      <th>income_level</th>\n",
       "      <th>numbers</th>\n",
       "    </tr>\n",
       "  </thead>\n",
       "  <tbody>\n",
       "    <tr>\n",
       "      <th>0</th>\n",
       "      <td>No</td>\n",
       "      <td>$0-$21280</td>\n",
       "      <td>6861</td>\n",
       "    </tr>\n",
       "    <tr>\n",
       "      <th>17</th>\n",
       "      <td>Yes</td>\n",
       "      <td>$0-$21280</td>\n",
       "      <td>453</td>\n",
       "    </tr>\n",
       "    <tr>\n",
       "      <th>1</th>\n",
       "      <td>No</td>\n",
       "      <td>$21246-$24280</td>\n",
       "      <td>1182</td>\n",
       "    </tr>\n",
       "    <tr>\n",
       "      <th>18</th>\n",
       "      <td>Yes</td>\n",
       "      <td>$21246-$24280</td>\n",
       "      <td>134</td>\n",
       "    </tr>\n",
       "    <tr>\n",
       "      <th>2</th>\n",
       "      <td>No</td>\n",
       "      <td>$24281-$27315</td>\n",
       "      <td>369</td>\n",
       "    </tr>\n",
       "    <tr>\n",
       "      <th>19</th>\n",
       "      <td>Yes</td>\n",
       "      <td>$24281-$27315</td>\n",
       "      <td>51</td>\n",
       "    </tr>\n",
       "    <tr>\n",
       "      <th>3</th>\n",
       "      <td>No</td>\n",
       "      <td>$28806-$32920</td>\n",
       "      <td>311</td>\n",
       "    </tr>\n",
       "    <tr>\n",
       "      <th>20</th>\n",
       "      <td>Yes</td>\n",
       "      <td>$28806-$32920</td>\n",
       "      <td>45</td>\n",
       "    </tr>\n",
       "    <tr>\n",
       "      <th>4</th>\n",
       "      <td>No</td>\n",
       "      <td>$32921-$37035</td>\n",
       "      <td>114</td>\n",
       "    </tr>\n",
       "    <tr>\n",
       "      <th>21</th>\n",
       "      <td>Yes</td>\n",
       "      <td>$32921-$37035</td>\n",
       "      <td>18</td>\n",
       "    </tr>\n",
       "    <tr>\n",
       "      <th>5</th>\n",
       "      <td>No</td>\n",
       "      <td>$36366-$41560</td>\n",
       "      <td>44</td>\n",
       "    </tr>\n",
       "    <tr>\n",
       "      <th>22</th>\n",
       "      <td>Yes</td>\n",
       "      <td>$36366-$41560</td>\n",
       "      <td>19</td>\n",
       "    </tr>\n",
       "    <tr>\n",
       "      <th>6</th>\n",
       "      <td>No</td>\n",
       "      <td>$41561-$46755</td>\n",
       "      <td>52</td>\n",
       "    </tr>\n",
       "    <tr>\n",
       "      <th>23</th>\n",
       "      <td>Yes</td>\n",
       "      <td>$41561-$46755</td>\n",
       "      <td>18</td>\n",
       "    </tr>\n",
       "    <tr>\n",
       "      <th>24</th>\n",
       "      <td>Yes</td>\n",
       "      <td>$43926-$50200</td>\n",
       "      <td>4</td>\n",
       "    </tr>\n",
       "    <tr>\n",
       "      <th>7</th>\n",
       "      <td>No</td>\n",
       "      <td>$43926-$50200</td>\n",
       "      <td>16</td>\n",
       "    </tr>\n",
       "    <tr>\n",
       "      <th>8</th>\n",
       "      <td>No</td>\n",
       "      <td>$50201-$56475</td>\n",
       "      <td>11</td>\n",
       "    </tr>\n",
       "    <tr>\n",
       "      <th>9</th>\n",
       "      <td>No</td>\n",
       "      <td>$51486-$58840</td>\n",
       "      <td>5</td>\n",
       "    </tr>\n",
       "    <tr>\n",
       "      <th>25</th>\n",
       "      <td>Yes</td>\n",
       "      <td>$51486-$58840</td>\n",
       "      <td>1</td>\n",
       "    </tr>\n",
       "    <tr>\n",
       "      <th>10</th>\n",
       "      <td>No</td>\n",
       "      <td>$58841-$66195</td>\n",
       "      <td>4</td>\n",
       "    </tr>\n",
       "    <tr>\n",
       "      <th>26</th>\n",
       "      <td>Yes</td>\n",
       "      <td>$58841-$66195</td>\n",
       "      <td>2</td>\n",
       "    </tr>\n",
       "    <tr>\n",
       "      <th>27</th>\n",
       "      <td>Yes</td>\n",
       "      <td>$59046-$67480</td>\n",
       "      <td>2</td>\n",
       "    </tr>\n",
       "    <tr>\n",
       "      <th>11</th>\n",
       "      <td>No</td>\n",
       "      <td>$59046-$67480</td>\n",
       "      <td>6</td>\n",
       "    </tr>\n",
       "    <tr>\n",
       "      <th>12</th>\n",
       "      <td>No</td>\n",
       "      <td>$66606-$76120</td>\n",
       "      <td>2</td>\n",
       "    </tr>\n",
       "    <tr>\n",
       "      <th>28</th>\n",
       "      <td>Yes</td>\n",
       "      <td>$67481-$75915</td>\n",
       "      <td>1</td>\n",
       "    </tr>\n",
       "    <tr>\n",
       "      <th>13</th>\n",
       "      <td>No</td>\n",
       "      <td>$67481-$75915</td>\n",
       "      <td>2</td>\n",
       "    </tr>\n",
       "    <tr>\n",
       "      <th>14</th>\n",
       "      <td>No</td>\n",
       "      <td>$74166-$84760</td>\n",
       "      <td>1</td>\n",
       "    </tr>\n",
       "    <tr>\n",
       "      <th>15</th>\n",
       "      <td>No</td>\n",
       "      <td>$76121-$85635</td>\n",
       "      <td>2</td>\n",
       "    </tr>\n",
       "    <tr>\n",
       "      <th>29</th>\n",
       "      <td>Yes</td>\n",
       "      <td>$76121-$85635</td>\n",
       "      <td>1</td>\n",
       "    </tr>\n",
       "    <tr>\n",
       "      <th>16</th>\n",
       "      <td>No</td>\n",
       "      <td>$84761-$95355</td>\n",
       "      <td>2</td>\n",
       "    </tr>\n",
       "    <tr>\n",
       "      <th>30</th>\n",
       "      <td>Yes</td>\n",
       "      <td>$84761-$95355</td>\n",
       "      <td>1</td>\n",
       "    </tr>\n",
       "  </tbody>\n",
       "</table>\n",
       "</div>"
      ],
      "text/plain": [
       "   insuranced   income_level  numbers\n",
       "0          No      $0-$21280     6861\n",
       "17        Yes      $0-$21280      453\n",
       "1          No  $21246-$24280     1182\n",
       "18        Yes  $21246-$24280      134\n",
       "2          No  $24281-$27315      369\n",
       "19        Yes  $24281-$27315       51\n",
       "3          No  $28806-$32920      311\n",
       "20        Yes  $28806-$32920       45\n",
       "4          No  $32921-$37035      114\n",
       "21        Yes  $32921-$37035       18\n",
       "5          No  $36366-$41560       44\n",
       "22        Yes  $36366-$41560       19\n",
       "6          No  $41561-$46755       52\n",
       "23        Yes  $41561-$46755       18\n",
       "24        Yes  $43926-$50200        4\n",
       "7          No  $43926-$50200       16\n",
       "8          No  $50201-$56475       11\n",
       "9          No  $51486-$58840        5\n",
       "25        Yes  $51486-$58840        1\n",
       "10         No  $58841-$66195        4\n",
       "26        Yes  $58841-$66195        2\n",
       "27        Yes  $59046-$67480        2\n",
       "11         No  $59046-$67480        6\n",
       "12         No  $66606-$76120        2\n",
       "28        Yes  $67481-$75915        1\n",
       "13         No  $67481-$75915        2\n",
       "14         No  $74166-$84760        1\n",
       "15         No  $76121-$85635        2\n",
       "29        Yes  $76121-$85635        1\n",
       "16         No  $84761-$95355        2\n",
       "30        Yes  $84761-$95355        1"
      ]
     },
     "execution_count": 40,
     "metadata": {},
     "output_type": "execute_result"
    }
   ],
   "source": [
    "income_insurance = income_insurance.sort_values(\"income_level\", ascending = True)\n",
    "income_insurance"
   ]
  },
  {
   "cell_type": "code",
   "execution_count": 41,
   "id": "6aa6ec0a",
   "metadata": {},
   "outputs": [
    {
     "data": {
      "text/plain": [
       "Text(0.5, 0, 'numbers')"
      ]
     },
     "execution_count": 41,
     "metadata": {},
     "output_type": "execute_result"
    },
    {
     "data": {
      "image/png": "[encoded data removed]",
      "text/plain": [
       "<Figure size 432x288 with 1 Axes>"
      ]
     },
     "metadata": {
      "needs_background": "light"
     },
     "output_type": "display_data"
    }
   ],
   "source": [
    "income_insurance.plot(kind=\"barh\")\n",
    "plt.title(\"The relation between income levels and insurance\")\n",
    "plt.ylabel(\"income_level\")\n",
    "plt.xlabel(\"numbers\")\n",
    "## the number of people visit insanure is too small, not very good on the graph. r"
   ]
  },
  {
   "cell_type": "code",
   "execution_count": 56,
   "id": "44964616",
   "metadata": {
    "scrolled": false
   },
   "outputs": [
    {
     "name": "stderr",
     "output_type": "stream",
     "text": [
      "<ipython-input-56-a97065a9ba69>:2: UserWarning: FixedFormatter should only be used together with FixedLocator\n",
      "  ax.set_xticklabels(gender_race.index,rotation=90)\n"
     ]
    },
    {
     "data": {
      "text/plain": [
       "Text(0.5, 1.0, 'The number of patient holds Insurance')"
      ]
     },
     "execution_count": 56,
     "metadata": {},
     "output_type": "execute_result"
    },
    {
     "data": {
      "image/png": "[encoded data removed]",
      "text/plain": [
       "<Figure size 864x720 with 1 Axes>"
      ]
     },
     "metadata": {
      "needs_background": "light"
     },
     "output_type": "display_data"
    }
   ],
   "source": [
    "fig, ax = plt.subplots(figsize=(12, 10)) \n",
    "ax.set_xticklabels(gender_race.index,rotation=90)\n",
    "ax = sns.barplot(x=\"income_level\", y=\"numbers\" ,hue=\"insuranced\", data=income_insurance)\n",
    "plt.title(\"The number of patient holds Insurance\", size=20)"
   ]
  },
  {
   "cell_type": "markdown",
   "id": "797b1dab",
   "metadata": {},
   "source": [
    "# Explore the impact of the Smile On program and the outcomes that are produced for clients. Are clients seeing improvement through the Smile On program?"
   ]
  },
  {
   "cell_type": "markdown",
   "id": "a80c90cd",
   "metadata": {},
   "source": [
    "# Is there any correlation between procedures given and improved outcomes?"
   ]
  },
  {
   "cell_type": "code",
   "execution_count": 70,
   "id": "82c1d313",
   "metadata": {},
   "outputs": [],
   "source": [
    "def succ_func(x):\n",
    "    if x =='Yes':\n",
    "        return True\n",
    "    else:\n",
    "        return False\n",
    "happy_smile = filter(succ_func, smile['treatment_completed'])\n",
    "## don't understant what this filter for. "
   ]
  },
  {
   "cell_type": "code",
   "execution_count": 82,
   "id": "f085b877",
   "metadata": {
    "scrolled": false
   },
   "outputs": [
    {
     "data": {
      "text/plain": [
       "No            3065\n",
       "Yes           2846\n",
       "Edentulous     197\n",
       "Name: future_care, dtype: int64"
      ]
     },
     "execution_count": 82,
     "metadata": {},
     "output_type": "execute_result"
    }
   ],
   "source": [
    "smile.future_care.value_counts()"
   ]
  },
  {
   "cell_type": "code",
   "execution_count": 80,
   "id": "093c093a",
   "metadata": {},
   "outputs": [
    {
     "data": {
      "text/html": [
       "<div>\n",
       "<style scoped>\n",
       "    .dataframe tbody tr th:only-of-type {\n",
       "        vertical-align: middle;\n",
       "    }\n",
       "\n",
       "    .dataframe tbody tr th {\n",
       "        vertical-align: top;\n",
       "    }\n",
       "\n",
       "    .dataframe thead th {\n",
       "        text-align: right;\n",
       "    }\n",
       "</style>\n",
       "<table border=\"1\" class=\"dataframe\">\n",
       "  <thead>\n",
       "    <tr style=\"text-align: right;\">\n",
       "      <th></th>\n",
       "      <th>treatment_completed</th>\n",
       "      <th>future_care</th>\n",
       "      <th>CallerNum</th>\n",
       "    </tr>\n",
       "  </thead>\n",
       "  <tbody>\n",
       "    <tr>\n",
       "      <th>0</th>\n",
       "      <td>No</td>\n",
       "      <td>Edentulous</td>\n",
       "      <td>131</td>\n",
       "    </tr>\n",
       "    <tr>\n",
       "      <th>1</th>\n",
       "      <td>No</td>\n",
       "      <td>No</td>\n",
       "      <td>1584</td>\n",
       "    </tr>\n",
       "    <tr>\n",
       "      <th>2</th>\n",
       "      <td>No</td>\n",
       "      <td>Yes</td>\n",
       "      <td>1775</td>\n",
       "    </tr>\n",
       "    <tr>\n",
       "      <th>3</th>\n",
       "      <td>Yes</td>\n",
       "      <td>Edentulous</td>\n",
       "      <td>24</td>\n",
       "    </tr>\n",
       "    <tr>\n",
       "      <th>4</th>\n",
       "      <td>Yes</td>\n",
       "      <td>No</td>\n",
       "      <td>549</td>\n",
       "    </tr>\n",
       "    <tr>\n",
       "      <th>5</th>\n",
       "      <td>Yes</td>\n",
       "      <td>Yes</td>\n",
       "      <td>239</td>\n",
       "    </tr>\n",
       "  </tbody>\n",
       "</table>\n",
       "</div>"
      ],
      "text/plain": [
       "  treatment_completed future_care  CallerNum\n",
       "0                  No  Edentulous        131\n",
       "1                  No          No       1584\n",
       "2                  No         Yes       1775\n",
       "3                 Yes  Edentulous         24\n",
       "4                 Yes          No        549\n",
       "5                 Yes         Yes        239"
      ]
     },
     "execution_count": 80,
     "metadata": {},
     "output_type": "execute_result"
    }
   ],
   "source": [
    "process = smile.groupby(['treatment_completed','future_care'])[\"CallerNum\"].nunique().reset_index()\n",
    "process"
   ]
  },
  {
   "cell_type": "code",
   "execution_count": 84,
   "id": "71272416",
   "metadata": {
    "scrolled": false
   },
   "outputs": [
    {
     "data": {
      "text/plain": [
       "0        NaN\n",
       "1        NaN\n",
       "2        Yes\n",
       "3        Yes\n",
       "4        Yes\n",
       "        ... \n",
       "57855    NaN\n",
       "57856     No\n",
       "57857    NaN\n",
       "57858    NaN\n",
       "57859    Yes\n",
       "Name: SMILE ON 60+ Treatment Plan - Was a treatment plan developed?, Length: 57860, dtype: object"
      ]
     },
     "execution_count": 84,
     "metadata": {},
     "output_type": "execute_result"
    }
   ],
   "source": [
    "smile[\"SMILE ON 60+ Treatment Plan - Was a treatment plan developed?\"]"
   ]
  },
  {
   "cell_type": "code",
   "execution_count": null,
   "id": "ed6c1bf2",
   "metadata": {},
   "outputs": [],
   "source": [
    "Smile[\"\"]"
   ]
  }
 ],
 "metadata": {
  "kernelspec": {
   "display_name": "Python 3",
   "language": "python",
   "name": "python3"
  },
  "language_info": {
   "codemirror_mode": {
    "name": "ipython",
    "version": 3
   },
   "file_extension": ".py",
   "mimetype": "text/x-python",
   "name": "python",
   "nbconvert_exporter": "python",
   "pygments_lexer": "ipython3",
   "version": "3.8.8"
  }
 },
 "nbformat": 4,
 "nbformat_minor": 5
}
