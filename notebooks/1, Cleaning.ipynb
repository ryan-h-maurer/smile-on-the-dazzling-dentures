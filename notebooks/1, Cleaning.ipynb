{
 "cells": [
  {
   "cell_type": "markdown",
   "id": "37361e45",
   "metadata": {},
   "source": [
    "# explore data"
   ]
  },
  {
   "cell_type": "code",
   "execution_count": null,
   "id": "302c69c5",
   "metadata": {},
   "outputs": [],
   "source": [
    "import pandas as pd\n",
    "import numpy as np\n",
    "import matplotlib.pyplot as plt\n",
    "import re\n",
    "%matplotlib inline"
   ]
  },
  {
   "cell_type": "code",
   "execution_count": null,
   "id": "e36c66c8",
   "metadata": {},
   "outputs": [],
   "source": [
    "pd.set_option('display.max_columns', None)"
   ]
  },
  {
   "cell_type": "markdown",
   "id": "7f97b3be",
   "metadata": {},
   "source": [
    "## might use this to convert column data types prior to csv read"
   ]
  },
  {
   "cell_type": "markdown",
   "id": "34f58bb9",
   "metadata": {},
   "source": [
    "def convert_dtype(x):\n",
    "    if not x:\n",
    "        return ''\n",
    "    try:\n",
    "        return str(x)   \n",
    "    except:        \n",
    "        return ''\n",
    "    \n",
    "pd.read_csv('file.csv',converters={'first_column': convert_dtype,'second_column': convert_dtype})"
   ]
  },
  {
   "cell_type": "code",
   "execution_count": null,
   "id": "479402d7",
   "metadata": {
    "scrolled": false
   },
   "outputs": [],
   "source": [
    "smileon = pd.read_csv('../data/Smileon.2021.10.17.csv', skiprows=2, low_memory = False)\n",
    "smileon.head(2)"
   ]
  },
  {
   "cell_type": "code",
   "execution_count": null,
   "id": "97df02f1",
   "metadata": {
    "scrolled": false
   },
   "outputs": [],
   "source": [
    "smileon.info()"
   ]
  },
  {
   "cell_type": "code",
   "execution_count": null,
   "id": "8a5f419c",
   "metadata": {},
   "outputs": [],
   "source": [
    "list(smileon)"
   ]
  },
  {
   "cell_type": "markdown",
   "id": "306b60d9",
   "metadata": {},
   "source": [
    "### choosing columns to keep"
   ]
  },
  {
   "cell_type": "code",
   "execution_count": null,
   "id": "95f3c771",
   "metadata": {},
   "outputs": [],
   "source": [
    "smileon.columns = [x.replace('\"', '') for x in smileon.columns]"
   ]
  },
  {
   "cell_type": "code",
   "execution_count": null,
   "id": "1f0c5bcd",
   "metadata": {},
   "outputs": [],
   "source": [
    "smileon = (smileon[['CallReportNum',\n",
    "                'ReportVersion',\n",
    "                'CallDateAndTimeStart',\n",
    "                'CallDateAndTimeEnd',\n",
    "                'CallerNum',\n",
    "                'SMILE ON 60+ Screening - # of Upper Natural Teeth',\n",
    "                'SMILE ON 60+ Screening - # of Lower Natural Teeth',\n",
    "                'SMILE ON 60+ Screening - Do you have removable dentures?',\n",
    "                'SMILE ON 60+ Screening - Do you usually wear your denture(s) when you eat?',\n",
    "                'SMILE ON 60+ Screening - How often do you brush your teeth?',\n",
    "                'SMILE ON 60+ Screening - Need for Periodontal Care',\n",
    "                'SMILE ON 60+ Screening - Root Fragments',\n",
    "                'SMILE ON 60+ Screening - Suspicious Soft Tissue Lesions',\n",
    "                'SMILE ON 60+ Screening - Treatment Urgency',\n",
    "                'SMILE ON 60+ Screening - Untreated Decay',]])"
   ]
  },
  {
   "cell_type": "markdown",
   "id": "01dd36c7",
   "metadata": {},
   "source": [
    "### clean column names"
   ]
  },
  {
   "cell_type": "code",
   "execution_count": null,
   "id": "f541d4fc",
   "metadata": {},
   "outputs": [],
   "source": [
    "smileon.columns = [x.replace('SMILE ON 60+', '') for x in smileon.columns]\n",
    "smileon.columns = [x.replace('DateAndTime', '') for x in smileon.columns]\n",
    "smileon.columns = [x.replace('Screening -', '') for x in smileon.columns]\n",
    "smileon.columns = [x.replace('Treatment Plan -', '') for x in smileon.columns]\n",
    "smileon.columns = [x.replace('Verification of Eligibility -', '') for x in smileon.columns]\n",
    "smileon.columns = [x.replace('Site Information', '') for x in smileon.columns]\n",
    "smileon.columns = [x.replace('-', '') for x in smileon.columns]\n",
    "smileon.columns = [x.replace('Do you have', '') for x in smileon.columns]\n",
    "smileon.columns = [x.replace('Do you usually wear your', '') for x in smileon.columns]\n",
    "smileon.columns = [x.replace('Name', '') for x in smileon.columns]"
   ]
  },
  {
   "cell_type": "code",
   "execution_count": null,
   "id": "d6e81e92",
   "metadata": {},
   "outputs": [],
   "source": [
    "smileon.columns = smileon.columns.str.lower()"
   ]
  },
  {
   "cell_type": "code",
   "execution_count": null,
   "id": "4f1a1a2d",
   "metadata": {},
   "outputs": [],
   "source": [
    "smileon.head(2)"
   ]
  },
  {
   "cell_type": "markdown",
   "id": "07046ba8",
   "metadata": {},
   "source": [
    "social_six = smileon.loc[smileon[''] == 'Yes']"
   ]
  },
  {
   "cell_type": "code",
   "execution_count": null,
   "id": "6d41ba07",
   "metadata": {
    "scrolled": true
   },
   "outputs": [],
   "source": [
    "smileon.head(3)"
   ]
  },
  {
   "cell_type": "code",
   "execution_count": null,
   "id": "62b8796a",
   "metadata": {},
   "outputs": [],
   "source": [
    "smileon.info()"
   ]
  },
  {
   "cell_type": "code",
   "execution_count": null,
   "id": "ff25b3af",
   "metadata": {
    "scrolled": true
   },
   "outputs": [],
   "source": [
    "smileon.value_counts('callernum')"
   ]
  },
  {
   "cell_type": "code",
   "execution_count": null,
   "id": "e8615b3a",
   "metadata": {},
   "outputs": [],
   "source": [
    "smileon.value_counts(\"reportversion\")"
   ]
  },
  {
   "cell_type": "code",
   "execution_count": null,
   "id": "1e3979be",
   "metadata": {},
   "outputs": [],
   "source": [
    "nash = smileon.loc[smileon['city'] == 'Nashville']\n",
    "nash"
   ]
  },
  {
   "cell_type": "code",
   "execution_count": null,
   "id": "02416b3e",
   "metadata": {},
   "outputs": [],
   "source": [
    "plt.scatter(x='postalcode', y= 'callernum', data=smileon)"
   ]
  },
  {
   "cell_type": "markdown",
   "id": "d647682e",
   "metadata": {},
   "source": [
    "for i in range(len(vallist)):\n",
    "    if vallist[i] >= 10:\n",
    "    vallist[i] = letters[i]"
   ]
  },
  {
   "cell_type": "markdown",
   "id": "efb2bc0c",
   "metadata": {},
   "source": [
    "i = 'SMILE ON 60+'\n",
    "smileon_clean = []\n",
    "for i in range(len(smileon)):\n",
    "    if column = i\n",
    "    re.sub(i, \"\", smileon)"
   ]
  }
 ],
 "metadata": {
  "kernelspec": {
   "display_name": "Python 3",
   "language": "python",
   "name": "python3"
  },
  "language_info": {
   "codemirror_mode": {
    "name": "ipython",
    "version": 3
   },
   "file_extension": ".py",
   "mimetype": "text/x-python",
   "name": "python",
   "nbconvert_exporter": "python",
   "pygments_lexer": "ipython3",
   "version": "3.8.8"
  }
 },
 "nbformat": 4,
 "nbformat_minor": 5
}
