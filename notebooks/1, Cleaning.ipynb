{
 "cells": [
  {
   "cell_type": "markdown",
   "id": "37361e45",
   "metadata": {},
   "source": [
    "# explore data"
   ]
  },
  {
   "cell_type": "code",
   "execution_count": null,
   "id": "302c69c5",
   "metadata": {},
   "outputs": [],
   "source": [
    "import pandas as pd\n",
    "import numpy as np\n",
    "import matplotlib.pyplot as plt\n",
    "import re\n",
    "%matplotlib inline"
   ]
  },
  {
   "cell_type": "code",
   "execution_count": null,
   "id": "19722f6c",
   "metadata": {},
   "outputs": [],
   "source": [
    "pd.set_option('display.max_columns', None)"
   ]
  },
  {
   "cell_type": "markdown",
   "id": "7f97b3be",
   "metadata": {},
   "source": [
    "## might use this to convert column data types prior to csv read"
   ]
  },
  {
   "cell_type": "markdown",
   "id": "34f58bb9",
   "metadata": {},
   "source": [
    "def convert_dtype(x):\n",
    "    if not x:\n",
    "        return ''\n",
    "    try:\n",
    "        return str(x)   \n",
    "    except:        \n",
    "        return ''\n",
    "    \n",
    "pd.read_csv('file.csv',converters={'first_column': convert_dtype,'second_column': convert_dtype})"
   ]
  },
  {
   "cell_type": "code",
   "execution_count": null,
   "id": "479402d7",
   "metadata": {
    "scrolled": false
   },
   "outputs": [],
   "source": [
    "smileon = pd.read_csv('../data/Smileon.2021.10.17.csv', skiprows=2, low_memory = False)\n",
    "smileon.head(2)"
   ]
  },
  {
   "cell_type": "code",
   "execution_count": null,
   "id": "97df02f1",
   "metadata": {
    "scrolled": false
   },
   "outputs": [],
   "source": [
    "smileon.info()"
   ]
  },
  {
   "cell_type": "code",
   "execution_count": null,
   "id": "8a5f419c",
   "metadata": {},
   "outputs": [],
   "source": [
    "list(smileon)"
   ]
  },
  {
   "cell_type": "markdown",
   "id": "306b60d9",
   "metadata": {},
   "source": [
    "### choosing columns to keep"
   ]
  },
  {
   "cell_type": "code",
   "execution_count": null,
   "id": "95f3c771",
   "metadata": {},
   "outputs": [],
   "source": [
    "smileon.columns = [x.replace('\"', '') for x in smileon.columns]"
   ]
  },
  {
   "cell_type": "code",
   "execution_count": null,
   "id": "1f0c5bcd",
   "metadata": {},
   "outputs": [],
   "source": [
    "smileon = (smileon[['CallReportNum',\n",
    "                'ReportVersion',\n",
    "                'CallDateAndTimeStart',\n",
    "                'CallDateAndTimeEnd',\n",
    "                'CallerNum',\n",
    "                'CityName',\n",
    "                'SMILE ON 60+ Screening - # of Upper Natural Teeth',\n",
    "                'SMILE ON 60+ Screening - # of Lower Natural Teeth',\n",
    "                'SMILE ON 60+ Screening - Do you have removable dentures?',\n",
    "                'SMILE ON 60+ Screening - Do you usually wear your denture(s) when you eat?',\n",
    "                'SMILE ON 60+ Screening - How often do you brush your teeth?',\n",
    "                'SMILE ON 60+ Screening - Need for Periodontal Care',\n",
    "                'SMILE ON 60+ Screening - Root Fragments',\n",
    "                'SMILE ON 60+ Screening - Suspicious Soft Tissue Lesions',\n",
    "                'SMILE ON 60+ Screening - Treatment Urgency',\n",
    "                'SMILE ON 60+ Screening - Untreated Decay',]])"
   ]
  },
  {
   "cell_type": "markdown",
   "id": "01dd36c7",
   "metadata": {},
   "source": [
    "### clean column names"
   ]
  },
  {
   "cell_type": "code",
   "execution_count": null,
   "id": "f541d4fc",
   "metadata": {},
   "outputs": [],
   "source": [
    "smileon.columns = [x.replace('SMILE ON 60+', '') for x in smileon.columns]\n",
    "smileon.columns = [x.replace('DateAndTime', '') for x in smileon.columns]\n",
    "smileon.columns = [x.replace('Screening -', '') for x in smileon.columns]\n",
    "smileon.columns = [x.replace('Treatment Plan -', '') for x in smileon.columns]\n",
    "smileon.columns = [x.replace('Verification of Eligibility -', '') for x in smileon.columns]\n",
    "smileon.columns = [x.replace('Site Information', '') for x in smileon.columns]\n",
    "smileon.columns = [x.replace('-', '') for x in smileon.columns]\n",
    "smileon.columns = [x.replace('Do you have', '') for x in smileon.columns]\n",
    "smileon.columns = [x.replace('Do you usually wear your', '') for x in smileon.columns]\n",
    "smileon.columns = [x.replace('Name', '') for x in smileon.columns]\n",
    "smileon.columns = [x.replace(' ', '_') for x in smileon.columns]\n",
    "smileon.columns = [x.replace('#', 'num') for x in smileon.columns]\n",
    "smileon.columns = [x.replace('__', '') for x in smileon.columns]\n",
    "smileon.columns = [x.replace('?', '') for x in smileon.columns]"
   ]
  },
  {
   "cell_type": "code",
   "execution_count": null,
   "id": "d6e81e92",
   "metadata": {},
   "outputs": [],
   "source": [
    "smileon.columns = smileon.columns.str.lower()"
   ]
  },
  {
   "cell_type": "code",
   "execution_count": null,
   "id": "e18cd1f2",
   "metadata": {},
   "outputs": [],
   "source": [
    "smileon = smileon.rename(columns={'_removable_dentures': 'removable_dentures'})\n",
    "smileon = smileon.rename(columns={'_denture(s)_when_you_eat': 'denture(s)_when_you_eat'})\n",
    "smileon = smileon.rename(columns={'__num_of_upper_natural_teeth': 'upper_natural'})"
   ]
  },
  {
   "cell_type": "code",
   "execution_count": null,
   "id": "0c1e766c",
   "metadata": {},
   "outputs": [],
   "source": [
    "smileon.columns = [x.replace('_', ' ') for x in smileon.columns]"
   ]
  },
  {
   "cell_type": "code",
   "execution_count": null,
   "id": "4f1a1a2d",
   "metadata": {},
   "outputs": [],
   "source": [
    "smileon.head(2)"
   ]
  },
  {
   "cell_type": "code",
   "execution_count": null,
   "id": "62b8796a",
   "metadata": {},
   "outputs": [],
   "source": [
    "smileon.info()"
   ]
  },
  {
   "cell_type": "code",
   "execution_count": null,
   "id": "ff25b3af",
   "metadata": {
    "scrolled": true
   },
   "outputs": [],
   "source": [
    "smileon.value_counts('callernum')"
   ]
  },
  {
   "cell_type": "code",
   "execution_count": null,
   "id": "e8615b3a",
   "metadata": {
    "scrolled": true
   },
   "outputs": [],
   "source": [
    "smileon.value_counts(\"reportversion\")"
   ]
  },
  {
   "cell_type": "code",
   "execution_count": null,
   "id": "4180ac31",
   "metadata": {},
   "outputs": [],
   "source": [
    "smileon.value_counts(\"city\")"
   ]
  },
  {
   "cell_type": "code",
   "execution_count": null,
   "id": "c7e123f0",
   "metadata": {},
   "outputs": [],
   "source": [
    "memp = smileon.loc[smileon['city'] == 'Memphis']\n",
    "memp"
   ]
  },
  {
   "cell_type": "code",
   "execution_count": null,
   "id": "1e3979be",
   "metadata": {
    "scrolled": true
   },
   "outputs": [],
   "source": [
    "nash = smileon.loc[smileon['city'] == 'Nashville']\n",
    "nash"
   ]
  },
  {
   "cell_type": "code",
   "execution_count": null,
   "id": "3068c1db",
   "metadata": {},
   "outputs": [],
   "source": [
    "smileon.to_csv('../data/smile_clean.csv')"
   ]
  },
  {
   "cell_type": "code",
   "execution_count": null,
   "id": "f9e245ea",
   "metadata": {},
   "outputs": [],
   "source": [
    "nash.to_csv('../data/nash_visitors.csv')"
   ]
  },
  {
   "cell_type": "code",
   "execution_count": null,
   "id": "229a03a7",
   "metadata": {},
   "outputs": [],
   "source": [
    "memp.to_csv('../data/memp_visitors.csv')"
   ]
  },
  {
   "cell_type": "markdown",
   "id": "74d2b1b1",
   "metadata": {},
   "source": [
    "plt.scatter(x='postalcode', y= 'callernum', data=smileon)"
   ]
  },
  {
   "cell_type": "markdown",
   "id": "d647682e",
   "metadata": {},
   "source": [
    "for i in range(len(vallist)):\n",
    "    if vallist[i] >= 10:\n",
    "    vallist[i] = letters[i]"
   ]
  },
  {
   "cell_type": "markdown",
   "id": "efb2bc0c",
   "metadata": {},
   "source": [
    "i = 'SMILE ON 60+'\n",
    "smileon_clean = []\n",
    "for i in range(len(smileon)):\n",
    "    if column = i\n",
    "    re.sub(i, \"\", smileon)"
   ]
  },
  {
   "cell_type": "markdown",
   "id": "f37aad62",
   "metadata": {},
   "source": [
    "#MF's column renaming"
   ]
  },
  {
   "cell_type": "markdown",
   "id": "a5431ca3",
   "metadata": {},
   "source": [
    "smile = smile.rename(columns={'SMILE ON 60+ Oral Care Encounter - 1351 - Quantity': 'Sealant-per tooth- 1351'})\n",
    "smile = smile.rename(columns={'SMILE ON 60+ Oral Care Encounter - 1354 - Quantity': 'Interim caries arresting medicament application (silver ion products) per tooth- 1354'})\n",
    "smile = smile.rename(columns={'SMILE ON 60+ Oral Care Encounter - 2140 - Quantity': 'Amalgam-one surface permanent - 15 +-2140'})\n",
    "smile = smile.rename(columns={'SMILE ON 60+ Oral Care Encounter - 2150 - Quantity': 'Amalgam-two surfaces permanent - 15 +- 2150'})\n",
    "smile = smile.rename(columns={'SMILE ON 60+ Oral Care Encounter - 2160 - Quantity': 'Amalgam-three surfaces permanent - 15 +- 2160'})\n",
    "smile = smile.rename(columns={'SMILE ON 60+ Oral Care Encounter - 2161 - Quantity': 'Amalgam-four surface/perm - 15 +- 2161'})\n",
    "smile = smile.rename(columns={'SMILE ON 60+ Oral Care Encounter - 230 - Quantity': 'Intraoral-Periapical Each Additional film - 5 +-230'})\n",
    "smile = smile.rename(columns={'SMILE ON 60+ Oral Care Encounter - 2330 - Quantity': 'Resin one surface - Anterior - 15 +- 2330'})\n",
    "smile = smile.rename(columns={'SMILE ON 60+ Oral Care Encounter - 2331 - Quantity': 'Resin two surfaces - Anterior - 15 +- 2331'})\n",
    "smile = smile.rename(columns={'SMILE ON 60+ Oral Care Encounter - 2332 - Quantity': 'Resin three surfaces - Anterior - 15 +- 2332'})\n",
    "smile = smile.rename(columns={'SMILE ON 60+ Oral Care Encounter - 2335 - Quantity': 'Resin four surfaces or w incis - Anterior - 15 +- 2335'})\n",
    "smile = smile.rename(columns={'SMILE ON 60+ Oral Care Encounter - 2390 - Quantity': 'Ant. Resin-based cmpst crown - 30 +- 2390'})\n",
    "smile = smile.rename(columns={'SMILE ON 60+ Oral Care Encounter - 2391 - Quantity': 'Posterior one surface resin - 15 +-2391'})\n",
    "smile = smile.rename(columns={'SMILE ON 60+ Oral Care Encounter - 2392 - Quantity': 'Posterior two surface resin - 15 +-2392'})\n",
    "smile = smile.rename(columns={'SMILE ON 60+ Oral Care Encounter - 2394 - Quantity': 'Posterior four surface resin - 15 +- 2394'})\n",
    "smile = smile.rename(columns={'SMILE ON 60+ Oral Care Encounter - 2920 - Quantity': 'Recement crown - 15 +-2920'})\n",
    "smile = smile.rename(columns={'SMILE ON 60+ Oral Care Encounter - 2933 - Quantity': 'Prefabricated stainless steel crown - 30 +- 2933'})\n",
    "smile = smile.rename(columns={'SMILE ON 60+ Oral Care Encounter - 2940 - Quantity': 'Sedative filling - 15 +- 2940'})\n",
    "smile = smile.rename(columns={'SMILE ON 60+ Oral Care Encounter - 2954 - Quantity': 'Prefabricated post and core - 15 +-2954'})\n",
    "smile = smile.rename(columns={'Sedative filling - 15 +': 'Sedative filling - 15 +-2940'})\n",
    "smile = smile.rename(columns={'Prefabricated stainless steel crown - 30 +': 'Prefabricated stainless steel crown - 30 +- 2933'})\n",
    "smile = smile.rename(columns={'SMILE ON 60+ Oral Care Encounter - 2980 - Quantity': 'Crown repair - 15 +- 2980'})\n",
    "smile = smile.rename(columns={'SMILE ON 60+ Oral Care Encounter - 3220 - Quantity': 'Therpeutic pulpotomy - 15 +-3220'})\n",
    "smile = smile.rename(columns={'SMILE ON 60+ Oral Care Encounter - 4341 - Quantity': 'Periodontal scaling/root planing 4+ teeth per quadrant - 45 +- 4341'})\n",
    "smile = smile.rename(columns={'SMILE ON 60+ Oral Care Encounter - 6930 - Quantity': 'Recement bridge - 15 +- 6930'})\n",
    "smile = smile.rename(columns={'SMILE ON 60+ Oral Care Encounter - 6980 - Quantity': 'Bridge repair - 15 +- 6980'})\n",
    "smile = smile.rename(columns={'SMILE ON 60+ Oral Care Encounter - 7111 - Quantity': 'Extraction - coronal remnants of primary tooth - 15 +- 7111'})\n",
    "smile = smile.rename(columns={'SMILE ON 60+ Oral Care Encounter - 7210 - Quantity': 'Extraction surgical (requires removal of bone and/or mucoperiosteal flap) - 15 +- 7210'})\n",
    "smile = smile.rename(columns={'SMILE ON 60+ Oral Care Encounter - 7230 - Quantity': 'Removal of impacted tooth-partially bony - 15 +- 7230'})\n",
    "smile = smile.rename(columns={'SMILE ON 60+ Oral Care Encounter - 7240 - Quantity': 'Removal of impacted tooth-complete bony - 30 +-7240'})\n",
    "smile = smile.rename(columns={'SMILE ON 60+ Oral Care Encounter - 7250 - Quantity': 'Surgical removal of residual tooth roots (includes cutting of soft tissue and bone and closure) - 15 +- 7250'})\n",
    "smile = smile.rename(columns={'SMILE ON 60+ Oral Care Encounter - 7286 - Quantity': 'Biopsy of oral tissue-soft(all others) - 15 +- 7286'})\n",
    "smile = smile.rename(columns={'SMILE ON 60+ Oral Care Encounter - 7310 - Quantity': 'Alveoloplasty in conjuction with extractions (4 or more teeth or tooth spaces per quadrant) - 15 +- 7310'})\n",
    "smile = smile.rename(columns={'SMILE ON 60+ Oral Care Encounter - 7311 - Quantity': 'Alveoloplasty in conjunction with extractions (1-3 teeth or tooth spaces per quadrant) - 15 - 7311'})\n",
    "smile = smile.rename(columns={'SMILE ON 60+ Oral Care Encounter - 7321 - Quantity': 'Alveoplasty not in conjunction with extractions (1-3 teeth or tooth spaces per quadrant) - 15 +- 7321'})\n",
    "smile = smile.rename(columns={'SMILE ON 60+ Oral Care Encounter - 7410 - Quantity': 'Excision of benign lesion up to 1.25 cm - 15 +- 7310'})\n",
    "smile = smile.rename(columns={'SMILE ON 60+ Oral Care Encounter - 7971 - Quantity': 'Excision of pericoronal gingiva - 15 +- 7971'})\n",
    "smile = smile.rename(columns={'SMILE ON 60+ Oral Care Encounter - 9110 - Quantity': 'Palliative (emergency) treatment of dental pain - minor procedure - 15 +- 9110'})\n",
    "smile = smile.rename(columns={'SMILE ON 60+ Oral Care Encounter - 9951 - Quantity': 'Limited occlusal adjustment - 15 +- 9951'})"
   ]
  }
 ],
 "metadata": {
  "kernelspec": {
   "display_name": "Python 3",
   "language": "python",
   "name": "python3"
  },
  "language_info": {
   "codemirror_mode": {
    "name": "ipython",
    "version": 3
   },
   "file_extension": ".py",
   "mimetype": "text/x-python",
   "name": "python",
   "nbconvert_exporter": "python",
   "pygments_lexer": "ipython3",
   "version": "3.8.8"
  }
 },
 "nbformat": 4,
 "nbformat_minor": 5
}
