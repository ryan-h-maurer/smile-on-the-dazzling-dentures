{
 "cells": [
  {
   "cell_type": "markdown",
   "id": "37361e45",
   "metadata": {},
   "source": [
    "# explore data"
   ]
  },
  {
   "cell_type": "code",
   "execution_count": null,
   "id": "302c69c5",
   "metadata": {},
   "outputs": [],
   "source": [
    "import pandas as pd\n",
    "import numpy as np\n",
    "import matplotlib.pyplot as plt\n",
    "import re\n",
    "%matplotlib inline"
   ]
  },
  {
   "cell_type": "code",
   "execution_count": null,
   "id": "19722f6c",
   "metadata": {},
   "outputs": [],
   "source": [
    "pd.set_option('display.max_columns', None)"
   ]
  },
  {
   "cell_type": "code",
   "execution_count": null,
   "id": "e723ff88",
   "metadata": {},
   "outputs": [],
   "source": [
    "def convert_dtype(x):\n",
    "    if not x:\n",
    "        return ''\n",
    "    try:\n",
    "        return str(x)   \n",
    "    except:        \n",
    "        return ''\n",
    "    \n",
    "def convert_dtypea(x):\n",
    "    if not x:\n",
    "        return ''\n",
    "    try:\n",
    "        return int(x)   \n",
    "    except:        \n",
    "        return ''"
   ]
  },
  {
   "cell_type": "code",
   "execution_count": null,
   "id": "479402d7",
   "metadata": {
    "scrolled": false
   },
   "outputs": [],
   "source": [
    "smileon = pd.read_csv('../data/Smileon.2021.10.17.csv', skiprows=2, low_memory = False)\n",
    "smileon.head(2)"
   ]
  },
  {
   "cell_type": "code",
   "execution_count": null,
   "id": "97df02f1",
   "metadata": {
    "scrolled": false
   },
   "outputs": [],
   "source": [
    "smileon.info()"
   ]
  },
  {
   "cell_type": "code",
   "execution_count": null,
   "id": "8a5f419c",
   "metadata": {},
   "outputs": [],
   "source": [
    "list(smileon)"
   ]
  },
  {
   "cell_type": "markdown",
   "id": "306b60d9",
   "metadata": {},
   "source": [
    "### choosing columns to keep"
   ]
  },
  {
   "cell_type": "code",
   "execution_count": null,
   "id": "95f3c771",
   "metadata": {},
   "outputs": [],
   "source": [
    "smileon.columns = [x.replace('\"', '') for x in smileon.columns]"
   ]
  },
  {
   "cell_type": "code",
   "execution_count": null,
   "id": "1f0c5bcd",
   "metadata": {},
   "outputs": [],
   "source": [
    "smileon = (smileon[['CallReportNum',\n",
    "                'CallerNum',\n",
    "                'CityName',\n",
    "                'SMILE ON 60+ Screening - # of Upper Natural Teeth',\n",
    "                'SMILE ON 60+ Screening - # of Lower Natural Teeth',\n",
    "                'SMILE ON 60+ Screening - Do you have removable dentures?',\n",
    "                'SMILE ON 60+ Screening - Do you usually wear your denture(s) when you eat?',\n",
    "                'SMILE ON 60+ Screening - Need for Periodontal Care',\n",
    "                'SMILE ON 60+ Screening - Root Fragments',\n",
    "                'SMILE ON 60+ Screening - Suspicious Soft Tissue Lesions',\n",
    "                'SMILE ON 60+ Screening - Treatment Urgency',\n",
    "                'SMILE ON 60+ Screening - Untreated Decay',]])"
   ]
  },
  {
   "cell_type": "markdown",
   "id": "01dd36c7",
   "metadata": {},
   "source": [
    "### clean column names"
   ]
  },
  {
   "cell_type": "code",
   "execution_count": null,
   "id": "f541d4fc",
   "metadata": {},
   "outputs": [],
   "source": [
    "smileon.columns = [x.replace('SMILE ON 60+', '') for x in smileon.columns]\n",
    "smileon.columns = [x.replace('DateAndTime', '') for x in smileon.columns]\n",
    "smileon.columns = [x.replace('Screening -', '') for x in smileon.columns]\n",
    "smileon.columns = [x.replace('Treatment Plan -', '') for x in smileon.columns]\n",
    "smileon.columns = [x.replace('Verification of Eligibility -', '') for x in smileon.columns]\n",
    "smileon.columns = [x.replace('Site Information', '') for x in smileon.columns]\n",
    "smileon.columns = [x.replace('-', '') for x in smileon.columns]\n",
    "smileon.columns = [x.replace('Do you have', '') for x in smileon.columns]\n",
    "smileon.columns = [x.replace('Do you usually wear your', '') for x in smileon.columns]\n",
    "smileon.columns = [x.replace('Name', '') for x in smileon.columns]\n",
    "smileon.columns = [x.replace(' ', '_') for x in smileon.columns]\n",
    "smileon.columns = [x.replace('#', 'num') for x in smileon.columns]\n",
    "smileon.columns = [x.replace('__', '') for x in smileon.columns]\n",
    "smileon.columns = [x.replace('?', '') for x in smileon.columns]"
   ]
  },
  {
   "cell_type": "code",
   "execution_count": null,
   "id": "d6e81e92",
   "metadata": {},
   "outputs": [],
   "source": [
    "smileon.columns = smileon.columns.str.lower()"
   ]
  },
  {
   "cell_type": "code",
   "execution_count": null,
   "id": "e18cd1f2",
   "metadata": {},
   "outputs": [],
   "source": [
    "smileon = smileon.rename(columns={'_removable_dentures': 'removable_dentures'})\n",
    "smileon = smileon.rename(columns={'_denture(s)_when_you_eat': 'denture(s)_when_you_eat'})\n",
    "smileon = smileon.rename(columns={'__num_of_upper_natural_teeth': 'upper_natural'})"
   ]
  },
  {
   "cell_type": "code",
   "execution_count": null,
   "id": "0c1e766c",
   "metadata": {},
   "outputs": [],
   "source": [
    "smileon.columns = [x.replace('_', ' ') for x in smileon.columns]"
   ]
  },
  {
   "cell_type": "code",
   "execution_count": null,
   "id": "8e57aecb",
   "metadata": {},
   "outputs": [],
   "source": [
    "smileon = smileon.loc[smileon['callernum'] >0]\n",
    "smileon"
   ]
  },
  {
   "cell_type": "code",
   "execution_count": null,
   "id": "4f1a1a2d",
   "metadata": {},
   "outputs": [],
   "source": [
    "smileon.head(2)"
   ]
  },
  {
   "cell_type": "code",
   "execution_count": null,
   "id": "62b8796a",
   "metadata": {
    "scrolled": true
   },
   "outputs": [],
   "source": [
    "smileon.info()"
   ]
  },
  {
   "cell_type": "code",
   "execution_count": null,
   "id": "ff25b3af",
   "metadata": {
    "scrolled": true
   },
   "outputs": [],
   "source": [
    "smileon.value_counts('callernum')"
   ]
  },
  {
   "cell_type": "code",
   "execution_count": null,
   "id": "4180ac31",
   "metadata": {},
   "outputs": [],
   "source": [
    "smileon.value_counts(\"city\")"
   ]
  },
  {
   "cell_type": "code",
   "execution_count": null,
   "id": "c7e123f0",
   "metadata": {},
   "outputs": [],
   "source": [
    "memp = smileon.loc[smileon['city'] == 'Memphis']\n",
    "memp"
   ]
  },
  {
   "cell_type": "code",
   "execution_count": null,
   "id": "1e3979be",
   "metadata": {
    "scrolled": false
   },
   "outputs": [],
   "source": [
    "nash = smileon.loc[smileon['city'] == 'Nashville']\n",
    "nash"
   ]
  },
  {
   "cell_type": "markdown",
   "id": "a6e9994f",
   "metadata": {},
   "source": [
    "### save clean csv's"
   ]
  },
  {
   "cell_type": "code",
   "execution_count": null,
   "id": "3068c1db",
   "metadata": {},
   "outputs": [],
   "source": [
    "smileon.to_csv('../data/smile_clean.csv')"
   ]
  },
  {
   "cell_type": "code",
   "execution_count": null,
   "id": "f9e245ea",
   "metadata": {},
   "outputs": [],
   "source": [
    "nash.to_csv('../data/nash_visitors.csv')"
   ]
  }
 ],
 "metadata": {
  "kernelspec": {
   "display_name": "Python 3",
   "language": "python",
   "name": "python3"
  },
  "language_info": {
   "codemirror_mode": {
    "name": "ipython",
    "version": 3
   },
   "file_extension": ".py",
   "mimetype": "text/x-python",
   "name": "python",
   "nbconvert_exporter": "python",
   "pygments_lexer": "ipython3",
   "version": "3.8.8"
  }
 },
 "nbformat": 4,
 "nbformat_minor": 5
}
