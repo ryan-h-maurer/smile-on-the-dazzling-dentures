{
 "cells": [
  {
   "cell_type": "code",
   "execution_count": 1,
   "id": "73267509",
   "metadata": {},
   "outputs": [],
   "source": [
    "import pandas as pd\n",
    "import numpy as np\n",
    "import re\n",
    "import matplotlib.pyplot as plt\n",
    "import dtale\n",
    "import seaborn as sns"
   ]
  },
  {
   "cell_type": "code",
   "execution_count": 2,
   "id": "6be1dd1d",
   "metadata": {},
   "outputs": [],
   "source": [
    "pd.set_option('display.max_columns', None)\n",
    "%matplotlib inline"
   ]
  },
  {
   "cell_type": "markdown",
   "id": "67dd0316",
   "metadata": {},
   "source": [
    "Data Cleaning\n",
    "-"
   ]
  },
  {
   "cell_type": "code",
   "execution_count": 3,
   "id": "fffc62b2",
   "metadata": {},
   "outputs": [],
   "source": [
    "def convert_dtype(x):\n",
    "    if not x:\n",
    "        return ''\n",
    "    try:\n",
    "        return str(x)\n",
    "    except:\n",
    "        return ''\n",
    "def convert_dtypea(x):\n",
    "    if not x:\n",
    "        return ''\n",
    "    try:\n",
    "        return int(x)\n",
    "    except:\n",
    "        return ''\n",
    "    \n",
    "smile = pd.read_csv('../data/Smileon.2021.10.17.csv', skiprows=2, header=0, encoding='latin-1', converters={\n",
    "     'LinkedToCallReportNum':convert_dtype,'ThirdPartyStateProvince':convert_dtype, 'FeedbackFromPhoneWorkerName':convert_dtype,\n",
    "'SMILE ON 60+ Demographic Information - # of People in Household':convert_dtypea, 'Birth Year':convert_dtypea, 'SMILE ON 60+ Oral Care Encounter - 2393 - Quantity':convert_dtypea,\n",
    "'SMILE ON 60+ Oral Care Encounter - 2950 - Quantity':convert_dtypea, 'SMILE ON 60+ Oral Care Encounter - 4342 - Quantity':convert_dtypea,\n",
    "'SMILE ON 60+ Oral Care Encounter - 7140 - Quantity':convert_dtypea, 'SMILE ON 60+ Oral Care Encounter - 7320 - Quantity':convert_dtypea,\n",
    "'SMILE ON 60+ Oral Care Encounter - Lab Assist narrative':convert_dtype, 'SMILE ON 60+ Case Management Information - What is the outcome for the client?':convert_dtype,\n",
    "'SMILE ON 60+ Case Management Information - Dental Clinic':convert_dtype})"
   ]
  },
  {
   "cell_type": "code",
   "execution_count": 4,
   "id": "a71210e7",
   "metadata": {},
   "outputs": [],
   "source": [
    "df = smile"
   ]
  },
  {
   "cell_type": "code",
   "execution_count": 5,
   "id": "9652e947",
   "metadata": {},
   "outputs": [],
   "source": [
    "df = df.drop(columns = 'SMILE ON 60+ Base-line Oral and Conditions Questions - Dental Clinic')\n",
    "df = df.drop(columns = 'SMILE ON 60+ Case Management Information - Dental Clinic')\n",
    "df = df.drop(columns = 'SMILE ON 60+ Presumptive Eligibility - What is the next step for clients encounter?')\n",
    "df = df.drop(columns = 'SMILE ON 60+ Oral Care Encounter - Was the enrollee able to be restored to function (can chew) and \"social six\" esthetics (top front six teeth are present and disease free)')"
   ]
  },
  {
   "cell_type": "code",
   "execution_count": 6,
   "id": "d44fe3ae",
   "metadata": {},
   "outputs": [],
   "source": [
    "##used this for general data cleaning\n",
    "df.columns = [x.replace('SMILE ON 60+ Demographic Information -','') for x in df.columns]\n",
    "df.columns = [x.replace(' - Quantity','') for x in df.columns]\n",
    "df.columns = [x.replace('SMILE ON 60+ Screening -','') for x in df.columns]\n",
    "df.columns = [x.replace('SMILE ON 60+ Base-line Oral and Conditions Questions - ','') for x in df.columns]\n",
    "df.columns = [x.replace('SMILE ON 60+ Case Management Information - ','') for x in df.columns]\n",
    "df.columns = [x.replace('(Select all that apply)','') for x in df.columns]\n",
    "df.columns = [x.replace('SMILE ON 60+ Case Management Information - ','') for x in df.columns]\n",
    "df.columns = [x.replace('SMILE ON 60+ Demographic Information - ','') for x in df.columns]\n",
    "df.columns = [x.replace('SMILE ON 60+ Screening -','') for x in df.columns]\n",
    "df.columns = [x.replace('SMILE ON 60+ Clinic Information - ','') for x in df.columns]"
   ]
  },
  {
   "cell_type": "code",
   "execution_count": 7,
   "id": "d984020e",
   "metadata": {},
   "outputs": [],
   "source": [
    "df_clean = df.drop(columns = ['ReportVersion','LinkedToCallReportNum','CallDateAndTimeEnd','CallLength',\n",
    "            'PhoneWorkerNum','WasRealCall','WasHangup','WasSexCall','WasWrongNumber',\n",
    "            'WasPrankCall','WasSilentCall','GeoCode','GeoAssignment','CensusDivision','CensusTrack',\n",
    "            'CensusReportingArea','211Region','PhoneType','ThirdPartyName','ThirdPartyOrganization',\n",
    "            'ThirdPartyPhoneNumber','ThirdPartyAddress','ThirdPartyCity','ThirdPartyCounty',\n",
    "            'ThirdPartyStateProvince','ThirdPartyPostalCode','Narrative','VolunteerComments',\n",
    "            'Feedback','CallersFeedback','TextField2','TextField3','TextField4','TextField5',\n",
    "            'TextField6','TextField7','TextField8','TextField9','TextField10','EnteredByWorkerNum',\n",
    "            'EnteredOn','Supervisor','Reviewed','FeedbackStatus','FeedbackFromPhoneWorkerNum',\n",
    "             'FeedbackFromPhoneWorkerName','ReferralsMade','IPAddress','OrgNum','VolIdentifier',\n",
    "            'SMILE ON 60+ Verification of Eligibility - Verification Date',\n",
    "            'Did the client commit to referral?','Did you help in these other areas?',\n",
    "             'Transportation Barriers','Action: Upload Before Picture on Finish Tab','Was initial appointment made?',\n",
    "            'Was initial transportation assistance or referral provided?',\n",
    "            'SMILE ON 60+ Oral Care Encounter - Action: Upload After Picture on Finish Tab',\n",
    "            'SMILE ON 60+ Presumptive Eligibility - Dental Insurance?','SMILE ON 60+ Presumptive Eligibility - Do they pre-qualify for SMILE ON 60+?',\n",
    "            'SMILE ON 60+ Site Information - Enroller ID',\n",
    "            'SMILE ON 60+ Site Information - Enroller Location',\n",
    "            'SMILE ON 60+ Verification of Eligibility - Transportation Arranged','SMILE ON 60+ Verification of Eligibility - Verification of Eligibility',\n",
    "            'SMILE ON 60+ Treatment Plan - Action: Upload After Picture on Finish Tab',' Root Fragments',' Need for Periodontal Care',' Suspicious Soft Tissue Lesions',\n",
    "            ' Untreated Decay',' What other assistance programs are you on?',' Preferred Language/Language Needed',\n",
    "            ' How did you first hear about the SMILE ON 60+ program?','SMILE ON 60+ Presumptive Eligibility - What is the next step for clients encounter? ',\n",
    "            'What is the next step for clients encounter?'])"
   ]
  },
  {
   "cell_type": "code",
   "execution_count": 8,
   "id": "1a58fd20",
   "metadata": {},
   "outputs": [],
   "source": [
    "df_clean.columns = [x.replace('SMILE ON 60+ Oral Care Encounter -','') for x in df_clean.columns]\n",
    "df_clean.columns = [x.replace('Was the enrollee able to be restored to function (can chew) and \"social six\" esthetics (top front six teeth are present and disease free)','social_6_restored') for x in df_clean.columns]\n",
    "df_clean.columns = [x.replace('SMILE ON 60+ Presumptive Eligibility -','') for x in df_clean.columns]\n",
    "df_clean.columns = [x.replace('What barriers have kept you from finding a consistent dental home?','barriers') for x in df_clean.columns]\n",
    "df_clean.columns = [x.replace('How would you describe the condition of your mouth and teeth?','mouth_condition') for x in df_clean.columns]\n",
    "df_clean.columns = [x.replace('Have you ever felt that the appearance of your mouth and teeth affected your quality of life?','teeth_affect_qualifty_of_life') for x in df_clean.columns]\n",
    "df_clean.columns = [x.replace('No Code - ','') for x in df_clean.columns]\n",
    "df_clean.columns = [x.replace('Experienced any problems related to mouth/teeth during past 12 months?','problems_past_year') for x in df_clean.columns]\n",
    "df_clean.columns = [x.replace('How often do you brush your teeth?','brush_frequency') for x in df_clean.columns]"
   ]
  },
  {
   "cell_type": "code",
   "execution_count": 9,
   "id": "7c676d08",
   "metadata": {},
   "outputs": [],
   "source": [
    "df_clean = df_clean[df_clean.CallerNum >= 0]"
   ]
  },
  {
   "cell_type": "markdown",
   "id": "ca282f59",
   "metadata": {},
   "source": [
    "Subgroup the Data by Treatment Urgency Column. Merged to keep all records for patients labeled in any  3 subgroups at any point\n",
    "-\n",
    "Urgent Care - within next week-pain or infection\n",
    "\n",
    "No obvious problem\n",
    "\n",
    "Early care-within next several weeks\n"
   ]
  },
  {
   "cell_type": "code",
   "execution_count": 11,
   "id": "b0c007e4",
   "metadata": {},
   "outputs": [],
   "source": [
    "urgent = df_clean.loc[df_clean[' Treatment Urgency'] == 'Urgent Care - within next week-pain or infection']\n",
    "urgent = urgent.filter(['CallReportNum','CallerNum'])"
   ]
  },
  {
   "cell_type": "code",
   "execution_count": 12,
   "id": "9f31a105",
   "metadata": {},
   "outputs": [],
   "source": [
    "no_problem = df_clean.loc[df_clean[' Treatment Urgency'] == 'No obvious problem']\n",
    "no_problem = no_problem.filter(['CallReportNum','CallerNum'])"
   ]
  },
  {
   "cell_type": "code",
   "execution_count": 13,
   "id": "e0f449c1",
   "metadata": {},
   "outputs": [],
   "source": [
    "early_care = df_clean.loc[df_clean[' Treatment Urgency'] == 'Early care-within next several weeks']\n",
    "early_care = early_care.filter(['CallReportNum','CallerNum'])"
   ]
  },
  {
   "cell_type": "code",
   "execution_count": 14,
   "id": "1d4cc9ed",
   "metadata": {},
   "outputs": [],
   "source": [
    "urgent_merged = df_clean.merge(urgent,how='inner',on='CallerNum')"
   ]
  },
  {
   "cell_type": "code",
   "execution_count": 15,
   "id": "a91b97a4",
   "metadata": {},
   "outputs": [],
   "source": [
    "no_problem_merged = df_clean.merge(no_problem,how='inner',on='CallerNum')"
   ]
  },
  {
   "cell_type": "code",
   "execution_count": 16,
   "id": "ae0bd8fd",
   "metadata": {},
   "outputs": [],
   "source": [
    "early_care_merged = df_clean.merge(early_care,how='inner',on='CallerNum')"
   ]
  },
  {
   "cell_type": "markdown",
   "id": "9d37692e",
   "metadata": {},
   "source": [
    "Create dummy variables for; was treatment plan develped,is treatment plan completed, was social 6 restored\n",
    "-\n",
    "use these to quantify number of completed treatment plans vs on-going treatment plans"
   ]
  },
  {
   "cell_type": "code",
   "execution_count": 18,
   "id": "e74fb1fa",
   "metadata": {},
   "outputs": [],
   "source": [
    "created_dummy = pd.get_dummies(df_clean['SMILE ON 60+ Treatment Plan - Was a treatment plan developed?'])\n",
    "created_dummy = created_dummy.rename(columns = {'No':'not_created','Yes':'created'}).astype(int)"
   ]
  },
  {
   "cell_type": "code",
   "execution_count": 19,
   "id": "8fc7e56f",
   "metadata": {},
   "outputs": [],
   "source": [
    "completed_dummy = pd.get_dummies(df_clean['SMILE ON 60+ Treatment Plan - Is the treatment plan completed?'])\n",
    "completed_dummy = completed_dummy.rename(columns = {'No':'not_completed','Yes':'completed'}).astype(int)"
   ]
  },
  {
   "cell_type": "code",
   "execution_count": 20,
   "id": "c50890e7",
   "metadata": {},
   "outputs": [],
   "source": [
    "social_dummy = pd.get_dummies(df_clean['SMILE ON 60+ Treatment Plan - social_6_restored'])\n",
    "social_dummy = social_dummy.rename(columns = {'No':'not_restored','Yes':'restored'}).astype(int)"
   ]
  },
  {
   "cell_type": "code",
   "execution_count": 21,
   "id": "fd766de1",
   "metadata": {},
   "outputs": [],
   "source": [
    "df_clean = pd.concat([df_clean,created_dummy],axis=1)"
   ]
  },
  {
   "cell_type": "code",
   "execution_count": 23,
   "id": "569d1302",
   "metadata": {},
   "outputs": [],
   "source": [
    "df_clean = pd.concat([df_clean,completed_dummy],axis=1)"
   ]
  },
  {
   "cell_type": "code",
   "execution_count": 24,
   "id": "98d09719",
   "metadata": {},
   "outputs": [],
   "source": [
    "df_clean = pd.concat([df_clean,social_dummy],axis=1)"
   ]
  },
  {
   "cell_type": "code",
   "execution_count": 25,
   "id": "7374f72f",
   "metadata": {},
   "outputs": [],
   "source": [
    "df_grouped = df_clean.groupby('CallerNum').agg('sum')"
   ]
  },
  {
   "cell_type": "markdown",
   "id": "75c12d24",
   "metadata": {},
   "source": [
    "apply process to each of 3 subgroups\n",
    "-"
   ]
  },
  {
   "cell_type": "markdown",
   "id": "4db26add",
   "metadata": {},
   "source": [
    "Urgent"
   ]
  },
  {
   "cell_type": "code",
   "execution_count": 28,
   "id": "f2f5451a",
   "metadata": {},
   "outputs": [],
   "source": [
    "urgent_created_dummy = pd.get_dummies(urgent_merged['SMILE ON 60+ Treatment Plan - Was a treatment plan developed?'])\n",
    "urgent_created_dummy = urgent_created_dummy.rename(columns = {'No':'not_created','Yes':'created'}).astype(int)\n",
    "urgent_completed_dummy = pd.get_dummies(urgent_merged['SMILE ON 60+ Treatment Plan - Is the treatment plan completed?'])\n",
    "urgent_completed_dummy = urgent_completed_dummy.rename(columns = {'No':'not_completed','Yes':'completed'}).astype(int)\n",
    "urgent_social_dummy = pd.get_dummies(urgent_merged['SMILE ON 60+ Treatment Plan - social_6_restored'])\n",
    "urgent_social_dummy = urgent_social_dummy.rename(columns = {'No':'not_restored','Yes':'restored'}).astype(int)\n",
    "urgent_merged = pd.concat([urgent_merged,urgent_created_dummy],axis=1)\n",
    "urgent_merged = pd.concat([urgent_merged,urgent_completed_dummy],axis=1)\n",
    "urgent_merged = pd.concat([urgent_merged,urgent_social_dummy],axis=1)"
   ]
  },
  {
   "cell_type": "code",
   "execution_count": 29,
   "id": "3fed5803",
   "metadata": {},
   "outputs": [],
   "source": [
    "urgent_grouped = urgent_merged.groupby('CallerNum').agg('sum')"
   ]
  },
  {
   "cell_type": "markdown",
   "id": "8f22cdc2",
   "metadata": {},
   "source": [
    "no problem"
   ]
  },
  {
   "cell_type": "code",
   "execution_count": 30,
   "id": "97aad59e",
   "metadata": {},
   "outputs": [],
   "source": [
    "no_problem_created_dummy = pd.get_dummies(no_problem_merged['SMILE ON 60+ Treatment Plan - Was a treatment plan developed?'])\n",
    "no_problem_created_dummy = no_problem_created_dummy.rename(columns = {'No':'not_created','Yes':'created'}).astype(int)\n",
    "no_problem_completed_dummy = pd.get_dummies(no_problem_merged['SMILE ON 60+ Treatment Plan - Is the treatment plan completed?'])\n",
    "no_problem_completed_dummy = no_problem_completed_dummy.rename(columns = {'No':'not_completed','Yes':'completed'}).astype(int)\n",
    "no_problem_social_dummy = pd.get_dummies(no_problem_merged['SMILE ON 60+ Treatment Plan - social_6_restored'])\n",
    "no_problem_social_dummy = no_problem_social_dummy.rename(columns = {'No':'not_restored','Yes':'restored'}).astype(int)\n",
    "no_problem_merged = pd.concat([no_problem_merged,no_problem_created_dummy],axis=1)\n",
    "no_problem_merged = pd.concat([no_problem_merged,no_problem_completed_dummy],axis=1)\n",
    "no_problem_merged = pd.concat([no_problem_merged,no_problem_social_dummy],axis=1)"
   ]
  },
  {
   "cell_type": "code",
   "execution_count": 31,
   "id": "1d3b1c11",
   "metadata": {},
   "outputs": [],
   "source": [
    "no_problem_grouped = no_problem_merged.groupby('CallerNum').agg('sum')"
   ]
  },
  {
   "cell_type": "markdown",
   "id": "8d02da4b",
   "metadata": {},
   "source": [
    "Early care"
   ]
  },
  {
   "cell_type": "code",
   "execution_count": 33,
   "id": "05b100ec",
   "metadata": {},
   "outputs": [],
   "source": [
    "early_created_dummy = pd.get_dummies(early_care_merged['SMILE ON 60+ Treatment Plan - Was a treatment plan developed?'])\n",
    "early_created_dummy = early_created_dummy.rename(columns = {'No':'not_created','Yes':'created'}).astype(int)\n",
    "early_completed_dummy = pd.get_dummies(early_care_merged['SMILE ON 60+ Treatment Plan - Is the treatment plan completed?'])\n",
    "early_completed_dummy = early_completed_dummy.rename(columns = {'No':'not_completed','Yes':'completed'}).astype(int)\n",
    "early_social_dummy = pd.get_dummies(early_care_merged['SMILE ON 60+ Treatment Plan - social_6_restored'])\n",
    "early_social_dummy = early_social_dummy.rename(columns = {'No':'not_restored','Yes':'restored'}).astype(int)\n",
    "early_care_merged = pd.concat([early_care_merged,early_created_dummy],axis=1)\n",
    "early_care_merged = pd.concat([early_care_merged,early_completed_dummy],axis=1)\n",
    "early_care_merged = pd.concat([early_care_merged,early_social_dummy],axis=1)"
   ]
  },
  {
   "cell_type": "code",
   "execution_count": 34,
   "id": "8badd96f",
   "metadata": {},
   "outputs": [],
   "source": [
    "early_care_grouped = early_care_merged.groupby('CallerNum').agg('sum')"
   ]
  },
  {
   "cell_type": "markdown",
   "id": "aab257b0",
   "metadata": {},
   "source": [
    "Check for procedural differences between subgroups\n",
    "-"
   ]
  },
  {
   "cell_type": "markdown",
   "id": "30be6d0e",
   "metadata": {},
   "source": [
    "urgent"
   ]
  },
  {
   "cell_type": "code",
   "execution_count": 35,
   "id": "cd38320d",
   "metadata": {},
   "outputs": [],
   "source": [
    "urgent_sum = urgent_grouped.agg([sum])\n",
    "urgent_sum = urgent_sum.iloc[:,3:62]\n",
    "urgent_sumT = urgent_sum.T\n",
    "urgent_sumT = urgent_sumT.loc[urgent_sumT['sum']>0]\n",
    "urgent_sumT = urgent_sumT.sort_values(by='sum',ascending = False)\n",
    "urgent_sumT = urgent_sumT.rename(columns={'sum':'Urgent_pct'})\n",
    "urgent_sumT['Urgent_pct'] = (urgent_sumT['Urgent_pct']/urgent_sumT['Urgent_pct'].sum())*100"
   ]
  },
  {
   "cell_type": "markdown",
   "id": "958b40d1",
   "metadata": {},
   "source": [
    "no problem"
   ]
  },
  {
   "cell_type": "code",
   "execution_count": 36,
   "id": "a6fadd6f",
   "metadata": {},
   "outputs": [],
   "source": [
    "no_problem_sum = no_problem_grouped.agg([sum])\n",
    "no_problem_sum = no_problem_sum.iloc[:,3:62]\n",
    "no_problem_sumT = no_problem_sum.T\n",
    "no_problem_sumT = no_problem_sumT.loc[no_problem_sumT['sum']>0]\n",
    "no_problem_sumT = no_problem_sumT.sort_values(by='sum',ascending = False)\n",
    "no_problem_sumT = no_problem_sumT.rename(columns={'sum':'no_problem_pct'})\n",
    "no_problem_sumT['no_problem_pct'] = (no_problem_sumT['no_problem_pct']/no_problem_sumT['no_problem_pct'].sum())*100"
   ]
  },
  {
   "cell_type": "markdown",
   "id": "ec2fb9e2",
   "metadata": {},
   "source": [
    "early"
   ]
  },
  {
   "cell_type": "code",
   "execution_count": 37,
   "id": "217f3054",
   "metadata": {},
   "outputs": [],
   "source": [
    "early_care_sum = early_care_grouped.agg([sum])\n",
    "early_care_sum = early_care_sum.iloc[:,3:62]\n",
    "early_care_sumT = early_care_sum.T\n",
    "early_care_sumT = early_care_sumT.loc[early_care_sumT['sum']>0]\n",
    "early_care_sumT = early_care_sumT.sort_values(by='sum',ascending = False)\n",
    "early_care_sumT = early_care_sumT.rename(columns={'sum':'early_pct'})\n",
    "early_care_sumT['early_pct'] = (early_care_sumT['early_pct']/early_care_sumT['early_pct'].sum())*100"
   ]
  },
  {
   "cell_type": "markdown",
   "id": "aeb21904",
   "metadata": {},
   "source": [
    "join data together"
   ]
  },
  {
   "cell_type": "code",
   "execution_count": 38,
   "id": "6b14a03d",
   "metadata": {},
   "outputs": [],
   "source": [
    "treatment_sum_joined = urgent_sumT.join([no_problem_sumT,early_care_sumT],how='outer')"
   ]
  },
  {
   "cell_type": "code",
   "execution_count": 39,
   "id": "f568c660",
   "metadata": {},
   "outputs": [],
   "source": [
    "treatment_joined_limit = treatment_sum_joined[:21]"
   ]
  },
  {
   "cell_type": "markdown",
   "id": "2f5cd43e",
   "metadata": {},
   "source": [
    "what are the most prevalent procedures by subgroup\n",
    "-"
   ]
  },
  {
   "cell_type": "code",
   "execution_count": 40,
   "id": "fc8d0d59",
   "metadata": {},
   "outputs": [
    {
     "data": {
      "text/plain": [
       "<AxesSubplot:>"
      ]
     },
     "execution_count": 40,
     "metadata": {},
     "output_type": "execute_result"
    },
    {
     "data": {
      "image/png": "[encoded data removed]",
      "text/plain": [
       "<Figure size 864x360 with 1 Axes>"
      ]
     },
     "metadata": {
      "needs_background": "light"
     },
     "output_type": "display_data"
    }
   ],
   "source": [
    "colors_list = ['#980000','#507184','#0D94BF']\n",
    "treatment_joined_limit.plot.bar(color=colors_list,figsize = (12,5))"
   ]
  },
  {
   "cell_type": "markdown",
   "id": "b4292f02",
   "metadata": {},
   "source": [
    "urgent\n",
    "-\n",
    "retored_yes"
   ]
  },
  {
   "cell_type": "code",
   "execution_count": 257,
   "id": "9137061d",
   "metadata": {},
   "outputs": [],
   "source": [
    "urgent_restored = urgent_merged"
   ]
  },
  {
   "cell_type": "code",
   "execution_count": 258,
   "id": "05860be9",
   "metadata": {},
   "outputs": [],
   "source": [
    "urgent_restored = urgent_restored.iloc[:,12:]"
   ]
  },
  {
   "cell_type": "code",
   "execution_count": 259,
   "id": "1967f72e",
   "metadata": {},
   "outputs": [],
   "source": [
    "urgent_restored = urgent_restored.drop(columns=[' Last Screening Date',\n",
    "                                                'Are you limited in what you can eat?',\n",
    "                                                'Do you need help in these other areas?',\n",
    "                                                'teeth_affect_qualifty_of_life',\n",
    "                                                'mouth_condition',\n",
    "                                                'What is the next step for client encounter?',\n",
    "                                                'barriers ',\n",
    "                                                'What is the outcome for the client?',\n",
    "                                                'Is patient of record date if yes last seen?',\n",
    "                                                ' Gender',' Household Income Level',\n",
    "                                                ' Race/Ethnicity',\n",
    "                                                ' When is the last time you visited your dentist?',\n",
    "                                                ' What care was provided to the enrollee? ',\n",
    "                                                ' Do you have removable dentures?',\n",
    "                                                ' Do you usually wear your denture(s) when you eat?',\n",
    "                                                ' problems_past_year',' brush_frequency',\n",
    "                                                ' Treatment Urgency',\n",
    "                                                'SMILE ON 60+ Treatment Plan - Is the treatment plan completed?',\n",
    "                                                'SMILE ON 60+ Treatment Plan - Was a treatment plan developed?',\n",
    "                                                'SMILE ON 60+ Treatment Plan - social_6_restored',\n",
    "                                                ' Lab Assist narrative' ])"
   ]
  },
  {
   "cell_type": "code",
   "execution_count": 260,
   "id": "cf1bd46a",
   "metadata": {},
   "outputs": [],
   "source": [
    "urgent_restored = urgent_restored.drop(['CallReportNum_y',\n",
    "                                      ' Denture Step Mandibular Quantity',\n",
    "                                      ' Denture Step Maxillary Quantity',\n",
    "                                      ' Is the treatment plan completed?',\n",
    "                                      ' Was a treatment plan developed?',\n",
    "                                      ' # of Lower Natural Teeth',\n",
    "                                      ' # of Upper Natural Teeth',\n",
    "                                      'not_created','created','not_completed','completed'],axis=1)                              "
   ]
  },
  {
   "cell_type": "code",
   "execution_count": 262,
   "id": "6b648583",
   "metadata": {},
   "outputs": [],
   "source": [
    "urgent_restored1 = urgent_restored.loc[urgent_restored.restored == 1]\n",
    "urgent_restored1_sum= urgent_restored1.agg([sum])\n",
    "urgent_restored1_sumT = urgent_restored1_sum.T.sort_values(by='sum',ascending=False)\n",
    "urgent_restored1_sumT = urgent_restored1_sumT.iloc[1:]\n",
    "urgent_restored1_sumT['sum'] = (urgent_restored1_sumT['sum']/urgent_restored1_sumT['sum'].sum())*100\n",
    "urgent_restored1_sumT = urgent_restored1_sumT.rename(columns={'sum':'urgent_restored_pct'})\n",
    "urgent_restored1_sumT = urgent_restored1_sumT.loc[urgent_restored1_sumT['urgent_restored_pct']>0]"
   ]
  },
  {
   "cell_type": "code",
   "execution_count": 263,
   "id": "3d372896",
   "metadata": {},
   "outputs": [
    {
     "data": {
      "text/plain": [
       "<AxesSubplot:>"
      ]
     },
     "execution_count": 263,
     "metadata": {},
     "output_type": "execute_result"
    },
    {
     "data": {
      "image/png": "[encoded data removed]",
      "text/plain": [
       "<Figure size 864x936 with 1 Axes>"
      ]
     },
     "metadata": {
      "needs_background": "light"
     },
     "output_type": "display_data"
    }
   ],
   "source": [
    "urgent_restored1_sumT.plot.bar(figsize = (12,13))"
   ]
  },
  {
   "cell_type": "markdown",
   "id": "24ef74c5",
   "metadata": {},
   "source": [
    "restored_no"
   ]
  },
  {
   "cell_type": "code",
   "execution_count": 270,
   "id": "fde806a2",
   "metadata": {},
   "outputs": [],
   "source": [
    "urgent_restored0 = urgent_restored.loc[urgent_restored.not_restored == 1]\n",
    "urgent_restored0_sum= urgent_restored0.agg([sum])\n",
    "urgent_restored0_sumT = urgent_restored0_sum.T.sort_values(by='sum',ascending=False)\n",
    "urgent_restored0_sumT = urgent_restored0_sumT.iloc[1:]\n",
    "urgent_restored0_sumT['sum'] = (urgent_restored0_sumT['sum']/urgent_restored0_sumT['sum'].sum())*100\n",
    "urgent_restored0_sumT = urgent_restored0_sumT.rename(columns={'sum':'urgent_restored_no_pct'})\n",
    "urgent_restored0_sumT = urgent_restored0_sumT.loc[urgent_restored0_sumT['urgent_restored_no_pct']>0]"
   ]
  },
  {
   "cell_type": "code",
   "execution_count": 271,
   "id": "d875577f",
   "metadata": {},
   "outputs": [
    {
     "data": {
      "text/plain": [
       "<AxesSubplot:>"
      ]
     },
     "execution_count": 271,
     "metadata": {},
     "output_type": "execute_result"
    },
    {
     "data": {
      "image/png": "[encoded data removed]",
      "text/plain": [
       "<Figure size 864x936 with 1 Axes>"
      ]
     },
     "metadata": {
      "needs_background": "light"
     },
     "output_type": "display_data"
    }
   ],
   "source": [
    "urgent_restored0_sumT.plot.bar(figsize = (12,13))"
   ]
  },
  {
   "cell_type": "markdown",
   "id": "773643e7",
   "metadata": {},
   "source": [
    "urgent_combined"
   ]
  },
  {
   "cell_type": "code",
   "execution_count": 323,
   "id": "63ce2e8c",
   "metadata": {},
   "outputs": [],
   "source": [
    "urgent_restored_comb = urgent_restored1_sumT.join(urgent_restored0_sumT,how='outer')"
   ]
  },
  {
   "cell_type": "code",
   "execution_count": 324,
   "id": "024b5baa",
   "metadata": {},
   "outputs": [],
   "source": [
    "urgent_restored_comb = urgent_restored_comb.sort_values(by = 'urgent_restored_pct',ascending = False)"
   ]
  },
  {
   "cell_type": "code",
   "execution_count": 338,
   "id": "b0833b41",
   "metadata": {},
   "outputs": [
    {
     "data": {
      "text/plain": [
       "<AxesSubplot:title={'center':'Urgent:Normalized Procedureal Frequency Resulting in Restored to Function (y/n)'}, xlabel='Procedure Codes', ylabel='Percent of Total'>"
      ]
     },
     "execution_count": 338,
     "metadata": {},
     "output_type": "execute_result"
    },
    {
     "data": {
      "image/png": "[encoded data removed]",
      "text/plain": [
       "<Figure size 864x360 with 1 Axes>"
      ]
     },
     "metadata": {
      "needs_background": "light"
     },
     "output_type": "display_data"
    },
    {
     "name": "stdout",
     "output_type": "stream",
     "text": [
      "Executing shutdown due to inactivity...\n",
      "Executing shutdown due to inactivity...\n",
      "Executing shutdown due to inactivity...\n"
     ]
    },
    {
     "name": "stderr",
     "output_type": "stream",
     "text": [
      "2021-11-20 02:04:14,513 - INFO     - Executing shutdown due to inactivity...\n"
     ]
    },
    {
     "name": "stdout",
     "output_type": "stream",
     "text": [
      "Executing shutdown...\n",
      "Executing shutdown...\n",
      "Executing shutdown...\n"
     ]
    },
    {
     "name": "stderr",
     "output_type": "stream",
     "text": [
      "2021-11-20 02:04:26,744 - INFO     - Executing shutdown...\n"
     ]
    }
   ],
   "source": [
    "urgent_restored_comb[:12].plot.bar(title= 'Urgent:Normalized Procedureal Frequency Resulting in Restored to Function (y/n)',\n",
    "                                   xlabel = 'Procedure Codes',\n",
    "                                   ylabel = 'Percent of Total',\n",
    "                                   color=colors_list,\n",
    "                                   grid = True,\n",
    "                                   figsize = (12,5))"
   ]
  },
  {
   "cell_type": "code",
   "execution_count": 275,
   "id": "973d5be0",
   "metadata": {},
   "outputs": [
    {
     "data": {
      "text/html": [
       "<div>\n",
       "<style scoped>\n",
       "    .dataframe tbody tr th:only-of-type {\n",
       "        vertical-align: middle;\n",
       "    }\n",
       "\n",
       "    .dataframe tbody tr th {\n",
       "        vertical-align: top;\n",
       "    }\n",
       "\n",
       "    .dataframe thead th {\n",
       "        text-align: right;\n",
       "    }\n",
       "</style>\n",
       "<table border=\"1\" class=\"dataframe\">\n",
       "  <thead>\n",
       "    <tr style=\"text-align: right;\">\n",
       "      <th></th>\n",
       "      <th>1351</th>\n",
       "      <th>1354</th>\n",
       "      <th>2140</th>\n",
       "      <th>2150</th>\n",
       "      <th>2160</th>\n",
       "      <th>2161</th>\n",
       "      <th>220</th>\n",
       "      <th>230</th>\n",
       "      <th>2330</th>\n",
       "      <th>2331</th>\n",
       "      <th>2332</th>\n",
       "      <th>2335</th>\n",
       "      <th>2390</th>\n",
       "      <th>2391</th>\n",
       "      <th>2392</th>\n",
       "      <th>2393</th>\n",
       "      <th>2394</th>\n",
       "      <th>2915</th>\n",
       "      <th>2920</th>\n",
       "      <th>2933</th>\n",
       "      <th>2940</th>\n",
       "      <th>2950</th>\n",
       "      <th>2954</th>\n",
       "      <th>2955</th>\n",
       "      <th>2980</th>\n",
       "      <th>3220</th>\n",
       "      <th>4341</th>\n",
       "      <th>4342</th>\n",
       "      <th>6930</th>\n",
       "      <th>6980</th>\n",
       "      <th>7111</th>\n",
       "      <th>7140</th>\n",
       "      <th>7210</th>\n",
       "      <th>7220</th>\n",
       "      <th>7230</th>\n",
       "      <th>7240</th>\n",
       "      <th>7241</th>\n",
       "      <th>7250</th>\n",
       "      <th>7261</th>\n",
       "      <th>7285</th>\n",
       "      <th>7286</th>\n",
       "      <th>7310</th>\n",
       "      <th>7311</th>\n",
       "      <th>7320</th>\n",
       "      <th>7321</th>\n",
       "      <th>7410</th>\n",
       "      <th>7411</th>\n",
       "      <th>7412</th>\n",
       "      <th>7413</th>\n",
       "      <th>7414</th>\n",
       "      <th>7415</th>\n",
       "      <th>7440</th>\n",
       "      <th>7450</th>\n",
       "      <th>7451</th>\n",
       "      <th>7460</th>\n",
       "      <th>7461</th>\n",
       "      <th>7471</th>\n",
       "      <th>7510</th>\n",
       "      <th>7511</th>\n",
       "      <th>7970 - Mandibular Quantity</th>\n",
       "      <th>7970 - Maxillary Quantity</th>\n",
       "      <th>7971</th>\n",
       "      <th>7972</th>\n",
       "      <th>9110</th>\n",
       "      <th>9951</th>\n",
       "      <th>not_restored</th>\n",
       "      <th>restored</th>\n",
       "    </tr>\n",
       "  </thead>\n",
       "  <tbody>\n",
       "    <tr>\n",
       "      <th>0</th>\n",
       "      <td>NaN</td>\n",
       "      <td>NaN</td>\n",
       "      <td>NaN</td>\n",
       "      <td>NaN</td>\n",
       "      <td>NaN</td>\n",
       "      <td>NaN</td>\n",
       "      <td>NaN</td>\n",
       "      <td>NaN</td>\n",
       "      <td>NaN</td>\n",
       "      <td>NaN</td>\n",
       "      <td>NaN</td>\n",
       "      <td>NaN</td>\n",
       "      <td>NaN</td>\n",
       "      <td>NaN</td>\n",
       "      <td>NaN</td>\n",
       "      <td></td>\n",
       "      <td>NaN</td>\n",
       "      <td>NaN</td>\n",
       "      <td>NaN</td>\n",
       "      <td>NaN</td>\n",
       "      <td>NaN</td>\n",
       "      <td></td>\n",
       "      <td>NaN</td>\n",
       "      <td>NaN</td>\n",
       "      <td>NaN</td>\n",
       "      <td>NaN</td>\n",
       "      <td>NaN</td>\n",
       "      <td></td>\n",
       "      <td>NaN</td>\n",
       "      <td>NaN</td>\n",
       "      <td>NaN</td>\n",
       "      <td>1</td>\n",
       "      <td>NaN</td>\n",
       "      <td>NaN</td>\n",
       "      <td>NaN</td>\n",
       "      <td>NaN</td>\n",
       "      <td>NaN</td>\n",
       "      <td>NaN</td>\n",
       "      <td>NaN</td>\n",
       "      <td>NaN</td>\n",
       "      <td>NaN</td>\n",
       "      <td>NaN</td>\n",
       "      <td>NaN</td>\n",
       "      <td></td>\n",
       "      <td>NaN</td>\n",
       "      <td>NaN</td>\n",
       "      <td>NaN</td>\n",
       "      <td>NaN</td>\n",
       "      <td>NaN</td>\n",
       "      <td>NaN</td>\n",
       "      <td>NaN</td>\n",
       "      <td>NaN</td>\n",
       "      <td>NaN</td>\n",
       "      <td>NaN</td>\n",
       "      <td>NaN</td>\n",
       "      <td>NaN</td>\n",
       "      <td>NaN</td>\n",
       "      <td>NaN</td>\n",
       "      <td>NaN</td>\n",
       "      <td>NaN</td>\n",
       "      <td>NaN</td>\n",
       "      <td>NaN</td>\n",
       "      <td>NaN</td>\n",
       "      <td>NaN</td>\n",
       "      <td>NaN</td>\n",
       "      <td>0</td>\n",
       "      <td>0</td>\n",
       "    </tr>\n",
       "    <tr>\n",
       "      <th>1</th>\n",
       "      <td>NaN</td>\n",
       "      <td>NaN</td>\n",
       "      <td>NaN</td>\n",
       "      <td>NaN</td>\n",
       "      <td>NaN</td>\n",
       "      <td>NaN</td>\n",
       "      <td>NaN</td>\n",
       "      <td>NaN</td>\n",
       "      <td>NaN</td>\n",
       "      <td>NaN</td>\n",
       "      <td>NaN</td>\n",
       "      <td>NaN</td>\n",
       "      <td>NaN</td>\n",
       "      <td>NaN</td>\n",
       "      <td>NaN</td>\n",
       "      <td></td>\n",
       "      <td>NaN</td>\n",
       "      <td>NaN</td>\n",
       "      <td>NaN</td>\n",
       "      <td>NaN</td>\n",
       "      <td>NaN</td>\n",
       "      <td></td>\n",
       "      <td>NaN</td>\n",
       "      <td>NaN</td>\n",
       "      <td>NaN</td>\n",
       "      <td>NaN</td>\n",
       "      <td>NaN</td>\n",
       "      <td></td>\n",
       "      <td>NaN</td>\n",
       "      <td>NaN</td>\n",
       "      <td>NaN</td>\n",
       "      <td>8</td>\n",
       "      <td>NaN</td>\n",
       "      <td>NaN</td>\n",
       "      <td>NaN</td>\n",
       "      <td>NaN</td>\n",
       "      <td>NaN</td>\n",
       "      <td>NaN</td>\n",
       "      <td>NaN</td>\n",
       "      <td>NaN</td>\n",
       "      <td>NaN</td>\n",
       "      <td>NaN</td>\n",
       "      <td>NaN</td>\n",
       "      <td></td>\n",
       "      <td>NaN</td>\n",
       "      <td>NaN</td>\n",
       "      <td>NaN</td>\n",
       "      <td>NaN</td>\n",
       "      <td>NaN</td>\n",
       "      <td>NaN</td>\n",
       "      <td>NaN</td>\n",
       "      <td>NaN</td>\n",
       "      <td>NaN</td>\n",
       "      <td>NaN</td>\n",
       "      <td>NaN</td>\n",
       "      <td>NaN</td>\n",
       "      <td>NaN</td>\n",
       "      <td>NaN</td>\n",
       "      <td>NaN</td>\n",
       "      <td>NaN</td>\n",
       "      <td>NaN</td>\n",
       "      <td>NaN</td>\n",
       "      <td>NaN</td>\n",
       "      <td>NaN</td>\n",
       "      <td>NaN</td>\n",
       "      <td>0</td>\n",
       "      <td>0</td>\n",
       "    </tr>\n",
       "    <tr>\n",
       "      <th>2</th>\n",
       "      <td>NaN</td>\n",
       "      <td>NaN</td>\n",
       "      <td>NaN</td>\n",
       "      <td>NaN</td>\n",
       "      <td>NaN</td>\n",
       "      <td>NaN</td>\n",
       "      <td>NaN</td>\n",
       "      <td>NaN</td>\n",
       "      <td>NaN</td>\n",
       "      <td>NaN</td>\n",
       "      <td>NaN</td>\n",
       "      <td>NaN</td>\n",
       "      <td>NaN</td>\n",
       "      <td>NaN</td>\n",
       "      <td>NaN</td>\n",
       "      <td></td>\n",
       "      <td>NaN</td>\n",
       "      <td>NaN</td>\n",
       "      <td>NaN</td>\n",
       "      <td>NaN</td>\n",
       "      <td>NaN</td>\n",
       "      <td></td>\n",
       "      <td>NaN</td>\n",
       "      <td>NaN</td>\n",
       "      <td>NaN</td>\n",
       "      <td>NaN</td>\n",
       "      <td>NaN</td>\n",
       "      <td></td>\n",
       "      <td>NaN</td>\n",
       "      <td>NaN</td>\n",
       "      <td>NaN</td>\n",
       "      <td>5</td>\n",
       "      <td>NaN</td>\n",
       "      <td>NaN</td>\n",
       "      <td>NaN</td>\n",
       "      <td>NaN</td>\n",
       "      <td>NaN</td>\n",
       "      <td>NaN</td>\n",
       "      <td>NaN</td>\n",
       "      <td>NaN</td>\n",
       "      <td>NaN</td>\n",
       "      <td>NaN</td>\n",
       "      <td>NaN</td>\n",
       "      <td></td>\n",
       "      <td>NaN</td>\n",
       "      <td>NaN</td>\n",
       "      <td>NaN</td>\n",
       "      <td>NaN</td>\n",
       "      <td>NaN</td>\n",
       "      <td>NaN</td>\n",
       "      <td>NaN</td>\n",
       "      <td>NaN</td>\n",
       "      <td>NaN</td>\n",
       "      <td>NaN</td>\n",
       "      <td>NaN</td>\n",
       "      <td>NaN</td>\n",
       "      <td>NaN</td>\n",
       "      <td>NaN</td>\n",
       "      <td>NaN</td>\n",
       "      <td>NaN</td>\n",
       "      <td>NaN</td>\n",
       "      <td>NaN</td>\n",
       "      <td>NaN</td>\n",
       "      <td>NaN</td>\n",
       "      <td>NaN</td>\n",
       "      <td>0</td>\n",
       "      <td>0</td>\n",
       "    </tr>\n",
       "    <tr>\n",
       "      <th>3</th>\n",
       "      <td>NaN</td>\n",
       "      <td>NaN</td>\n",
       "      <td>NaN</td>\n",
       "      <td>NaN</td>\n",
       "      <td>NaN</td>\n",
       "      <td>NaN</td>\n",
       "      <td>NaN</td>\n",
       "      <td>NaN</td>\n",
       "      <td>NaN</td>\n",
       "      <td>NaN</td>\n",
       "      <td>NaN</td>\n",
       "      <td>NaN</td>\n",
       "      <td>NaN</td>\n",
       "      <td>NaN</td>\n",
       "      <td>NaN</td>\n",
       "      <td></td>\n",
       "      <td>NaN</td>\n",
       "      <td>NaN</td>\n",
       "      <td>NaN</td>\n",
       "      <td>NaN</td>\n",
       "      <td>NaN</td>\n",
       "      <td></td>\n",
       "      <td>NaN</td>\n",
       "      <td>NaN</td>\n",
       "      <td>NaN</td>\n",
       "      <td>NaN</td>\n",
       "      <td>NaN</td>\n",
       "      <td></td>\n",
       "      <td>NaN</td>\n",
       "      <td>NaN</td>\n",
       "      <td>NaN</td>\n",
       "      <td></td>\n",
       "      <td>NaN</td>\n",
       "      <td>NaN</td>\n",
       "      <td>NaN</td>\n",
       "      <td>NaN</td>\n",
       "      <td>NaN</td>\n",
       "      <td>NaN</td>\n",
       "      <td>NaN</td>\n",
       "      <td>NaN</td>\n",
       "      <td>NaN</td>\n",
       "      <td>NaN</td>\n",
       "      <td>NaN</td>\n",
       "      <td></td>\n",
       "      <td>NaN</td>\n",
       "      <td>NaN</td>\n",
       "      <td>NaN</td>\n",
       "      <td>NaN</td>\n",
       "      <td>NaN</td>\n",
       "      <td>NaN</td>\n",
       "      <td>NaN</td>\n",
       "      <td>NaN</td>\n",
       "      <td>NaN</td>\n",
       "      <td>NaN</td>\n",
       "      <td>NaN</td>\n",
       "      <td>NaN</td>\n",
       "      <td>NaN</td>\n",
       "      <td>NaN</td>\n",
       "      <td>NaN</td>\n",
       "      <td>NaN</td>\n",
       "      <td>NaN</td>\n",
       "      <td>NaN</td>\n",
       "      <td>NaN</td>\n",
       "      <td>NaN</td>\n",
       "      <td>NaN</td>\n",
       "      <td>0</td>\n",
       "      <td>0</td>\n",
       "    </tr>\n",
       "    <tr>\n",
       "      <th>4</th>\n",
       "      <td>NaN</td>\n",
       "      <td>NaN</td>\n",
       "      <td>NaN</td>\n",
       "      <td>NaN</td>\n",
       "      <td>NaN</td>\n",
       "      <td>NaN</td>\n",
       "      <td>NaN</td>\n",
       "      <td>NaN</td>\n",
       "      <td>NaN</td>\n",
       "      <td>NaN</td>\n",
       "      <td>NaN</td>\n",
       "      <td>NaN</td>\n",
       "      <td>NaN</td>\n",
       "      <td>NaN</td>\n",
       "      <td>NaN</td>\n",
       "      <td></td>\n",
       "      <td>NaN</td>\n",
       "      <td>NaN</td>\n",
       "      <td>NaN</td>\n",
       "      <td>NaN</td>\n",
       "      <td>NaN</td>\n",
       "      <td></td>\n",
       "      <td>NaN</td>\n",
       "      <td>NaN</td>\n",
       "      <td>NaN</td>\n",
       "      <td>NaN</td>\n",
       "      <td>NaN</td>\n",
       "      <td></td>\n",
       "      <td>NaN</td>\n",
       "      <td>NaN</td>\n",
       "      <td>NaN</td>\n",
       "      <td></td>\n",
       "      <td>NaN</td>\n",
       "      <td>NaN</td>\n",
       "      <td>NaN</td>\n",
       "      <td>NaN</td>\n",
       "      <td>NaN</td>\n",
       "      <td>NaN</td>\n",
       "      <td>NaN</td>\n",
       "      <td>NaN</td>\n",
       "      <td>NaN</td>\n",
       "      <td>NaN</td>\n",
       "      <td>NaN</td>\n",
       "      <td></td>\n",
       "      <td>NaN</td>\n",
       "      <td>NaN</td>\n",
       "      <td>NaN</td>\n",
       "      <td>NaN</td>\n",
       "      <td>NaN</td>\n",
       "      <td>NaN</td>\n",
       "      <td>NaN</td>\n",
       "      <td>NaN</td>\n",
       "      <td>NaN</td>\n",
       "      <td>NaN</td>\n",
       "      <td>NaN</td>\n",
       "      <td>NaN</td>\n",
       "      <td>NaN</td>\n",
       "      <td>NaN</td>\n",
       "      <td>NaN</td>\n",
       "      <td>NaN</td>\n",
       "      <td>NaN</td>\n",
       "      <td>NaN</td>\n",
       "      <td>NaN</td>\n",
       "      <td>NaN</td>\n",
       "      <td>NaN</td>\n",
       "      <td>0</td>\n",
       "      <td>0</td>\n",
       "    </tr>\n",
       "  </tbody>\n",
       "</table>\n",
       "</div>"
      ],
      "text/plain": [
       "    1351   1354   2140   2150   2160   2161   220   230   2330   2331   2332  \\\n",
       "0    NaN    NaN    NaN    NaN    NaN    NaN   NaN   NaN    NaN    NaN    NaN   \n",
       "1    NaN    NaN    NaN    NaN    NaN    NaN   NaN   NaN    NaN    NaN    NaN   \n",
       "2    NaN    NaN    NaN    NaN    NaN    NaN   NaN   NaN    NaN    NaN    NaN   \n",
       "3    NaN    NaN    NaN    NaN    NaN    NaN   NaN   NaN    NaN    NaN    NaN   \n",
       "4    NaN    NaN    NaN    NaN    NaN    NaN   NaN   NaN    NaN    NaN    NaN   \n",
       "\n",
       "    2335   2390   2391   2392  2393   2394   2915   2920   2933   2940  2950  \\\n",
       "0    NaN    NaN    NaN    NaN          NaN    NaN    NaN    NaN    NaN         \n",
       "1    NaN    NaN    NaN    NaN          NaN    NaN    NaN    NaN    NaN         \n",
       "2    NaN    NaN    NaN    NaN          NaN    NaN    NaN    NaN    NaN         \n",
       "3    NaN    NaN    NaN    NaN          NaN    NaN    NaN    NaN    NaN         \n",
       "4    NaN    NaN    NaN    NaN          NaN    NaN    NaN    NaN    NaN         \n",
       "\n",
       "    2954   2955   2980   3220   4341  4342   6930   6980   7111  7140   7210  \\\n",
       "0    NaN    NaN    NaN    NaN    NaN          NaN    NaN    NaN     1    NaN   \n",
       "1    NaN    NaN    NaN    NaN    NaN          NaN    NaN    NaN     8    NaN   \n",
       "2    NaN    NaN    NaN    NaN    NaN          NaN    NaN    NaN     5    NaN   \n",
       "3    NaN    NaN    NaN    NaN    NaN          NaN    NaN    NaN          NaN   \n",
       "4    NaN    NaN    NaN    NaN    NaN          NaN    NaN    NaN          NaN   \n",
       "\n",
       "    7220   7230   7240   7241   7250   7261   7285   7286   7310   7311  7320  \\\n",
       "0    NaN    NaN    NaN    NaN    NaN    NaN    NaN    NaN    NaN    NaN         \n",
       "1    NaN    NaN    NaN    NaN    NaN    NaN    NaN    NaN    NaN    NaN         \n",
       "2    NaN    NaN    NaN    NaN    NaN    NaN    NaN    NaN    NaN    NaN         \n",
       "3    NaN    NaN    NaN    NaN    NaN    NaN    NaN    NaN    NaN    NaN         \n",
       "4    NaN    NaN    NaN    NaN    NaN    NaN    NaN    NaN    NaN    NaN         \n",
       "\n",
       "    7321   7410   7411   7412   7413    7414   7415   7440   7450   7451  \\\n",
       "0    NaN    NaN    NaN    NaN     NaN    NaN    NaN    NaN    NaN    NaN   \n",
       "1    NaN    NaN    NaN    NaN     NaN    NaN    NaN    NaN    NaN    NaN   \n",
       "2    NaN    NaN    NaN    NaN     NaN    NaN    NaN    NaN    NaN    NaN   \n",
       "3    NaN    NaN    NaN    NaN     NaN    NaN    NaN    NaN    NaN    NaN   \n",
       "4    NaN    NaN    NaN    NaN     NaN    NaN    NaN    NaN    NaN    NaN   \n",
       "\n",
       "    7460   7461   7471   7510   7511   7970 - Mandibular Quantity  \\\n",
       "0    NaN    NaN    NaN    NaN    NaN                          NaN   \n",
       "1    NaN    NaN    NaN    NaN    NaN                          NaN   \n",
       "2    NaN    NaN    NaN    NaN    NaN                          NaN   \n",
       "3    NaN    NaN    NaN    NaN    NaN                          NaN   \n",
       "4    NaN    NaN    NaN    NaN    NaN                          NaN   \n",
       "\n",
       "    7970 - Maxillary Quantity    7971   7972   9110   9951  not_restored  \\\n",
       "0                          NaN    NaN    NaN    NaN    NaN             0   \n",
       "1                          NaN    NaN    NaN    NaN    NaN             0   \n",
       "2                          NaN    NaN    NaN    NaN    NaN             0   \n",
       "3                          NaN    NaN    NaN    NaN    NaN             0   \n",
       "4                          NaN    NaN    NaN    NaN    NaN             0   \n",
       "\n",
       "   restored  \n",
       "0         0  \n",
       "1         0  \n",
       "2         0  \n",
       "3         0  \n",
       "4         0  "
      ]
     },
     "execution_count": 275,
     "metadata": {},
     "output_type": "execute_result"
    }
   ],
   "source": [
    "urgent_restored.head()"
   ]
  },
  {
   "cell_type": "markdown",
   "id": "42e05f55",
   "metadata": {},
   "source": [
    "Early_care\n",
    "-\n",
    "restored_yes"
   ]
  },
  {
   "cell_type": "code",
   "execution_count": 277,
   "id": "5008d52f",
   "metadata": {},
   "outputs": [],
   "source": [
    "early_restored = early_care_merged"
   ]
  },
  {
   "cell_type": "code",
   "execution_count": 278,
   "id": "048f036a",
   "metadata": {},
   "outputs": [],
   "source": [
    "early_restored = early_restored.iloc[:,12:]"
   ]
  },
  {
   "cell_type": "code",
   "execution_count": 279,
   "id": "e27c0f80",
   "metadata": {},
   "outputs": [],
   "source": [
    "early_restored = early_restored.drop(columns=[' Last Screening Date',\n",
    "                                                'Are you limited in what you can eat?',\n",
    "                                                'Do you need help in these other areas?',\n",
    "                                                'teeth_affect_qualifty_of_life',\n",
    "                                                'mouth_condition',\n",
    "                                                'What is the next step for client encounter?',\n",
    "                                                'barriers ',\n",
    "                                                'What is the outcome for the client?',\n",
    "                                                'Is patient of record date if yes last seen?',\n",
    "                                                ' Gender',' Household Income Level',\n",
    "                                                ' Race/Ethnicity',\n",
    "                                                ' When is the last time you visited your dentist?',\n",
    "                                                ' What care was provided to the enrollee? ',\n",
    "                                                ' Do you have removable dentures?',\n",
    "                                                ' Do you usually wear your denture(s) when you eat?',\n",
    "                                                ' problems_past_year',' brush_frequency',\n",
    "                                                ' Treatment Urgency',\n",
    "                                                'SMILE ON 60+ Treatment Plan - Is the treatment plan completed?',\n",
    "                                                'SMILE ON 60+ Treatment Plan - Was a treatment plan developed?',\n",
    "                                                'SMILE ON 60+ Treatment Plan - social_6_restored',\n",
    "                                                ' Lab Assist narrative',\n",
    "                                                'CallReportNum_y',\n",
    "                                                ' Denture Step Mandibular Quantity',\n",
    "                                                ' Denture Step Maxillary Quantity',\n",
    "                                                ' Is the treatment plan completed?',\n",
    "                                                ' Was a treatment plan developed?',\n",
    "                                                ' # of Lower Natural Teeth',\n",
    "                                                ' # of Upper Natural Teeth',\n",
    "                                                'not_created','created','not_completed','completed'])"
   ]
  },
  {
   "cell_type": "code",
   "execution_count": 280,
   "id": "ad394806",
   "metadata": {},
   "outputs": [],
   "source": [
    "early_restored1 = early_restored.loc[early_restored.restored == 1]\n",
    "early_restored1_sum= early_restored1.agg([sum])\n",
    "early_restored1_sumT = early_restored1_sum.T.sort_values(by='sum',ascending=False)\n",
    "early_restored1_sumT = early_restored1_sumT.iloc[1:]\n",
    "early_restored1_sumT['sum'] = (early_restored1_sumT['sum']/early_restored1_sumT['sum'].sum())*100\n",
    "early_restored1_sumT = early_restored1_sumT.rename(columns={'sum':'early_restored_pct'})\n",
    "early_restored1_sumT = early_restored1_sumT.loc[early_restored1_sumT['early_restored_pct']>0]"
   ]
  },
  {
   "cell_type": "code",
   "execution_count": 281,
   "id": "943787f8",
   "metadata": {},
   "outputs": [
    {
     "data": {
      "text/plain": [
       "<AxesSubplot:>"
      ]
     },
     "execution_count": 281,
     "metadata": {},
     "output_type": "execute_result"
    },
    {
     "data": {
      "image/png": "[encoded data removed]",
      "text/plain": [
       "<Figure size 864x936 with 1 Axes>"
      ]
     },
     "metadata": {
      "needs_background": "light"
     },
     "output_type": "display_data"
    }
   ],
   "source": [
    "early_restored1_sumT.plot.bar(figsize = (12,13))"
   ]
  },
  {
   "cell_type": "markdown",
   "id": "46096f86",
   "metadata": {},
   "source": [
    "restored_no"
   ]
  },
  {
   "cell_type": "code",
   "execution_count": 285,
   "id": "46791d9f",
   "metadata": {},
   "outputs": [],
   "source": [
    "early_restored0 = early_restored.loc[early_restored.not_restored == 1]\n",
    "early_restored0_sum= early_restored0.agg([sum])\n",
    "early_restored0_sumT = early_restored0_sum.T.sort_values(by='sum',ascending=False)\n",
    "early_restored0_sumT = early_restored0_sumT.iloc[1:]\n",
    "early_restored0_sumT['sum'] = (early_restored0_sumT['sum']/early_restored0_sumT['sum'].sum())*100\n",
    "early_restored0_sumT = early_restored0_sumT.rename(columns={'sum':'early_restored_no_pct'})\n",
    "early_restored0_sumT = early_restored0_sumT.loc[early_restored0_sumT['early_restored_no_pct']>0]"
   ]
  },
  {
   "cell_type": "code",
   "execution_count": 286,
   "id": "f6fe64cc",
   "metadata": {},
   "outputs": [
    {
     "data": {
      "text/plain": [
       "<AxesSubplot:>"
      ]
     },
     "execution_count": 286,
     "metadata": {},
     "output_type": "execute_result"
    },
    {
     "data": {
      "image/png": "[encoded data removed]",
      "text/plain": [
       "<Figure size 864x936 with 1 Axes>"
      ]
     },
     "metadata": {
      "needs_background": "light"
     },
     "output_type": "display_data"
    }
   ],
   "source": [
    "early_restored0_sumT.plot.bar(figsize = (12,13))"
   ]
  },
  {
   "cell_type": "markdown",
   "id": "c91e8adf",
   "metadata": {},
   "source": [
    "early combined"
   ]
  },
  {
   "cell_type": "code",
   "execution_count": 327,
   "id": "b94f39b4",
   "metadata": {},
   "outputs": [],
   "source": [
    "early_restored_comb = early_restored1_sumT.join(early_restored0_sumT,how='outer')"
   ]
  },
  {
   "cell_type": "code",
   "execution_count": 328,
   "id": "22c24bb4",
   "metadata": {},
   "outputs": [],
   "source": [
    "early_restored_comb = early_restored_comb.sort_values(by = 'early_restored_pct',ascending=False)"
   ]
  },
  {
   "cell_type": "code",
   "execution_count": 336,
   "id": "85443469",
   "metadata": {},
   "outputs": [
    {
     "data": {
      "text/plain": [
       "<AxesSubplot:title={'center':'Normalized Procedureal Frequency Resulting in Restored to Function (y/n)'}, xlabel='Procedure Codes', ylabel='Percent of Total'>"
      ]
     },
     "execution_count": 336,
     "metadata": {},
     "output_type": "execute_result"
    },
    {
     "data": {
      "image/png": "[encoded data removed]",
      "text/plain": [
       "<Figure size 864x360 with 1 Axes>"
      ]
     },
     "metadata": {
      "needs_background": "light"
     },
     "output_type": "display_data"
    }
   ],
   "source": [
    "early_restored_comb[:12].plot.bar(title= 'Normalized Procedureal Frequency Resulting in Restored to Function (y/n)',\n",
    "                                  xlabel = 'Procedure Codes',\n",
    "                                  ylabel = 'Percent of Total',\n",
    "                                  color=colors_list,\n",
    "                                  grid=True,\n",
    "                                  figsize = (12,5))"
   ]
  },
  {
   "cell_type": "code",
   "execution_count": 276,
   "id": "675f5d42",
   "metadata": {},
   "outputs": [],
   "source": [
    "d = dtale.show(urgent_restored)\n",
    "d.open_browser()"
   ]
  }
 ],
 "metadata": {
  "kernelspec": {
   "display_name": "Python 3",
   "language": "python",
   "name": "python3"
  },
  "language_info": {
   "codemirror_mode": {
    "name": "ipython",
    "version": 3
   },
   "file_extension": ".py",
   "mimetype": "text/x-python",
   "name": "python",
   "nbconvert_exporter": "python",
   "pygments_lexer": "ipython3",
   "version": "3.8.8"
  }
 },
 "nbformat": 4,
 "nbformat_minor": 5
}
