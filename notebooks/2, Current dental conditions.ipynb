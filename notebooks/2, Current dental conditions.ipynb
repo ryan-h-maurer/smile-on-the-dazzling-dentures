{
 "cells": [
  {
   "cell_type": "code",
   "execution_count": null,
   "id": "080fd1b8",
   "metadata": {},
   "outputs": [],
   "source": [
    "import pandas as pd\n",
    "import numpy as np\n",
    "import matplotlib.pyplot as plt\n",
    "import re\n",
    "import seaborn as sns\n",
    "%matplotlib inline"
   ]
  },
  {
   "cell_type": "code",
   "execution_count": null,
   "id": "b48d96a7",
   "metadata": {},
   "outputs": [],
   "source": [
    "pd.set_option('display.max_columns', None)"
   ]
  },
  {
   "cell_type": "code",
   "execution_count": null,
   "id": "6a7b1499",
   "metadata": {
    "scrolled": true
   },
   "outputs": [],
   "source": [
    "smile = pd.read_csv('../data/smile_clean.csv').drop('Unnamed: 0', axis = 1)\n",
    "smile.head(3)"
   ]
  },
  {
   "cell_type": "markdown",
   "id": "4164071b",
   "metadata": {},
   "source": [
    "### nashville patients only"
   ]
  },
  {
   "cell_type": "code",
   "execution_count": null,
   "id": "78ef442f",
   "metadata": {
    "scrolled": false
   },
   "outputs": [],
   "source": [
    "nash = pd.read_csv('../data/nash_visitors.csv').drop('Unnamed: 0', axis = 1)\n",
    "nash.head(3)"
   ]
  },
  {
   "cell_type": "markdown",
   "id": "dcc85fdf",
   "metadata": {},
   "source": [
    "### memphis patients only"
   ]
  },
  {
   "cell_type": "code",
   "execution_count": null,
   "id": "3ab74a94",
   "metadata": {
    "scrolled": true
   },
   "outputs": [],
   "source": [
    "memp = pd.read_csv('../data/memp_visitors.csv').drop('Unnamed: 0', axis = 1)\n",
    "memp.head(3)"
   ]
  },
  {
   "cell_type": "code",
   "execution_count": null,
   "id": "e6fcb5e7",
   "metadata": {},
   "outputs": [],
   "source": []
  },
  {
   "cell_type": "markdown",
   "id": "216e37f9",
   "metadata": {},
   "source": [
    "### counts of initial issues"
   ]
  },
  {
   "cell_type": "code",
   "execution_count": null,
   "id": "a86b5f87",
   "metadata": {
    "scrolled": false
   },
   "outputs": [],
   "source": [
    "upper = smile.value_counts(\"num of upper natural teeth\")\n",
    "upper"
   ]
  },
  {
   "cell_type": "code",
   "execution_count": null,
   "id": "c9aa6842",
   "metadata": {},
   "outputs": [],
   "source": [
    "lower = smile.value_counts(\"num of lower natural teeth\")\n",
    "lower"
   ]
  },
  {
   "cell_type": "code",
   "execution_count": null,
   "id": "080a0e3c",
   "metadata": {},
   "outputs": [],
   "source": [
    "removable_dentures = smile.value_counts(\"removable dentures\")\n",
    "removable_dentures"
   ]
  },
  {
   "cell_type": "code",
   "execution_count": null,
   "id": "4e6f0201",
   "metadata": {},
   "outputs": [],
   "source": [
    "periodontal_care = smile.value_counts(\"need for periodontal care\")\n",
    "periodontal_care"
   ]
  },
  {
   "cell_type": "code",
   "execution_count": null,
   "id": "cf88c101",
   "metadata": {},
   "outputs": [],
   "source": [
    "root_fragments = smile.value_counts(\"root fragments\")\n",
    "root_fragments"
   ]
  },
  {
   "cell_type": "code",
   "execution_count": null,
   "id": "d2f2f0c1",
   "metadata": {},
   "outputs": [],
   "source": [
    "soft_tissue_lesions = smile.value_counts(\"suspicious soft tissue lesions\")\n",
    "soft_tissue_lesions"
   ]
  },
  {
   "cell_type": "code",
   "execution_count": null,
   "id": "f1cc7ad9",
   "metadata": {},
   "outputs": [],
   "source": [
    "untreated_decay = smile.value_counts(\"untreated decay\")\n",
    "untreated_decay"
   ]
  },
  {
   "cell_type": "code",
   "execution_count": null,
   "id": "cfd5e4e0",
   "metadata": {
    "scrolled": true
   },
   "outputs": [],
   "source": [
    "treatment_urgency = smile.value_counts(\"treatment urgency\")\n",
    "treatment_urgency"
   ]
  },
  {
   "cell_type": "markdown",
   "id": "f6bf7ea2",
   "metadata": {},
   "source": [
    "### create some visuals"
   ]
  },
  {
   "cell_type": "code",
   "execution_count": null,
   "id": "83025c02",
   "metadata": {},
   "outputs": [],
   "source": [
    "needs = (smile[['callernum',\n",
    "               'treatment urgency',\n",
    "               'untreated decay',\n",
    "               'suspicious soft tissue lesions',\n",
    "               'root fragments',\n",
    "               'need for periodontal care']])\n",
    "needs"
   ]
  },
  {
   "cell_type": "code",
   "execution_count": null,
   "id": "e4c46455",
   "metadata": {},
   "outputs": [],
   "source": [
    "needs = needs.astype(str)"
   ]
  },
  {
   "cell_type": "code",
   "execution_count": null,
   "id": "72fcacee",
   "metadata": {},
   "outputs": [],
   "source": [
    "needs['callernum'] = needs['callernum'].astype(int)"
   ]
  },
  {
   "cell_type": "code",
   "execution_count": null,
   "id": "6711894b",
   "metadata": {
    "scrolled": true
   },
   "outputs": [],
   "source": [
    "needs.info()"
   ]
  },
  {
   "cell_type": "code",
   "execution_count": null,
   "id": "5eb99781",
   "metadata": {},
   "outputs": [],
   "source": [
    "smile.info()"
   ]
  },
  {
   "cell_type": "code",
   "execution_count": null,
   "id": "4ee87102",
   "metadata": {
    "scrolled": false
   },
   "outputs": [],
   "source": [
    "treatment_urgency.plot(kind='bar')\n",
    "plt.xticks(rotation=45)"
   ]
  },
  {
   "cell_type": "code",
   "execution_count": null,
   "id": "b2e818db",
   "metadata": {
    "scrolled": true
   },
   "outputs": [],
   "source": [
    "smile['num of upper natural teeth'].value_counts().plot.hist()"
   ]
  },
  {
   "cell_type": "code",
   "execution_count": null,
   "id": "c6cfde0b",
   "metadata": {
    "scrolled": true
   },
   "outputs": [],
   "source": [
    "smile['num of lower natural teeth'].value_counts().plot.hist()"
   ]
  },
  {
   "cell_type": "code",
   "execution_count": null,
   "id": "2759c4eb",
   "metadata": {
    "scrolled": false
   },
   "outputs": [],
   "source": [
    "sns.set(rc={\"figure.figsize\":(13, 8)},font_scale=1.5, style=\"whitegrid\")\n",
    "\n",
    "# Palette details\n",
    "smileplus_palette = sns.color_palette([\"#507184\",\"#18425A\",\"#0D94BF\",\"#5B9FC6\"])\n",
    "sns.set_palette(smileplus_palette)\n",
    "\n",
    "sns.histplot(data = smile, x='callernum', hue='num of upper natural teeth', bins=10)"
   ]
  },
  {
   "cell_type": "code",
   "execution_count": null,
   "id": "6f730e21",
   "metadata": {
    "scrolled": false
   },
   "outputs": [],
   "source": [
    "sns.set(rc={\"figure.figsize\":(13, 8)},font_scale=1.5, style=\"whitegrid\")\n",
    "\n",
    "# Palette details\n",
    "smileplus_palette = sns.color_palette([\"#507184\",\"#18425A\",\"#0D94BF\",\"#5B9FC6\"])\n",
    "sns.set_palette(smileplus_palette)\n",
    "\n",
    "sns.histplot(data = smile, x='callernum', hue='num of lower natural teeth', bins=10)"
   ]
  },
  {
   "cell_type": "code",
   "execution_count": null,
   "id": "22975edd",
   "metadata": {
    "scrolled": false
   },
   "outputs": [],
   "source": [
    "sns.set(rc={\"figure.figsize\":(13, 8)},font_scale=1.5, style=\"whitegrid\")\n",
    "\n",
    "# Palette details\n",
    "smileplus_palette = sns.color_palette([\"#507184\",\"#18425A\",\"#0D94BF\",\"#5B9FC6\"])\n",
    "sns.set_palette(smileplus_palette)\n",
    "\n",
    "sns.histplot(data = smile, x='callernum', hue='removable dentures', bins=10)"
   ]
  },
  {
   "cell_type": "code",
   "execution_count": null,
   "id": "6fb42c20",
   "metadata": {
    "scrolled": false
   },
   "outputs": [],
   "source": [
    "sns.set(rc={\"figure.figsize\":(13, 8)},font_scale=1.5, style=\"whitegrid\")\n",
    "\n",
    "# Palette details\n",
    "smileplus_palette = sns.color_palette([\"#507184\",\"#18425A\",\"#0D94BF\",\"#5B9FC6\"])\n",
    "sns.set_palette(smileplus_palette)\n",
    "\n",
    "sns.histplot(data = smile, x='callernum', hue='need for periodontal care', bins=10)\n",
    "plt.savefig('../visuals/need for peridontal care.png')"
   ]
  },
  {
   "cell_type": "code",
   "execution_count": null,
   "id": "0efa96d9",
   "metadata": {},
   "outputs": [],
   "source": [
    "sns.set(rc={\"figure.figsize\":(13, 8)},font_scale=1.5, style=\"whitegrid\")\n",
    "\n",
    "# Palette details\n",
    "smileplus_palette = sns.color_palette([\"#507184\",\"#18425A\",\"#0D94BF\",\"#5B9FC6\"])\n",
    "sns.set_palette(smileplus_palette)\n",
    "\n",
    "sns.histplot(data = smile, x='callernum', hue='root fragments', bins=10)\n",
    "plt.savefig('../visuals/root fragments.png')"
   ]
  },
  {
   "cell_type": "code",
   "execution_count": null,
   "id": "b32b5c7d",
   "metadata": {},
   "outputs": [],
   "source": [
    "sns.set(rc={\"figure.figsize\":(13, 8)},font_scale=1.5, style=\"whitegrid\")\n",
    "\n",
    "# Palette details\n",
    "smileplus_palette = sns.color_palette([\"#507184\",\"#18425A\",\"#0D94BF\",\"#5B9FC6\"])\n",
    "sns.set_palette(smileplus_palette)\n",
    "\n",
    "sns.histplot(data = smile, x='callernum', hue='suspicious soft tissue lesions', bins=10)\n",
    "plt.savefig('../visuals/suspicious soft tissue lesions.png')"
   ]
  },
  {
   "cell_type": "code",
   "execution_count": null,
   "id": "290b1270",
   "metadata": {
    "scrolled": false
   },
   "outputs": [],
   "source": [
    "sns.set(rc={\"figure.figsize\":(13, 8)},font_scale=1.5, style=\"whitegrid\")\n",
    "\n",
    "# Palette details\n",
    "smileplus_palette = sns.color_palette([\"#507184\",\"#18425A\",\"#0D94BF\",\"#5B9FC6\"])\n",
    "sns.set_palette(smileplus_palette)\n",
    "\n",
    "sns.histplot(data = smile, x='callernum', hue='treatment urgency', bins=10)\n",
    "plt.savefig('../visuals/treatment urgency.png')"
   ]
  },
  {
   "cell_type": "code",
   "execution_count": null,
   "id": "5fe7b40a",
   "metadata": {
    "scrolled": false
   },
   "outputs": [],
   "source": [
    "sns.set(rc={\"figure.figsize\":(13, 8)},font_scale=1.5, style=\"whitegrid\")\n",
    "\n",
    "# Palette details\n",
    "smileplus_palette = sns.color_palette([\"#507184\",\"#18425A\",\"#0D94BF\",\"#5B9FC6\"])\n",
    "sns.set_palette(smileplus_palette)\n",
    "\n",
    "sns.histplot(data = smile, x='callernum', hue='untreated decay', bins=25)\n",
    "plt.savefig('../visuals/untreated decay.png')"
   ]
  },
  {
   "cell_type": "code",
   "execution_count": null,
   "id": "acd76975",
   "metadata": {},
   "outputs": [],
   "source": [
    "patient = needs.groupby([\"callernum\"])[\"callernum\"].nunique()\n",
    "patient"
   ]
  },
  {
   "cell_type": "code",
   "execution_count": null,
   "id": "2f808dc1",
   "metadata": {
    "scrolled": false
   },
   "outputs": [],
   "source": [
    "needs.info()"
   ]
  },
  {
   "cell_type": "code",
   "execution_count": null,
   "id": "230f82e7",
   "metadata": {},
   "outputs": [],
   "source": [
    "# Palette details\n",
    "smileplus_palette = sns.color_palette([\"#507184\",\"#18425A\",\"#0D94BF\",\"#5B9FC6\"])\n",
    "sns.set_palette(smileplus_palette)\n",
    "\n",
    "fig, axs = plt.subplots(2, 2, figsize=(15,15))\n",
    "\n",
    "for ax in fig.axes:\n",
    "    plt.sca(ax)\n",
    "    plt.xticks(rotation=45)\n",
    "\n",
    "sns.histplot(data=smile, x=\"callernum\", hue =\"untreated decay\", color=\"#507184\", bins=10, ax=axs[0, 0])\n",
    "sns.histplot(data=smile, x=\"callernum\", hue =\"root fragments\", color=\"#18425A\", ax=axs[0, 1])\n",
    "sns.histplot(data=smile, x=\"callernum\", hue =\"need for periodontal care\", color=\"#0D94BF\", ax=axs[1, 0])\n",
    "sns.histplot(data=smile, x=\"callernum\", hue =\"treatment urgency\", color=\"#5B9FC6\", ax=axs[1, 1])\n",
    "\n",
    "plt.tight_layout(pad=3.0)\n",
    "plt.show()"
   ]
  },
  {
   "cell_type": "code",
   "execution_count": null,
   "id": "4580dc2e",
   "metadata": {},
   "outputs": [],
   "source": [
    "# Palette details\n",
    "smileplus_palette = sns.color_palette([\"#507184\",\"#18425A\",\"#0D94BF\",\"#5B9FC6\"])\n",
    "sns.set_palette(smileplus_palette)\n",
    "\n",
    "fig, axs = plt.subplots(2, 2, figsize=(15,15))\n",
    "\n",
    "for ax in fig.axes:\n",
    "    plt.sca(ax)\n",
    "    plt.xticks(rotation=45)\n",
    "\n",
    "sns.histplot(data=needs, x=\"untreated decay\", color=\"#507184\", bins=10, ax=axs[0, 0])\n",
    "sns.histplot(data=needs, x=\"root fragments\", color=\"#18425A\", ax=axs[0, 1])\n",
    "sns.histplot(data=needs, x=\"need for periodontal care\", color=\"#0D94BF\", ax=axs[1, 0])\n",
    "sns.histplot(data=needs, x=\"treatment urgency\", color=\"#5B9FC6\", ax=axs[1, 1])\n",
    "\n",
    "plt.tight_layout(pad=3.0)\n",
    "plt.show()"
   ]
  },
  {
   "cell_type": "code",
   "execution_count": null,
   "id": "98c0aba3",
   "metadata": {
    "scrolled": false
   },
   "outputs": [],
   "source": [
    "# Palette details\n",
    "smileplus_palette = sns.color_palette([\"#507184\",\"#18425A\",\"#0D94BF\",\"#5B9FC6\"])\n",
    "sns.set_palette(smileplus_palette)\n",
    "\n",
    "#create subplots\n",
    "fig, axs = plt.subplots(2, 2, figsize=(20,12))\n",
    "\n",
    "untreated_decay.plot(kind='bar', color= \"#507184\", ax=axs[0, 0])\n",
    "periodontal_care.plot(kind='bar', color=\"#18425A\", ax=axs[0, 1])\n",
    "root_fragments.plot(kind='bar', color=\"#0D94BF\", ax=axs[1, 0])\n",
    "soft_tissue_lesions.plot(kind='bar', color=\"#5B9FC6\", ax=axs[1, 1])\n",
    "\n",
    "#for loop to rotate column values\n",
    "for ax in fig.axes:\n",
    "    plt.sca(ax)\n",
    "    plt.xticks(rotation=45)\n",
    "\n",
    "#for loop to add y labels\n",
    "#for fig in fig.axes:\n",
    " #   plt.sca(fig)\n",
    "  #  ax.set_ylabel('Number of Patients')\n",
    "    \n",
    "plt.tight_layout(pad=3.0)\n",
    "plt.show()\n",
    "\n",
    "#when saved, blank canvas?? instead \"save photo as\"\n",
    "#plt.savefig('../visuals/patient needs.png')"
   ]
  }
 ],
 "metadata": {
  "kernelspec": {
   "display_name": "Python 3",
   "language": "python",
   "name": "python3"
  },
  "language_info": {
   "codemirror_mode": {
    "name": "ipython",
    "version": 3
   },
   "file_extension": ".py",
   "mimetype": "text/x-python",
   "name": "python",
   "nbconvert_exporter": "python",
   "pygments_lexer": "ipython3",
   "version": "3.8.8"
  }
 },
 "nbformat": 4,
 "nbformat_minor": 5
}
