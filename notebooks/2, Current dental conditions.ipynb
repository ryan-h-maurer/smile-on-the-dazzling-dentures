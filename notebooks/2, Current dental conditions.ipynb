{
 "cells": [
  {
   "cell_type": "code",
   "execution_count": null,
   "id": "080fd1b8",
   "metadata": {},
   "outputs": [],
   "source": [
    "import pandas as pd\n",
    "import numpy as np\n",
    "import matplotlib.pyplot as plt\n",
    "import re\n",
    "import seaborn as sns\n",
    "%matplotlib inline"
   ]
  },
  {
   "cell_type": "code",
   "execution_count": null,
   "id": "b48d96a7",
   "metadata": {},
   "outputs": [],
   "source": [
    "pd.set_option('display.max_columns', None)"
   ]
  },
  {
   "cell_type": "code",
   "execution_count": null,
   "id": "6a7b1499",
   "metadata": {
    "scrolled": true
   },
   "outputs": [],
   "source": [
    "smile = pd.read_csv('../data/smile_clean.csv').drop('Unnamed: 0', axis = 1)\n",
    "smile.head(3)"
   ]
  },
  {
   "cell_type": "markdown",
   "id": "4164071b",
   "metadata": {},
   "source": [
    "### nashville patients only"
   ]
  },
  {
   "cell_type": "code",
   "execution_count": null,
   "id": "78ef442f",
   "metadata": {
    "scrolled": false
   },
   "outputs": [],
   "source": [
    "nash = pd.read_csv('../data/nash_visitors.csv').drop('Unnamed: 0', axis = 1)\n",
    "nash.head(3)"
   ]
  },
  {
   "cell_type": "markdown",
   "id": "dcc85fdf",
   "metadata": {},
   "source": [
    "### memphis patients only"
   ]
  },
  {
   "cell_type": "code",
   "execution_count": null,
   "id": "3ab74a94",
   "metadata": {
    "scrolled": true
   },
   "outputs": [],
   "source": [
    "memp = pd.read_csv('../data/memp_visitors.csv').drop('Unnamed: 0', axis = 1)\n",
    "memp.head(3)"
   ]
  },
  {
   "cell_type": "markdown",
   "id": "216e37f9",
   "metadata": {},
   "source": [
    "### counts of initial issues"
   ]
  },
  {
   "cell_type": "code",
   "execution_count": null,
   "id": "a86b5f87",
   "metadata": {
    "scrolled": false
   },
   "outputs": [],
   "source": [
    "upper = smile.value_counts(\"num of upper natural teeth\")\n",
    "upper"
   ]
  },
  {
   "cell_type": "code",
   "execution_count": null,
   "id": "c9aa6842",
   "metadata": {},
   "outputs": [],
   "source": [
    "lower = smile.value_counts(\"num of lower natural teeth\")\n",
    "lower"
   ]
  },
  {
   "cell_type": "code",
   "execution_count": null,
   "id": "080a0e3c",
   "metadata": {},
   "outputs": [],
   "source": [
    "removable_dentures = smile.value_counts(\"removable dentures\")\n",
    "removable_dentures"
   ]
  },
  {
   "cell_type": "code",
   "execution_count": null,
   "id": "4e6f0201",
   "metadata": {},
   "outputs": [],
   "source": [
    "periodontal_care = smile.value_counts(\"need for periodontal care\")\n",
    "periodontal_care"
   ]
  },
  {
   "cell_type": "code",
   "execution_count": null,
   "id": "cf88c101",
   "metadata": {},
   "outputs": [],
   "source": [
    "root_fragments = smile.value_counts(\"root fragments\")\n",
    "root_fragments"
   ]
  },
  {
   "cell_type": "code",
   "execution_count": null,
   "id": "d2f2f0c1",
   "metadata": {},
   "outputs": [],
   "source": [
    "soft_tissue_lesions = smile.value_counts(\"suspicious soft tissue lesions\")\n",
    "soft_tissue_lesions"
   ]
  },
  {
   "cell_type": "code",
   "execution_count": null,
   "id": "f1cc7ad9",
   "metadata": {},
   "outputs": [],
   "source": [
    "untreated_decay = smile.value_counts(\"untreated decay\")\n",
    "untreated_decay"
   ]
  },
  {
   "cell_type": "code",
   "execution_count": null,
   "id": "6840d411",
   "metadata": {
    "scrolled": true
   },
   "outputs": [],
   "source": [
    "brush_frequency = smile.value_counts(\"how often do you brush your teeth\")\n",
    "brush_frequency"
   ]
  },
  {
   "cell_type": "code",
   "execution_count": null,
   "id": "cfd5e4e0",
   "metadata": {
    "scrolled": false
   },
   "outputs": [],
   "source": [
    "treatment_urgency = smile.value_counts(\"treatment urgency\")\n",
    "treatment_urgency"
   ]
  },
  {
   "cell_type": "markdown",
   "id": "f6bf7ea2",
   "metadata": {},
   "source": [
    "### create some visuals"
   ]
  },
  {
   "cell_type": "code",
   "execution_count": null,
   "id": "5eb99781",
   "metadata": {},
   "outputs": [],
   "source": [
    "smile.info()"
   ]
  },
  {
   "cell_type": "code",
   "execution_count": null,
   "id": "b2e818db",
   "metadata": {
    "scrolled": true
   },
   "outputs": [],
   "source": [
    "smile['num of upper natural teeth'].value_counts().plot.hist()"
   ]
  },
  {
   "cell_type": "code",
   "execution_count": null,
   "id": "c6cfde0b",
   "metadata": {
    "scrolled": true
   },
   "outputs": [],
   "source": [
    "smile['num of lower natural teeth'].value_counts().plot.hist()"
   ]
  },
  {
   "cell_type": "code",
   "execution_count": null,
   "id": "2759c4eb",
   "metadata": {
    "scrolled": false
   },
   "outputs": [],
   "source": [
    "sns.set(rc={\"figure.figsize\":(13, 8)},font_scale=1.5, style=\"whitegrid\")\n",
    "\n",
    "# Palette details\n",
    "smileplus_palette = sns.color_palette([\"#507184\",\"#18425A\",\"#0D94BF\",\"#5B9FC6\"])\n",
    "sns.set_palette(smileplus_palette)\n",
    "\n",
    "sns.histplot(data = smile, x='callernum', hue='num of upper natural teeth', bins=10)"
   ]
  },
  {
   "cell_type": "code",
   "execution_count": null,
   "id": "6f730e21",
   "metadata": {
    "scrolled": false
   },
   "outputs": [],
   "source": [
    "sns.set(rc={\"figure.figsize\":(13, 8)},font_scale=1.5, style=\"whitegrid\")\n",
    "\n",
    "# Palette details\n",
    "smileplus_palette = sns.color_palette([\"#507184\",\"#18425A\",\"#0D94BF\",\"#5B9FC6\"])\n",
    "sns.set_palette(smileplus_palette)\n",
    "\n",
    "sns.histplot(data = smile, x='callernum', hue='num of lower natural teeth', bins=10)"
   ]
  },
  {
   "cell_type": "code",
   "execution_count": null,
   "id": "22975edd",
   "metadata": {
    "scrolled": false
   },
   "outputs": [],
   "source": [
    "sns.set(rc={\"figure.figsize\":(13, 8)},font_scale=1.5, style=\"whitegrid\")\n",
    "\n",
    "# Palette details\n",
    "smileplus_palette = sns.color_palette([\"#507184\",\"#18425A\",\"#0D94BF\",\"#5B9FC6\"])\n",
    "sns.set_palette(smileplus_palette)\n",
    "\n",
    "sns.histplot(data = smile, x='callernum', hue='removable dentures', bins=10)"
   ]
  },
  {
   "cell_type": "code",
   "execution_count": null,
   "id": "6fb42c20",
   "metadata": {
    "scrolled": false
   },
   "outputs": [],
   "source": [
    "sns.set(rc={\"figure.figsize\":(13, 8)},font_scale=1.5, style=\"whitegrid\")\n",
    "\n",
    "# Palette details\n",
    "smileplus_palette = sns.color_palette([\"#507184\",\"#18425A\",\"#0D94BF\",\"#5B9FC6\"])\n",
    "sns.set_palette(smileplus_palette)\n",
    "\n",
    "sns.histplot(data = smile, x='callernum', hue='need for periodontal care', bins=10)\n",
    "plt.savefig('../visuals/need for peridontal care.png')"
   ]
  },
  {
   "cell_type": "code",
   "execution_count": null,
   "id": "0efa96d9",
   "metadata": {},
   "outputs": [],
   "source": [
    "sns.set(rc={\"figure.figsize\":(13, 8)},font_scale=1.5, style=\"whitegrid\")\n",
    "\n",
    "# Palette details\n",
    "smileplus_palette = sns.color_palette([\"#507184\",\"#18425A\",\"#0D94BF\",\"#5B9FC6\"])\n",
    "sns.set_palette(smileplus_palette)\n",
    "\n",
    "sns.histplot(data = smile, x='callernum', hue='root fragments', bins=10)\n",
    "plt.savefig('../visuals/root fragments.png')"
   ]
  },
  {
   "cell_type": "code",
   "execution_count": null,
   "id": "b32b5c7d",
   "metadata": {},
   "outputs": [],
   "source": [
    "sns.set(rc={\"figure.figsize\":(13, 8)},font_scale=1.5, style=\"whitegrid\")\n",
    "\n",
    "# Palette details\n",
    "smileplus_palette = sns.color_palette([\"#507184\",\"#18425A\",\"#0D94BF\",\"#5B9FC6\"])\n",
    "sns.set_palette(smileplus_palette)\n",
    "\n",
    "sns.histplot(data = smile, x='callernum', hue='suspicious soft tissue lesions', bins=10)\n",
    "plt.savefig('../visuals/suspicious soft tissue lesions.png')"
   ]
  },
  {
   "cell_type": "code",
   "execution_count": null,
   "id": "290b1270",
   "metadata": {
    "scrolled": false
   },
   "outputs": [],
   "source": [
    "sns.set(rc={\"figure.figsize\":(13, 8)},font_scale=1.5, style=\"whitegrid\")\n",
    "\n",
    "# Palette details\n",
    "smileplus_palette = sns.color_palette([\"#507184\",\"#18425A\",\"#0D94BF\",\"#5B9FC6\"])\n",
    "sns.set_palette(smileplus_palette)\n",
    "\n",
    "sns.histplot(data = smile, x='callernum', hue='treatment urgency', bins=10)\n",
    "plt.savefig('../visuals/treatment urgency.png')"
   ]
  },
  {
   "cell_type": "code",
   "execution_count": null,
   "id": "5fe7b40a",
   "metadata": {},
   "outputs": [],
   "source": [
    "sns.set(rc={\"figure.figsize\":(13, 8)},font_scale=1.5, style=\"whitegrid\")\n",
    "\n",
    "# Palette details\n",
    "smileplus_palette = sns.color_palette([\"#507184\",\"#18425A\",\"#0D94BF\",\"#5B9FC6\"])\n",
    "sns.set_palette(smileplus_palette)\n",
    "\n",
    "sns.histplot(data = smile, x='callernum', hue='untreated decay', bins=10)\n",
    "plt.savefig('../visuals/untreated decay.png')"
   ]
  },
  {
   "cell_type": "markdown",
   "id": "42ebef9c",
   "metadata": {},
   "source": [
    "### unfinished visuals"
   ]
  },
  {
   "cell_type": "markdown",
   "id": "9551f0ca",
   "metadata": {},
   "source": [
    "sns.set(rc={\"figure.figsize\":(12,8)},font_scale=1.5, style=\"whitegrid\")\n",
    "\n",
    "# Palette details\n",
    "smileplus_palette = sns.color_palette([\"#507184\",\"#18425A\",\"#0D94BF\",\"#5B9FC6\"])\n",
    "sns.set_palette(smileplus_palette)\n",
    "\n",
    "sns.relplot(x='untreated decay', y='callernum', data= smile, col='treatment urgency')"
   ]
  },
  {
   "cell_type": "markdown",
   "id": "b0f34daa",
   "metadata": {},
   "source": [
    "tips = sns.load_dataset(\"tips\")\n",
    "sns.FacetGrid(tips)"
   ]
  },
  {
   "cell_type": "markdown",
   "id": "acbf4d8a",
   "metadata": {},
   "source": [
    "sns.FacetGrid(tips, col=\"untreated decay\", row=\"root fragments\")\n",
    "g.map_dataframe(sns.histplot, x=\"callernum\")"
   ]
  },
  {
   "cell_type": "markdown",
   "id": "ebba4eaf",
   "metadata": {},
   "source": [
    "### trying to utilize DP's code for dental issues"
   ]
  },
  {
   "cell_type": "markdown",
   "id": "ce35e67f",
   "metadata": {},
   "source": [
    "smile.loc[~smile['callernum'].isin([-1,-2])]['callernum'].nunique()"
   ]
  },
  {
   "cell_type": "markdown",
   "id": "61d89101",
   "metadata": {},
   "source": [
    "clients_list = smile.loc[~smile[\"callernum\"].isin([-1,-2])][\"callernum\"].unique()\n",
    "clients_list"
   ]
  },
  {
   "cell_type": "markdown",
   "id": "20ca3372",
   "metadata": {},
   "source": [
    "n_clients_list = smile.loc[~smile[\"callernum\"].isin([-1,-2])][\"callernum\"].nunique()\n",
    "clients_list = smile.loc[~smile[\"callernum\"].isin([-1,-2])][\"callernum\"].unique()\n",
    "\n",
    "def make_callernum_dict(dataframe, colname):\n",
    "    results = {}\n",
    "    x=0\n",
    "    while x in range (0,n_clients_list):\n",
    "        patientdf = dataframe.loc[dataframe[colname]==clients_list[x]]\n",
    "        results[clients_list[x]] = patientdf\n",
    "        x += 1\n",
    "    return results\n",
    "    \n",
    "callernum_dict = make_callernum_dict(smile,\"callernum\")"
   ]
  },
  {
   "cell_type": "markdown",
   "id": "082c361e",
   "metadata": {},
   "source": [
    "len(callernum_dict.keys())"
   ]
  },
  {
   "cell_type": "markdown",
   "id": "68631386",
   "metadata": {},
   "source": [
    "callerNum_dict[4481785][\"Base-line Oral and Conditions Questions - How would you describe the condition of your mouth and teeth?\"].nunique()"
   ]
  }
 ],
 "metadata": {
  "kernelspec": {
   "display_name": "Python 3",
   "language": "python",
   "name": "python3"
  },
  "language_info": {
   "codemirror_mode": {
    "name": "ipython",
    "version": 3
   },
   "file_extension": ".py",
   "mimetype": "text/x-python",
   "name": "python",
   "nbconvert_exporter": "python",
   "pygments_lexer": "ipython3",
   "version": "3.8.8"
  }
 },
 "nbformat": 4,
 "nbformat_minor": 5
}
