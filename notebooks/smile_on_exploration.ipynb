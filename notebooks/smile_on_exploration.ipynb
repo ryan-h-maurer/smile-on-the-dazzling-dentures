{
 "cells": [
  {
   "cell_type": "code",
   "execution_count": 2,
   "id": "25c0bda7",
   "metadata": {},
   "outputs": [],
   "source": [
    "import pandas as pd\n",
    "import matplotlib.pyplot as plt\n",
    "import dtale as dt"
   ]
  },
  {
   "cell_type": "code",
   "execution_count": 3,
   "id": "d9df2717",
   "metadata": {
    "scrolled": false
   },
   "outputs": [],
   "source": [
    "def convert_dtype(x):\n",
    "    if not x:\n",
    "        return ''\n",
    "    try:\n",
    "        return str(x)   \n",
    "    except:        \n",
    "        return ''\n",
    "    \n",
    "def convert_dtypea(x):\n",
    "    if not x:\n",
    "        return ''\n",
    "    try:\n",
    "        return int(x)   \n",
    "    except:        \n",
    "        return ''\n",
    "\n",
    "#converting datatypes\n",
    "smile = pd.read_csv('../data/Smileon.2021.10.17.csv', skiprows=2, header=0, encoding='latin-1',  converters={\n",
    "    'LinkedToCallReportNum':convert_dtype, 'ThirdPartyStateProvince':convert_dtype, 'FeedbackFromPhoneWorkerName':convert_dtype,\n",
    "'SMILE ON 60+ Demographic Information - # of People in Household':convert_dtypea, 'SMILE ON 60+ Oral Care Encounter - 2393 - Quantity':convert_dtypea,\n",
    "'SMILE ON 60+ Oral Care Encounter - 2950 - Quantity':convert_dtypea, 'Birth Year':convert_dtype, 'SMILE ON 60+ Oral Care Encounter - 4342 - Quantity':convert_dtypea,\n",
    "'SMILE ON 60+ Oral Care Encounter - 7140 - Quantity':convert_dtypea, 'SMILE ON 60+ Oral Care Encounter - 7320 - Quantity':convert_dtypea,\n",
    "'SMILE ON 60+ Oral Care Encounter - Lab Assist narrative':convert_dtype, 'SMILE ON 60+ Case Management Information - What is the outcome for the client?':convert_dtype,\n",
    "'SMILE ON 60+ Case Management Information - Dental Clinic':convert_dtype}\n",
    ")"
   ]
  },
  {
   "cell_type": "code",
   "execution_count": 4,
   "id": "9a27dc96",
   "metadata": {},
   "outputs": [
    {
     "name": "stdout",
     "output_type": "stream",
     "text": [
      "<class 'pandas.core.frame.DataFrame'>\n",
      "RangeIndex: 57860 entries, 0 to 57859\n",
      "Columns: 184 entries, CallReportNum to SMILE ON 60+ Verification of Eligibility - Verification of Eligibility\n",
      "dtypes: float64(103), int64(6), object(75)\n",
      "memory usage: 81.2+ MB\n"
     ]
    }
   ],
   "source": [
    "smile.info()"
   ]
  },
  {
   "cell_type": "code",
   "execution_count": 5,
   "id": "ea1e1301",
   "metadata": {},
   "outputs": [],
   "source": [
    "#dropping unused columns\n",
    "smile_new = smile.drop(columns={'WasRealCall','WasHangup','WasSexCall','WasWrongNumber','WasPrankCall','WasSilentCall','GeoCode',\n",
    "                   'GeoAssignment','CensusDivision','CensusTrack','CensusReportingArea','211Region',\n",
    "                   'ThirdPartyName','ThirdPartyOrganization','ThirdPartyPhoneNumber','ThirdPartyAddress',\n",
    "                   'ThirdPartyCity','ThirdPartyCounty','ThirdPartyStateProvince','ThirdPartyPostalCode',\n",
    "                   'VolunteerComments','CallersFeedback','TextField2','TextField3','TextField4','TextField5',\n",
    "                   'TextField6','TextField7','TextField8','TextField9','TextField10','Supervisor','IPAddress',\n",
    "                   'VolIdentifier'})"
   ]
  },
  {
   "cell_type": "code",
   "execution_count": 6,
   "id": "edb07d9b",
   "metadata": {
    "scrolled": true
   },
   "outputs": [
    {
     "name": "stdout",
     "output_type": "stream",
     "text": [
      "<class 'pandas.core.frame.DataFrame'>\n",
      "RangeIndex: 57860 entries, 0 to 57859\n",
      "Columns: 150 entries, CallReportNum to SMILE ON 60+ Verification of Eligibility - Verification of Eligibility\n",
      "dtypes: float64(70), int64(6), object(74)\n",
      "memory usage: 66.2+ MB\n"
     ]
    }
   ],
   "source": [
    "smile_new.info()"
   ]
  },
  {
   "cell_type": "code",
   "execution_count": 7,
   "id": "d5200b90",
   "metadata": {},
   "outputs": [],
   "source": [
    "#dropping dup column\n",
    "smile_new = smile_new.drop(columns={'SMILE ON 60+ Presumptive Eligibility - What is the next step for clients encounter? '})"
   ]
  },
  {
   "cell_type": "code",
   "execution_count": 8,
   "id": "628ff71f",
   "metadata": {},
   "outputs": [],
   "source": [
    "import re"
   ]
  },
  {
   "cell_type": "code",
   "execution_count": 9,
   "id": "912b7253",
   "metadata": {
    "scrolled": false
   },
   "outputs": [
    {
     "data": {
      "text/plain": [
       "1963       9\n",
       "1964       6\n",
       "2021       5\n",
       "1962       5\n",
       "1967       5\n",
       "1919       4\n",
       "#VALUE!    3\n",
       "1971       3\n",
       "2019       3\n",
       "1965       3\n",
       "2018       3\n",
       "1968       3\n",
       "2020       3\n",
       "#NUM!      2\n",
       "1918       2\n",
       "1976       2\n",
       "1972       2\n",
       "1920       2\n",
       "1975       1\n",
       "2354       1\n",
       "1978       1\n",
       "1991       1\n",
       "1985       1\n",
       "1966       1\n",
       "2298       1\n",
       "1970       1\n",
       "1994       1\n",
       "5245       1\n",
       "1983       1\n",
       "2041       1\n",
       "Name: Birth Year, dtype: int64"
      ]
     },
     "execution_count": 9,
     "metadata": {},
     "output_type": "execute_result"
    }
   ],
   "source": [
    "birth_series = smile_new['Birth Year'].value_counts()\n",
    "ex = birth_series.loc[birth_series <=10]\n",
    "ex"
   ]
  },
  {
   "cell_type": "code",
   "execution_count": 10,
   "id": "fbf681fc",
   "metadata": {},
   "outputs": [],
   "source": [
    "#to get age column, need '#VALUE' and '#NUM' columns to be removed\n",
    "smile_new['Birth Year'] = smile_new['Birth Year'].astype(str).str.replace('#VALUE!', '0').replace('#NUM!', '0').astype(int)"
   ]
  },
  {
   "cell_type": "code",
   "execution_count": 11,
   "id": "d54afb9c",
   "metadata": {},
   "outputs": [
    {
     "data": {
      "text/plain": [
       "0        1960\n",
       "1        1959\n",
       "2        1942\n",
       "3        1960\n",
       "4        1955\n",
       "         ... \n",
       "57855    1957\n",
       "57856    1958\n",
       "57857    1900\n",
       "57858    1958\n",
       "57859    1958\n",
       "Name: Birth Year, Length: 57860, dtype: int32"
      ]
     },
     "execution_count": 11,
     "metadata": {},
     "output_type": "execute_result"
    }
   ],
   "source": [
    "smile_new['Birth Year']"
   ]
  },
  {
   "cell_type": "code",
   "execution_count": 12,
   "id": "1df0320c",
   "metadata": {},
   "outputs": [],
   "source": [
    "smile_new['Age'] = 2021 - smile_new['Birth Year']"
   ]
  },
  {
   "cell_type": "code",
   "execution_count": 13,
   "id": "51dc705e",
   "metadata": {
    "scrolled": true
   },
   "outputs": [
    {
     "data": {
      "text/plain": [
       " 64      5407\n",
       " 63      5352\n",
       " 65      5061\n",
       " 66      4272\n",
       " 62      4164\n",
       "         ... \n",
       " 51         1\n",
       " 27         1\n",
       "-20         1\n",
       " 38         1\n",
       "-3224       1\n",
       "Name: Age, Length: 71, dtype: int64"
      ]
     },
     "execution_count": 13,
     "metadata": {},
     "output_type": "execute_result"
    }
   ],
   "source": [
    "smile_new['Age'].value_counts()"
   ]
  },
  {
   "cell_type": "code",
   "execution_count": 14,
   "id": "8985adbf",
   "metadata": {},
   "outputs": [],
   "source": [
    "d = dt.show(smile_new)\n",
    "d.open_browser()"
   ]
  },
  {
   "cell_type": "code",
   "execution_count": 15,
   "id": "fa9cfa3e",
   "metadata": {
    "scrolled": true
   },
   "outputs": [
    {
     "data": {
      "text/html": [
       "<div>\n",
       "<style scoped>\n",
       "    .dataframe tbody tr th:only-of-type {\n",
       "        vertical-align: middle;\n",
       "    }\n",
       "\n",
       "    .dataframe tbody tr th {\n",
       "        vertical-align: top;\n",
       "    }\n",
       "\n",
       "    .dataframe thead th {\n",
       "        text-align: right;\n",
       "    }\n",
       "</style>\n",
       "<table border=\"1\" class=\"dataframe\">\n",
       "  <thead>\n",
       "    <tr style=\"text-align: right;\">\n",
       "      <th></th>\n",
       "      <th>Age</th>\n",
       "      <th>Count</th>\n",
       "    </tr>\n",
       "  </thead>\n",
       "  <tbody>\n",
       "    <tr>\n",
       "      <th>0</th>\n",
       "      <td>64</td>\n",
       "      <td>5407</td>\n",
       "    </tr>\n",
       "    <tr>\n",
       "      <th>1</th>\n",
       "      <td>63</td>\n",
       "      <td>5352</td>\n",
       "    </tr>\n",
       "    <tr>\n",
       "      <th>2</th>\n",
       "      <td>65</td>\n",
       "      <td>5061</td>\n",
       "    </tr>\n",
       "    <tr>\n",
       "      <th>3</th>\n",
       "      <td>66</td>\n",
       "      <td>4272</td>\n",
       "    </tr>\n",
       "    <tr>\n",
       "      <th>4</th>\n",
       "      <td>62</td>\n",
       "      <td>4164</td>\n",
       "    </tr>\n",
       "    <tr>\n",
       "      <th>...</th>\n",
       "      <td>...</td>\n",
       "      <td>...</td>\n",
       "    </tr>\n",
       "    <tr>\n",
       "      <th>66</th>\n",
       "      <td>51</td>\n",
       "      <td>1</td>\n",
       "    </tr>\n",
       "    <tr>\n",
       "      <th>67</th>\n",
       "      <td>27</td>\n",
       "      <td>1</td>\n",
       "    </tr>\n",
       "    <tr>\n",
       "      <th>68</th>\n",
       "      <td>-20</td>\n",
       "      <td>1</td>\n",
       "    </tr>\n",
       "    <tr>\n",
       "      <th>69</th>\n",
       "      <td>38</td>\n",
       "      <td>1</td>\n",
       "    </tr>\n",
       "    <tr>\n",
       "      <th>70</th>\n",
       "      <td>-3224</td>\n",
       "      <td>1</td>\n",
       "    </tr>\n",
       "  </tbody>\n",
       "</table>\n",
       "<p>71 rows × 2 columns</p>\n",
       "</div>"
      ],
      "text/plain": [
       "     Age  Count\n",
       "0     64   5407\n",
       "1     63   5352\n",
       "2     65   5061\n",
       "3     66   4272\n",
       "4     62   4164\n",
       "..   ...    ...\n",
       "66    51      1\n",
       "67    27      1\n",
       "68   -20      1\n",
       "69    38      1\n",
       "70 -3224      1\n",
       "\n",
       "[71 rows x 2 columns]"
      ]
     },
     "execution_count": 15,
     "metadata": {},
     "output_type": "execute_result"
    }
   ],
   "source": [
    "age_series = smile_new['Age'].value_counts()\n",
    "age_df = pd.DataFrame({'Age':age_series.index, 'Count':age_series.values})\n",
    "age_df"
   ]
  },
  {
   "cell_type": "code",
   "execution_count": 16,
   "id": "1e2bd7c8",
   "metadata": {},
   "outputs": [],
   "source": [
    "age_df = age_df[~(age_df['Age'] >= 100)]\n",
    "age_df = age_df[~(age_df['Age'] <= 60)]"
   ]
  },
  {
   "cell_type": "code",
   "execution_count": 17,
   "id": "f0fd1f74",
   "metadata": {},
   "outputs": [
    {
     "data": {
      "text/html": [
       "<div>\n",
       "<style scoped>\n",
       "    .dataframe tbody tr th:only-of-type {\n",
       "        vertical-align: middle;\n",
       "    }\n",
       "\n",
       "    .dataframe tbody tr th {\n",
       "        vertical-align: top;\n",
       "    }\n",
       "\n",
       "    .dataframe thead th {\n",
       "        text-align: right;\n",
       "    }\n",
       "</style>\n",
       "<table border=\"1\" class=\"dataframe\">\n",
       "  <thead>\n",
       "    <tr style=\"text-align: right;\">\n",
       "      <th></th>\n",
       "      <th>Count</th>\n",
       "    </tr>\n",
       "    <tr>\n",
       "      <th>Age</th>\n",
       "      <th></th>\n",
       "    </tr>\n",
       "  </thead>\n",
       "  <tbody>\n",
       "    <tr>\n",
       "      <th>64</th>\n",
       "      <td>5407</td>\n",
       "    </tr>\n",
       "    <tr>\n",
       "      <th>63</th>\n",
       "      <td>5352</td>\n",
       "    </tr>\n",
       "    <tr>\n",
       "      <th>65</th>\n",
       "      <td>5061</td>\n",
       "    </tr>\n",
       "    <tr>\n",
       "      <th>66</th>\n",
       "      <td>4272</td>\n",
       "    </tr>\n",
       "    <tr>\n",
       "      <th>62</th>\n",
       "      <td>4164</td>\n",
       "    </tr>\n",
       "    <tr>\n",
       "      <th>67</th>\n",
       "      <td>3379</td>\n",
       "    </tr>\n",
       "    <tr>\n",
       "      <th>68</th>\n",
       "      <td>3011</td>\n",
       "    </tr>\n",
       "    <tr>\n",
       "      <th>69</th>\n",
       "      <td>2555</td>\n",
       "    </tr>\n",
       "    <tr>\n",
       "      <th>61</th>\n",
       "      <td>2291</td>\n",
       "    </tr>\n",
       "    <tr>\n",
       "      <th>70</th>\n",
       "      <td>2182</td>\n",
       "    </tr>\n",
       "    <tr>\n",
       "      <th>72</th>\n",
       "      <td>2159</td>\n",
       "    </tr>\n",
       "    <tr>\n",
       "      <th>71</th>\n",
       "      <td>1869</td>\n",
       "    </tr>\n",
       "    <tr>\n",
       "      <th>73</th>\n",
       "      <td>1856</td>\n",
       "    </tr>\n",
       "    <tr>\n",
       "      <th>74</th>\n",
       "      <td>1692</td>\n",
       "    </tr>\n",
       "    <tr>\n",
       "      <th>75</th>\n",
       "      <td>1388</td>\n",
       "    </tr>\n",
       "    <tr>\n",
       "      <th>76</th>\n",
       "      <td>1222</td>\n",
       "    </tr>\n",
       "    <tr>\n",
       "      <th>77</th>\n",
       "      <td>1139</td>\n",
       "    </tr>\n",
       "    <tr>\n",
       "      <th>78</th>\n",
       "      <td>1071</td>\n",
       "    </tr>\n",
       "    <tr>\n",
       "      <th>79</th>\n",
       "      <td>991</td>\n",
       "    </tr>\n",
       "    <tr>\n",
       "      <th>80</th>\n",
       "      <td>939</td>\n",
       "    </tr>\n",
       "    <tr>\n",
       "      <th>82</th>\n",
       "      <td>644</td>\n",
       "    </tr>\n",
       "    <tr>\n",
       "      <th>83</th>\n",
       "      <td>619</td>\n",
       "    </tr>\n",
       "    <tr>\n",
       "      <th>81</th>\n",
       "      <td>581</td>\n",
       "    </tr>\n",
       "    <tr>\n",
       "      <th>84</th>\n",
       "      <td>559</td>\n",
       "    </tr>\n",
       "    <tr>\n",
       "      <th>85</th>\n",
       "      <td>476</td>\n",
       "    </tr>\n",
       "    <tr>\n",
       "      <th>86</th>\n",
       "      <td>383</td>\n",
       "    </tr>\n",
       "    <tr>\n",
       "      <th>87</th>\n",
       "      <td>361</td>\n",
       "    </tr>\n",
       "    <tr>\n",
       "      <th>88</th>\n",
       "      <td>343</td>\n",
       "    </tr>\n",
       "    <tr>\n",
       "      <th>89</th>\n",
       "      <td>208</td>\n",
       "    </tr>\n",
       "    <tr>\n",
       "      <th>90</th>\n",
       "      <td>199</td>\n",
       "    </tr>\n",
       "    <tr>\n",
       "      <th>91</th>\n",
       "      <td>165</td>\n",
       "    </tr>\n",
       "    <tr>\n",
       "      <th>92</th>\n",
       "      <td>155</td>\n",
       "    </tr>\n",
       "    <tr>\n",
       "      <th>93</th>\n",
       "      <td>107</td>\n",
       "    </tr>\n",
       "    <tr>\n",
       "      <th>94</th>\n",
       "      <td>97</td>\n",
       "    </tr>\n",
       "    <tr>\n",
       "      <th>96</th>\n",
       "      <td>58</td>\n",
       "    </tr>\n",
       "    <tr>\n",
       "      <th>95</th>\n",
       "      <td>48</td>\n",
       "    </tr>\n",
       "    <tr>\n",
       "      <th>97</th>\n",
       "      <td>32</td>\n",
       "    </tr>\n",
       "    <tr>\n",
       "      <th>98</th>\n",
       "      <td>18</td>\n",
       "    </tr>\n",
       "    <tr>\n",
       "      <th>99</th>\n",
       "      <td>18</td>\n",
       "    </tr>\n",
       "  </tbody>\n",
       "</table>\n",
       "</div>"
      ],
      "text/plain": [
       "     Count\n",
       "Age       \n",
       "64    5407\n",
       "63    5352\n",
       "65    5061\n",
       "66    4272\n",
       "62    4164\n",
       "67    3379\n",
       "68    3011\n",
       "69    2555\n",
       "61    2291\n",
       "70    2182\n",
       "72    2159\n",
       "71    1869\n",
       "73    1856\n",
       "74    1692\n",
       "75    1388\n",
       "76    1222\n",
       "77    1139\n",
       "78    1071\n",
       "79     991\n",
       "80     939\n",
       "82     644\n",
       "83     619\n",
       "81     581\n",
       "84     559\n",
       "85     476\n",
       "86     383\n",
       "87     361\n",
       "88     343\n",
       "89     208\n",
       "90     199\n",
       "91     165\n",
       "92     155\n",
       "93     107\n",
       "94      97\n",
       "96      58\n",
       "95      48\n",
       "97      32\n",
       "98      18\n",
       "99      18"
      ]
     },
     "execution_count": 17,
     "metadata": {},
     "output_type": "execute_result"
    }
   ],
   "source": [
    "age_df.set_index('Age', inplace=True)\n",
    "age_df"
   ]
  },
  {
   "cell_type": "code",
   "execution_count": 18,
   "id": "21b459ff",
   "metadata": {
    "scrolled": false
   },
   "outputs": [
    {
     "data": {
      "text/plain": [
       "(array([ 55.,  60.,  65.,  70.,  75.,  80.,  85.,  90.,  95., 100., 105.]),\n",
       " [Text(0, 0, ''),\n",
       "  Text(0, 0, ''),\n",
       "  Text(0, 0, ''),\n",
       "  Text(0, 0, ''),\n",
       "  Text(0, 0, ''),\n",
       "  Text(0, 0, ''),\n",
       "  Text(0, 0, ''),\n",
       "  Text(0, 0, ''),\n",
       "  Text(0, 0, ''),\n",
       "  Text(0, 0, ''),\n",
       "  Text(0, 0, '')])"
      ]
     },
     "execution_count": 18,
     "metadata": {},
     "output_type": "execute_result"
    },
    {
     "data": {
      "image/png": "[encoded data removed]",
      "text/plain": [
       "<Figure size 1080x288 with 1 Axes>"
      ]
     },
     "metadata": {
      "needs_background": "light"
     },
     "output_type": "display_data"
    }
   ],
   "source": [
    "import matplotlib.pyplot as plt\n",
    "%matplotlib inline\n",
    "import seaborn as sns\n",
    "\n",
    "x = age_df.index\n",
    "y = age_df.Count\n",
    "\n",
    "\n",
    "plt.figure(figsize=(15,4))\n",
    "plt.bar(x, y)\n",
    "plt.xticks(rotation=50)"
   ]
  },
  {
   "cell_type": "code",
   "execution_count": 36,
   "id": "75f46aa9",
   "metadata": {},
   "outputs": [],
   "source": [
    "#a little out of order, but above is age numbers. now to rename some columns\n",
    "smile_new.columns = [x.replace('SMILE ON 60+ ', '') for x in smile_new.columns]"
   ]
  },
  {
   "cell_type": "code",
   "execution_count": 26,
   "id": "24ae9bdd",
   "metadata": {
    "scrolled": true
   },
   "outputs": [
    {
     "data": {
      "text/html": [
       "<div>\n",
       "<style scoped>\n",
       "    .dataframe tbody tr th:only-of-type {\n",
       "        vertical-align: middle;\n",
       "    }\n",
       "\n",
       "    .dataframe tbody tr th {\n",
       "        vertical-align: top;\n",
       "    }\n",
       "\n",
       "    .dataframe thead th {\n",
       "        text-align: right;\n",
       "    }\n",
       "</style>\n",
       "<table border=\"1\" class=\"dataframe\">\n",
       "  <thead>\n",
       "    <tr style=\"text-align: right;\">\n",
       "      <th></th>\n",
       "      <th>CallerNum</th>\n",
       "      <th>Demographic Information - Gender</th>\n",
       "      <th>Age</th>\n",
       "    </tr>\n",
       "  </thead>\n",
       "  <tbody>\n",
       "    <tr>\n",
       "      <th>0</th>\n",
       "      <td>3638169</td>\n",
       "      <td>Female</td>\n",
       "      <td>61</td>\n",
       "    </tr>\n",
       "    <tr>\n",
       "      <th>1</th>\n",
       "      <td>4431194</td>\n",
       "      <td>Female</td>\n",
       "      <td>62</td>\n",
       "    </tr>\n",
       "    <tr>\n",
       "      <th>2</th>\n",
       "      <td>2941341</td>\n",
       "      <td>Male</td>\n",
       "      <td>79</td>\n",
       "    </tr>\n",
       "    <tr>\n",
       "      <th>3</th>\n",
       "      <td>3823933</td>\n",
       "      <td>Male</td>\n",
       "      <td>61</td>\n",
       "    </tr>\n",
       "    <tr>\n",
       "      <th>4</th>\n",
       "      <td>3348256</td>\n",
       "      <td>Female</td>\n",
       "      <td>66</td>\n",
       "    </tr>\n",
       "    <tr>\n",
       "      <th>...</th>\n",
       "      <td>...</td>\n",
       "      <td>...</td>\n",
       "      <td>...</td>\n",
       "    </tr>\n",
       "    <tr>\n",
       "      <th>57855</th>\n",
       "      <td>2385621</td>\n",
       "      <td>Female</td>\n",
       "      <td>64</td>\n",
       "    </tr>\n",
       "    <tr>\n",
       "      <th>57856</th>\n",
       "      <td>2631417</td>\n",
       "      <td>Female</td>\n",
       "      <td>63</td>\n",
       "    </tr>\n",
       "    <tr>\n",
       "      <th>57857</th>\n",
       "      <td>-1</td>\n",
       "      <td>NaN</td>\n",
       "      <td>121</td>\n",
       "    </tr>\n",
       "    <tr>\n",
       "      <th>57858</th>\n",
       "      <td>3239813</td>\n",
       "      <td>Male</td>\n",
       "      <td>63</td>\n",
       "    </tr>\n",
       "    <tr>\n",
       "      <th>57859</th>\n",
       "      <td>2631417</td>\n",
       "      <td>Female</td>\n",
       "      <td>63</td>\n",
       "    </tr>\n",
       "  </tbody>\n",
       "</table>\n",
       "<p>57860 rows × 3 columns</p>\n",
       "</div>"
      ],
      "text/plain": [
       "       CallerNum Demographic Information - Gender  Age\n",
       "0        3638169                           Female   61\n",
       "1        4431194                           Female   62\n",
       "2        2941341                             Male   79\n",
       "3        3823933                             Male   61\n",
       "4        3348256                           Female   66\n",
       "...          ...                              ...  ...\n",
       "57855    2385621                           Female   64\n",
       "57856    2631417                           Female   63\n",
       "57857         -1                              NaN  121\n",
       "57858    3239813                             Male   63\n",
       "57859    2631417                           Female   63\n",
       "\n",
       "[57860 rows x 3 columns]"
      ]
     },
     "execution_count": 26,
     "metadata": {},
     "output_type": "execute_result"
    }
   ],
   "source": [
    "smile_demo = smile_new[['CallerNum','Demographic Information - Gender', 'Age']].copy()\n",
    "smile_demo"
   ]
  },
  {
   "cell_type": "code",
   "execution_count": null,
   "id": "b4557945",
   "metadata": {},
   "outputs": [],
   "source": [
    "dem = dt.show(smile_demo)\n",
    "dem.open_browser()"
   ]
  },
  {
   "cell_type": "markdown",
   "id": "d69dfa4a",
   "metadata": {},
   "source": [
    "Above is a demographics dataframe, but it might not be used."
   ]
  },
  {
   "cell_type": "code",
   "execution_count": 45,
   "id": "9bfe1c13",
   "metadata": {
    "scrolled": true
   },
   "outputs": [
    {
     "data": {
      "text/plain": [
       "CallerNum  Base-line Oral and Conditions Questions - How would you describe the condition of your mouth and teeth?\n",
       "-2         Poor                                                                                                        3\n",
       "           Dont know                                                                                                   2\n",
       "-1         Good                                                                                                        1\n",
       " 2384106   Poor                                                                                                       14\n",
       " 2384744   Dont know                                                                                                  10\n",
       "                                                                                                                      ..\n",
       " 4569713   Poor                                                                                                        2\n",
       " 4569737   Poor                                                                                                        2\n",
       " 4569756   Fair                                                                                                        2\n",
       " 4571502   Dont know                                                                                                   2\n",
       " 4573002   Poor                                                                                                        2\n",
       "Name: Base-line Oral and Conditions Questions - How would you describe the condition of your mouth and teeth?, Length: 9341, dtype: int64"
      ]
     },
     "execution_count": 45,
     "metadata": {},
     "output_type": "execute_result"
    }
   ],
   "source": [
    "smile_new.groupby('CallerNum')['Base-line Oral and Conditions Questions - How would you describe the condition of your mouth and teeth?'].value_counts()"
   ]
  },
  {
   "cell_type": "code",
   "execution_count": 46,
   "id": "ca84bd72",
   "metadata": {
    "scrolled": false
   },
   "outputs": [
    {
     "data": {
      "text/plain": [
       "-1          63\n",
       " 3212379    54\n",
       " 2441776    43\n",
       " 2758373    42\n",
       " 2431132    37\n",
       "            ..\n",
       " 2752620     1\n",
       " 2752625     1\n",
       " 2752629     1\n",
       " 2752646     1\n",
       " 2384897     1\n",
       "Name: CallerNum, Length: 10711, dtype: int64"
      ]
     },
     "execution_count": 46,
     "metadata": {},
     "output_type": "execute_result"
    }
   ],
   "source": [
    "smile_new['CallerNum'].value_counts()"
   ]
  },
  {
   "cell_type": "code",
   "execution_count": 47,
   "id": "a273cf68",
   "metadata": {
    "scrolled": false
   },
   "outputs": [
    {
     "name": "stdout",
     "output_type": "stream",
     "text": [
      "<class 'pandas.core.frame.DataFrame'>\n",
      "RangeIndex: 57860 entries, 0 to 57859\n",
      "Columns: 150 entries, CallReportNum to Age\n",
      "dtypes: float64(70), int32(2), int64(6), object(72)\n",
      "memory usage: 65.8+ MB\n"
     ]
    }
   ],
   "source": [
    "smile_new.info()\n",
    "#important to note that there are quite a few more rows than there are individual patients"
   ]
  },
  {
   "cell_type": "code",
   "execution_count": 49,
   "id": "62519b5c",
   "metadata": {},
   "outputs": [
    {
     "name": "stdout",
     "output_type": "stream",
     "text": [
      "Executing shutdown due to inactivity...\n"
     ]
    },
    {
     "name": "stderr",
     "output_type": "stream",
     "text": [
      "2021-11-09 20:10:44,079 - INFO     - Executing shutdown due to inactivity...\n"
     ]
    },
    {
     "name": "stdout",
     "output_type": "stream",
     "text": [
      "Executing shutdown...\n"
     ]
    },
    {
     "name": "stderr",
     "output_type": "stream",
     "text": [
      "2021-11-09 20:11:00,517 - INFO     - Executing shutdown...\n"
     ]
    }
   ],
   "source": [
    "smile_new.to_csv('../data/smile_new.csv', index=False)"
   ]
  }
 ],
 "metadata": {
  "kernelspec": {
   "display_name": "Python 3 (ipykernel)",
   "language": "python",
   "name": "python3"
  },
  "language_info": {
   "codemirror_mode": {
    "name": "ipython",
    "version": 3
   },
   "file_extension": ".py",
   "mimetype": "text/x-python",
   "name": "python",
   "nbconvert_exporter": "python",
   "pygments_lexer": "ipython3",
   "version": "3.8.5"
  }
 },
 "nbformat": 4,
 "nbformat_minor": 5
}
