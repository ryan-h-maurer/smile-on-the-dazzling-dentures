{
 "cells": [
  {
   "cell_type": "code",
   "execution_count": 1,
   "id": "080fd1b8",
   "metadata": {},
   "outputs": [],
   "source": [
    "import pandas as pd\n",
    "import numpy as np\n",
    "import matplotlib.pyplot as plt\n",
    "import re\n",
    "%matplotlib inline"
   ]
  },
  {
   "cell_type": "code",
   "execution_count": 2,
   "id": "b48d96a7",
   "metadata": {},
   "outputs": [],
   "source": [
    "pd.set_option('display.max_columns', None)"
   ]
  },
  {
   "cell_type": "code",
   "execution_count": 3,
   "id": "6a7b1499",
   "metadata": {
    "scrolled": true
   },
   "outputs": [
    {
     "data": {
      "text/html": [
       "<div>\n",
       "<style scoped>\n",
       "    .dataframe tbody tr th:only-of-type {\n",
       "        vertical-align: middle;\n",
       "    }\n",
       "\n",
       "    .dataframe tbody tr th {\n",
       "        vertical-align: top;\n",
       "    }\n",
       "\n",
       "    .dataframe thead th {\n",
       "        text-align: right;\n",
       "    }\n",
       "</style>\n",
       "<table border=\"1\" class=\"dataframe\">\n",
       "  <thead>\n",
       "    <tr style=\"text-align: right;\">\n",
       "      <th></th>\n",
       "      <th>callreportnum</th>\n",
       "      <th>reportversion</th>\n",
       "      <th>callstart</th>\n",
       "      <th>callend</th>\n",
       "      <th>callernum</th>\n",
       "      <th>city</th>\n",
       "      <th>num of upper natural teeth</th>\n",
       "      <th>num of lower natural teeth</th>\n",
       "      <th>removable dentures</th>\n",
       "      <th>denture(s) when you eat</th>\n",
       "      <th>how often do you brush your teeth</th>\n",
       "      <th>need for periodontal care</th>\n",
       "      <th>root fragments</th>\n",
       "      <th>suspicious soft tissue lesions</th>\n",
       "      <th>treatment urgency</th>\n",
       "      <th>untreated decay</th>\n",
       "    </tr>\n",
       "  </thead>\n",
       "  <tbody>\n",
       "    <tr>\n",
       "      <th>0</th>\n",
       "      <td>93115324</td>\n",
       "      <td>SMILE ON 60+ Registration</td>\n",
       "      <td>9/30/2021 16:56</td>\n",
       "      <td>9/30/2021 16:57</td>\n",
       "      <td>3638169</td>\n",
       "      <td>Smyrna</td>\n",
       "      <td>NaN</td>\n",
       "      <td>NaN</td>\n",
       "      <td>NaN</td>\n",
       "      <td>NaN</td>\n",
       "      <td>NaN</td>\n",
       "      <td>NaN</td>\n",
       "      <td>NaN</td>\n",
       "      <td>NaN</td>\n",
       "      <td>NaN</td>\n",
       "      <td>NaN</td>\n",
       "    </tr>\n",
       "    <tr>\n",
       "      <th>1</th>\n",
       "      <td>93115188</td>\n",
       "      <td>SMILE ON 60+ Registration</td>\n",
       "      <td>9/30/2021 16:53</td>\n",
       "      <td>9/30/2021 16:53</td>\n",
       "      <td>4431194</td>\n",
       "      <td>Nashville</td>\n",
       "      <td>NaN</td>\n",
       "      <td>NaN</td>\n",
       "      <td>NaN</td>\n",
       "      <td>NaN</td>\n",
       "      <td>NaN</td>\n",
       "      <td>NaN</td>\n",
       "      <td>NaN</td>\n",
       "      <td>NaN</td>\n",
       "      <td>NaN</td>\n",
       "      <td>NaN</td>\n",
       "    </tr>\n",
       "    <tr>\n",
       "      <th>2</th>\n",
       "      <td>93115081</td>\n",
       "      <td>SMILE ON 60+ Clinical</td>\n",
       "      <td>9/30/2021 16:50</td>\n",
       "      <td>9/30/2021 16:51</td>\n",
       "      <td>2941341</td>\n",
       "      <td>Memphis</td>\n",
       "      <td>NaN</td>\n",
       "      <td>NaN</td>\n",
       "      <td>NaN</td>\n",
       "      <td>NaN</td>\n",
       "      <td>NaN</td>\n",
       "      <td>NaN</td>\n",
       "      <td>NaN</td>\n",
       "      <td>NaN</td>\n",
       "      <td>NaN</td>\n",
       "      <td>NaN</td>\n",
       "    </tr>\n",
       "  </tbody>\n",
       "</table>\n",
       "</div>"
      ],
      "text/plain": [
       "   callreportnum              reportversion        callstart          callend  \\\n",
       "0       93115324  SMILE ON 60+ Registration  9/30/2021 16:56  9/30/2021 16:57   \n",
       "1       93115188  SMILE ON 60+ Registration  9/30/2021 16:53  9/30/2021 16:53   \n",
       "2       93115081      SMILE ON 60+ Clinical  9/30/2021 16:50  9/30/2021 16:51   \n",
       "\n",
       "   callernum       city  num of upper natural teeth  \\\n",
       "0    3638169     Smyrna                         NaN   \n",
       "1    4431194  Nashville                         NaN   \n",
       "2    2941341    Memphis                         NaN   \n",
       "\n",
       "   num of lower natural teeth removable dentures denture(s) when you eat  \\\n",
       "0                         NaN                NaN                     NaN   \n",
       "1                         NaN                NaN                     NaN   \n",
       "2                         NaN                NaN                     NaN   \n",
       "\n",
       "  how often do you brush your teeth need for periodontal care root fragments  \\\n",
       "0                               NaN                       NaN            NaN   \n",
       "1                               NaN                       NaN            NaN   \n",
       "2                               NaN                       NaN            NaN   \n",
       "\n",
       "  suspicious soft tissue lesions treatment urgency untreated decay  \n",
       "0                            NaN               NaN             NaN  \n",
       "1                            NaN               NaN             NaN  \n",
       "2                            NaN               NaN             NaN  "
      ]
     },
     "execution_count": 3,
     "metadata": {},
     "output_type": "execute_result"
    }
   ],
   "source": [
    "smile = pd.read_csv('../data/smile_clean.csv').drop('Unnamed: 0', axis = 1)\n",
    "smile.head(3)"
   ]
  },
  {
   "cell_type": "markdown",
   "id": "c6dd3323",
   "metadata": {},
   "source": [
    "### nashville patients only"
   ]
  },
  {
   "cell_type": "code",
   "execution_count": 4,
   "id": "78ef442f",
   "metadata": {
    "scrolled": false
   },
   "outputs": [
    {
     "data": {
      "text/html": [
       "<div>\n",
       "<style scoped>\n",
       "    .dataframe tbody tr th:only-of-type {\n",
       "        vertical-align: middle;\n",
       "    }\n",
       "\n",
       "    .dataframe tbody tr th {\n",
       "        vertical-align: top;\n",
       "    }\n",
       "\n",
       "    .dataframe thead th {\n",
       "        text-align: right;\n",
       "    }\n",
       "</style>\n",
       "<table border=\"1\" class=\"dataframe\">\n",
       "  <thead>\n",
       "    <tr style=\"text-align: right;\">\n",
       "      <th></th>\n",
       "      <th>callreportnum</th>\n",
       "      <th>reportversion</th>\n",
       "      <th>callstart</th>\n",
       "      <th>callend</th>\n",
       "      <th>callernum</th>\n",
       "      <th>city</th>\n",
       "      <th>num of upper natural teeth</th>\n",
       "      <th>num of lower natural teeth</th>\n",
       "      <th>removable dentures</th>\n",
       "      <th>denture(s) when you eat</th>\n",
       "      <th>how often do you brush your teeth</th>\n",
       "      <th>need for periodontal care</th>\n",
       "      <th>root fragments</th>\n",
       "      <th>suspicious soft tissue lesions</th>\n",
       "      <th>treatment urgency</th>\n",
       "      <th>untreated decay</th>\n",
       "    </tr>\n",
       "  </thead>\n",
       "  <tbody>\n",
       "    <tr>\n",
       "      <th>0</th>\n",
       "      <td>93115188</td>\n",
       "      <td>SMILE ON 60+ Registration</td>\n",
       "      <td>9/30/2021 16:53</td>\n",
       "      <td>9/30/2021 16:53</td>\n",
       "      <td>4431194</td>\n",
       "      <td>Nashville</td>\n",
       "      <td>NaN</td>\n",
       "      <td>NaN</td>\n",
       "      <td>NaN</td>\n",
       "      <td>NaN</td>\n",
       "      <td>NaN</td>\n",
       "      <td>NaN</td>\n",
       "      <td>NaN</td>\n",
       "      <td>NaN</td>\n",
       "      <td>NaN</td>\n",
       "      <td>NaN</td>\n",
       "    </tr>\n",
       "    <tr>\n",
       "      <th>1</th>\n",
       "      <td>93109232</td>\n",
       "      <td>SMILE ON 60+ Registration</td>\n",
       "      <td>9/30/2021 14:45</td>\n",
       "      <td>9/30/2021 14:47</td>\n",
       "      <td>4558147</td>\n",
       "      <td>Nashville</td>\n",
       "      <td>NaN</td>\n",
       "      <td>NaN</td>\n",
       "      <td>NaN</td>\n",
       "      <td>NaN</td>\n",
       "      <td>NaN</td>\n",
       "      <td>NaN</td>\n",
       "      <td>NaN</td>\n",
       "      <td>NaN</td>\n",
       "      <td>NaN</td>\n",
       "      <td>NaN</td>\n",
       "    </tr>\n",
       "    <tr>\n",
       "      <th>2</th>\n",
       "      <td>93334069</td>\n",
       "      <td>SMILE ON 60+ Clinical</td>\n",
       "      <td>9/30/2021 14:41</td>\n",
       "      <td>9/30/2021 14:41</td>\n",
       "      <td>3756941</td>\n",
       "      <td>Nashville</td>\n",
       "      <td>NaN</td>\n",
       "      <td>NaN</td>\n",
       "      <td>NaN</td>\n",
       "      <td>NaN</td>\n",
       "      <td>NaN</td>\n",
       "      <td>NaN</td>\n",
       "      <td>NaN</td>\n",
       "      <td>NaN</td>\n",
       "      <td>NaN</td>\n",
       "      <td>NaN</td>\n",
       "    </tr>\n",
       "  </tbody>\n",
       "</table>\n",
       "</div>"
      ],
      "text/plain": [
       "   callreportnum              reportversion        callstart          callend  \\\n",
       "0       93115188  SMILE ON 60+ Registration  9/30/2021 16:53  9/30/2021 16:53   \n",
       "1       93109232  SMILE ON 60+ Registration  9/30/2021 14:45  9/30/2021 14:47   \n",
       "2       93334069      SMILE ON 60+ Clinical  9/30/2021 14:41  9/30/2021 14:41   \n",
       "\n",
       "   callernum       city  num of upper natural teeth  \\\n",
       "0    4431194  Nashville                         NaN   \n",
       "1    4558147  Nashville                         NaN   \n",
       "2    3756941  Nashville                         NaN   \n",
       "\n",
       "   num of lower natural teeth removable dentures denture(s) when you eat  \\\n",
       "0                         NaN                NaN                     NaN   \n",
       "1                         NaN                NaN                     NaN   \n",
       "2                         NaN                NaN                     NaN   \n",
       "\n",
       "  how often do you brush your teeth need for periodontal care root fragments  \\\n",
       "0                               NaN                       NaN            NaN   \n",
       "1                               NaN                       NaN            NaN   \n",
       "2                               NaN                       NaN            NaN   \n",
       "\n",
       "  suspicious soft tissue lesions treatment urgency untreated decay  \n",
       "0                            NaN               NaN             NaN  \n",
       "1                            NaN               NaN             NaN  \n",
       "2                            NaN               NaN             NaN  "
      ]
     },
     "execution_count": 4,
     "metadata": {},
     "output_type": "execute_result"
    }
   ],
   "source": [
    "nash = pd.read_csv('../data/nash_visitors.csv').drop('Unnamed: 0', axis = 1)\n",
    "nash.head(3)"
   ]
  },
  {
   "cell_type": "markdown",
   "id": "057653fc",
   "metadata": {},
   "source": [
    "### memphis patients only"
   ]
  },
  {
   "cell_type": "code",
   "execution_count": 5,
   "id": "3ab74a94",
   "metadata": {
    "scrolled": true
   },
   "outputs": [
    {
     "data": {
      "text/html": [
       "<div>\n",
       "<style scoped>\n",
       "    .dataframe tbody tr th:only-of-type {\n",
       "        vertical-align: middle;\n",
       "    }\n",
       "\n",
       "    .dataframe tbody tr th {\n",
       "        vertical-align: top;\n",
       "    }\n",
       "\n",
       "    .dataframe thead th {\n",
       "        text-align: right;\n",
       "    }\n",
       "</style>\n",
       "<table border=\"1\" class=\"dataframe\">\n",
       "  <thead>\n",
       "    <tr style=\"text-align: right;\">\n",
       "      <th></th>\n",
       "      <th>callreportnum</th>\n",
       "      <th>reportversion</th>\n",
       "      <th>callstart</th>\n",
       "      <th>callend</th>\n",
       "      <th>callernum</th>\n",
       "      <th>city</th>\n",
       "      <th>num of upper natural teeth</th>\n",
       "      <th>num of lower natural teeth</th>\n",
       "      <th>removable dentures</th>\n",
       "      <th>denture(s) when you eat</th>\n",
       "      <th>how often do you brush your teeth</th>\n",
       "      <th>need for periodontal care</th>\n",
       "      <th>root fragments</th>\n",
       "      <th>suspicious soft tissue lesions</th>\n",
       "      <th>treatment urgency</th>\n",
       "      <th>untreated decay</th>\n",
       "    </tr>\n",
       "  </thead>\n",
       "  <tbody>\n",
       "    <tr>\n",
       "      <th>0</th>\n",
       "      <td>93115081</td>\n",
       "      <td>SMILE ON 60+ Clinical</td>\n",
       "      <td>9/30/2021 16:50</td>\n",
       "      <td>9/30/2021 16:51</td>\n",
       "      <td>2941341</td>\n",
       "      <td>Memphis</td>\n",
       "      <td>NaN</td>\n",
       "      <td>NaN</td>\n",
       "      <td>NaN</td>\n",
       "      <td>NaN</td>\n",
       "      <td>NaN</td>\n",
       "      <td>NaN</td>\n",
       "      <td>NaN</td>\n",
       "      <td>NaN</td>\n",
       "      <td>NaN</td>\n",
       "      <td>NaN</td>\n",
       "    </tr>\n",
       "    <tr>\n",
       "      <th>1</th>\n",
       "      <td>93115032</td>\n",
       "      <td>SMILE ON 60+ Clinical</td>\n",
       "      <td>9/30/2021 16:48</td>\n",
       "      <td>9/30/2021 16:49</td>\n",
       "      <td>3823933</td>\n",
       "      <td>Memphis</td>\n",
       "      <td>NaN</td>\n",
       "      <td>NaN</td>\n",
       "      <td>NaN</td>\n",
       "      <td>NaN</td>\n",
       "      <td>NaN</td>\n",
       "      <td>NaN</td>\n",
       "      <td>NaN</td>\n",
       "      <td>NaN</td>\n",
       "      <td>NaN</td>\n",
       "      <td>NaN</td>\n",
       "    </tr>\n",
       "    <tr>\n",
       "      <th>2</th>\n",
       "      <td>93114968</td>\n",
       "      <td>SMILE ON 60+ Clinical</td>\n",
       "      <td>9/30/2021 16:46</td>\n",
       "      <td>9/30/2021 16:48</td>\n",
       "      <td>3348256</td>\n",
       "      <td>Memphis</td>\n",
       "      <td>NaN</td>\n",
       "      <td>NaN</td>\n",
       "      <td>NaN</td>\n",
       "      <td>NaN</td>\n",
       "      <td>NaN</td>\n",
       "      <td>NaN</td>\n",
       "      <td>NaN</td>\n",
       "      <td>NaN</td>\n",
       "      <td>NaN</td>\n",
       "      <td>NaN</td>\n",
       "    </tr>\n",
       "  </tbody>\n",
       "</table>\n",
       "</div>"
      ],
      "text/plain": [
       "   callreportnum          reportversion        callstart          callend  \\\n",
       "0       93115081  SMILE ON 60+ Clinical  9/30/2021 16:50  9/30/2021 16:51   \n",
       "1       93115032  SMILE ON 60+ Clinical  9/30/2021 16:48  9/30/2021 16:49   \n",
       "2       93114968  SMILE ON 60+ Clinical  9/30/2021 16:46  9/30/2021 16:48   \n",
       "\n",
       "   callernum     city  num of upper natural teeth  num of lower natural teeth  \\\n",
       "0    2941341  Memphis                         NaN                         NaN   \n",
       "1    3823933  Memphis                         NaN                         NaN   \n",
       "2    3348256  Memphis                         NaN                         NaN   \n",
       "\n",
       "  removable dentures denture(s) when you eat  \\\n",
       "0                NaN                     NaN   \n",
       "1                NaN                     NaN   \n",
       "2                NaN                     NaN   \n",
       "\n",
       "  how often do you brush your teeth need for periodontal care root fragments  \\\n",
       "0                               NaN                       NaN            NaN   \n",
       "1                               NaN                       NaN            NaN   \n",
       "2                               NaN                       NaN            NaN   \n",
       "\n",
       "  suspicious soft tissue lesions treatment urgency untreated decay  \n",
       "0                            NaN               NaN             NaN  \n",
       "1                            NaN               NaN             NaN  \n",
       "2                            NaN               NaN             NaN  "
      ]
     },
     "execution_count": 5,
     "metadata": {},
     "output_type": "execute_result"
    }
   ],
   "source": [
    "memp = pd.read_csv('../data/memp_visitors.csv').drop('Unnamed: 0', axis = 1)\n",
    "memp.head(3)"
   ]
  },
  {
   "cell_type": "markdown",
   "id": "40338f13",
   "metadata": {},
   "source": [
    "### counts of initial issues"
   ]
  },
  {
   "cell_type": "code",
   "execution_count": 6,
   "id": "a86b5f87",
   "metadata": {
    "scrolled": false
   },
   "outputs": [
    {
     "data": {
      "text/plain": [
       "num of upper natural teeth\n",
       "12.0    633\n",
       "14.0    616\n",
       "13.0    515\n",
       "11.0    501\n",
       "10.0    491\n",
       "9.0     469\n",
       "8.0     432\n",
       "7.0     374\n",
       "6.0     317\n",
       "5.0     242\n",
       "15.0    184\n",
       "4.0     183\n",
       "16.0    115\n",
       "3.0     110\n",
       "2.0      89\n",
       "1.0      81\n",
       "dtype: int64"
      ]
     },
     "execution_count": 6,
     "metadata": {},
     "output_type": "execute_result"
    }
   ],
   "source": [
    "upper = smile.value_counts(\"num of upper natural teeth\")\n",
    "upper"
   ]
  },
  {
   "cell_type": "code",
   "execution_count": 7,
   "id": "c9aa6842",
   "metadata": {},
   "outputs": [
    {
     "data": {
      "text/plain": [
       "num of lower natural teeth\n",
       "12.0    803\n",
       "10.0    733\n",
       "11.0    696\n",
       "14.0    630\n",
       "13.0    628\n",
       "9.0     612\n",
       "8.0     504\n",
       "7.0     408\n",
       "6.0     358\n",
       "5.0     200\n",
       "15.0    181\n",
       "4.0     162\n",
       "16.0    129\n",
       "2.0      83\n",
       "3.0      83\n",
       "1.0      28\n",
       "dtype: int64"
      ]
     },
     "execution_count": 7,
     "metadata": {},
     "output_type": "execute_result"
    }
   ],
   "source": [
    "lower = smile.value_counts(\"num of lower natural teeth\")\n",
    "lower"
   ]
  },
  {
   "cell_type": "code",
   "execution_count": 8,
   "id": "5b38131f",
   "metadata": {},
   "outputs": [
    {
     "data": {
      "text/plain": [
       "removable dentures\n",
       "No                  4996\n",
       "Upper               1117\n",
       "Upper; Lower        1014\n",
       "Lower                198\n",
       "No; Upper              7\n",
       "No; Upper; Lower       1\n",
       "dtype: int64"
      ]
     },
     "execution_count": 8,
     "metadata": {},
     "output_type": "execute_result"
    }
   ],
   "source": [
    "removable_dentures = smile.value_counts(\"removable dentures\")\n",
    "removable_dentures"
   ]
  },
  {
   "cell_type": "code",
   "execution_count": 9,
   "id": "0dd63407",
   "metadata": {},
   "outputs": [
    {
     "data": {
      "text/plain": [
       "need for periodontal care\n",
       "No            3065\n",
       "Yes           2846\n",
       "Edentulous     197\n",
       "dtype: int64"
      ]
     },
     "execution_count": 9,
     "metadata": {},
     "output_type": "execute_result"
    }
   ],
   "source": [
    "periodontal_care = smile.value_counts(\"need for periodontal care\")\n",
    "periodontal_care"
   ]
  },
  {
   "cell_type": "code",
   "execution_count": 10,
   "id": "10faba71",
   "metadata": {},
   "outputs": [
    {
     "data": {
      "text/plain": [
       "root fragments\n",
       "No     4692\n",
       "Yes    1728\n",
       "dtype: int64"
      ]
     },
     "execution_count": 10,
     "metadata": {},
     "output_type": "execute_result"
    }
   ],
   "source": [
    "root_fragments = smile.value_counts(\"root fragments\")\n",
    "root_fragments"
   ]
  },
  {
   "cell_type": "code",
   "execution_count": 12,
   "id": "d9968c1b",
   "metadata": {},
   "outputs": [
    {
     "data": {
      "text/plain": [
       "suspicious soft tissue lesions\n",
       "No     5708\n",
       "Yes     311\n",
       "dtype: int64"
      ]
     },
     "execution_count": 12,
     "metadata": {},
     "output_type": "execute_result"
    }
   ],
   "source": [
    "soft_tissue_lesions = smile.value_counts(\"suspicious soft tissue lesions\")\n",
    "soft_tissue_lesions"
   ]
  },
  {
   "cell_type": "code",
   "execution_count": 14,
   "id": "172051cf",
   "metadata": {},
   "outputs": [
    {
     "data": {
      "text/plain": [
       "untreated decay\n",
       "Yes           4328\n",
       "No            1981\n",
       "Edentulous     320\n",
       "dtype: int64"
      ]
     },
     "execution_count": 14,
     "metadata": {},
     "output_type": "execute_result"
    }
   ],
   "source": [
    "untreated_decay = smile.value_counts(\"untreated decay\")\n",
    "untreated_decay"
   ]
  },
  {
   "cell_type": "code",
   "execution_count": 16,
   "id": "4f9caed0",
   "metadata": {
    "scrolled": true
   },
   "outputs": [
    {
     "data": {
      "text/plain": [
       "how often do you brush your teeth\n",
       "twice daily          3108\n",
       "Once daily           2410\n",
       "None                  408\n",
       "three times daily     350\n",
       "four times daily       42\n",
       "dtype: int64"
      ]
     },
     "execution_count": 16,
     "metadata": {},
     "output_type": "execute_result"
    }
   ],
   "source": [
    "brush_frequency = smile.value_counts(\"how often do you brush your teeth\")\n",
    "brush_frequency"
   ]
  },
  {
   "cell_type": "code",
   "execution_count": 18,
   "id": "07d6f379",
   "metadata": {
    "scrolled": true
   },
   "outputs": [
    {
     "data": {
      "text/plain": [
       "treatment urgency\n",
       "Early care-within next several weeks                4713\n",
       "No obvious problem                                  1309\n",
       "Urgent Care - within next week-pain or infection     509\n",
       "dtype: int64"
      ]
     },
     "execution_count": 18,
     "metadata": {},
     "output_type": "execute_result"
    }
   ],
   "source": [
    "treatment_urgency = smile.value_counts(\"treatment urgency\")\n",
    "treatment_urgency"
   ]
  },
  {
   "cell_type": "markdown",
   "id": "ebba4eaf",
   "metadata": {},
   "source": [
    "### trying to utilize DP's code for dental issues"
   ]
  },
  {
   "cell_type": "code",
   "execution_count": 22,
   "id": "e8e45d19",
   "metadata": {},
   "outputs": [
    {
     "data": {
      "text/plain": [
       "10709"
      ]
     },
     "execution_count": 22,
     "metadata": {},
     "output_type": "execute_result"
    }
   ],
   "source": [
    "smile.loc[~smile['callernum'].isin([-1,-2])]['callernum'].nunique()"
   ]
  },
  {
   "cell_type": "code",
   "execution_count": 32,
   "id": "042871fd",
   "metadata": {},
   "outputs": [
    {
     "data": {
      "text/plain": [
       "array([3638169, 4431194, 2941341, ..., 2385054, 2385074, 2384897],\n",
       "      dtype=int64)"
      ]
     },
     "execution_count": 32,
     "metadata": {},
     "output_type": "execute_result"
    }
   ],
   "source": [
    "clients_list = smile.loc[~smile[\"callernum\"].isin([-1,-2])][\"callernum\"].unique()\n",
    "clients_list"
   ]
  },
  {
   "cell_type": "code",
   "execution_count": 25,
   "id": "a1480d43",
   "metadata": {},
   "outputs": [],
   "source": [
    "n_clients_list = smile.loc[~smile[\"callernum\"].isin([-1,-2])][\"callernum\"].nunique()\n",
    "clients_list = smile.loc[~smile[\"callernum\"].isin([-1,-2])][\"callernum\"].unique()\n",
    "\n",
    "def make_callernum_dict(dataframe, colname):\n",
    "    results = {}\n",
    "    x=0\n",
    "    while x in range (0,n_clients_list):\n",
    "        patientdf = dataframe.loc[dataframe[colname]==clients_list[x]]\n",
    "        results[clients_list[x]] = patientdf\n",
    "        x += 1\n",
    "    return results\n",
    "    \n",
    "callernum_dict = make_callernum_dict(smile,\"callernum\")"
   ]
  },
  {
   "cell_type": "code",
   "execution_count": 27,
   "id": "a9662a93",
   "metadata": {},
   "outputs": [
    {
     "data": {
      "text/plain": [
       "10709"
      ]
     },
     "execution_count": 27,
     "metadata": {},
     "output_type": "execute_result"
    }
   ],
   "source": [
    "len(callernum_dict.keys())"
   ]
  },
  {
   "cell_type": "code",
   "execution_count": null,
   "id": "d4331853",
   "metadata": {},
   "outputs": [],
   "source": [
    "callerNum_dict[4481785][\"Base-line Oral and Conditions Questions - How would you describe the condition of your mouth and teeth?\"].nunique()"
   ]
  }
 ],
 "metadata": {
  "kernelspec": {
   "display_name": "Python 3",
   "language": "python",
   "name": "python3"
  },
  "language_info": {
   "codemirror_mode": {
    "name": "ipython",
    "version": 3
   },
   "file_extension": ".py",
   "mimetype": "text/x-python",
   "name": "python",
   "nbconvert_exporter": "python",
   "pygments_lexer": "ipython3",
   "version": "3.8.8"
  }
 },
 "nbformat": 4,
 "nbformat_minor": 5
}
