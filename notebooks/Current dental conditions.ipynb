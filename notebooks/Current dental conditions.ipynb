{
 "cells": [
  {
   "cell_type": "code",
   "execution_count": null,
   "id": "080fd1b8",
   "metadata": {},
   "outputs": [],
   "source": [
    "import pandas as pd\n",
    "import numpy as np\n",
    "import matplotlib.pyplot as plt\n",
    "import re\n",
    "%matplotlib inline"
   ]
  },
  {
   "cell_type": "code",
   "execution_count": null,
   "id": "b48d96a7",
   "metadata": {},
   "outputs": [],
   "source": [
    "pd.set_option('display.max_columns', None)"
   ]
  },
  {
   "cell_type": "code",
   "execution_count": null,
   "id": "6a7b1499",
   "metadata": {},
   "outputs": [],
   "source": [
    "smile = pd.read_csv('../data/smile_clean.csv').drop('Unnamed: 0', axis = 1)\n",
    "smile.head(3)"
   ]
  },
  {
   "cell_type": "code",
   "execution_count": null,
   "id": "205bb88b",
   "metadata": {
    "scrolled": true
   },
   "outputs": [],
   "source": [
    "nash = pd.read_csv('../data/nash_visitors.csv').drop('Unnamed: 0', axis = 1)\n",
    "nash.head(3)"
   ]
  },
  {
   "cell_type": "code",
   "execution_count": null,
   "id": "b4b4648c",
   "metadata": {
    "scrolled": true
   },
   "outputs": [],
   "source": [
    "memp = pd.read_csv('../data/memp_visitors.csv').drop('Unnamed: 0', axis = 1)\n",
    "memp.head(3)"
   ]
  },
  {
   "cell_type": "code",
   "execution_count": null,
   "id": "04fe7c68",
   "metadata": {
    "scrolled": false
   },
   "outputs": [],
   "source": [
    "upper = smile.value_counts(\"num of upper natural teeth\")"
   ]
  },
  {
   "cell_type": "code",
   "execution_count": null,
   "id": "8e1a546c",
   "metadata": {},
   "outputs": [],
   "source": [
    "lower = smile.value_counts(\"num of lower natural teeth\")"
   ]
  },
  {
   "cell_type": "markdown",
   "id": "36674d0a",
   "metadata": {},
   "source": [
    "### trying to utilize DP's code for dental issues"
   ]
  },
  {
   "cell_type": "code",
   "execution_count": null,
   "id": "b0c5d631",
   "metadata": {},
   "outputs": [],
   "source": [
    "smile.loc[~smile['callernum'].isin([-1,-2])]['callernum'].nunique()"
   ]
  },
  {
   "cell_type": "code",
   "execution_count": null,
   "id": "704a89eb",
   "metadata": {},
   "outputs": [],
   "source": [
    "clients_list = smile.loc[~smile['callernum'].isin([-1,-2])]['callernum'].nunique()\n",
    "clients_list"
   ]
  },
  {
   "cell_type": "code",
   "execution_count": null,
   "id": "43a4a1e7",
   "metadata": {},
   "outputs": [],
   "source": []
  }
 ],
 "metadata": {
  "kernelspec": {
   "display_name": "Python 3",
   "language": "python",
   "name": "python3"
  },
  "language_info": {
   "codemirror_mode": {
    "name": "ipython",
    "version": 3
   },
   "file_extension": ".py",
   "mimetype": "text/x-python",
   "name": "python",
   "nbconvert_exporter": "python",
   "pygments_lexer": "ipython3",
   "version": "3.8.8"
  }
 },
 "nbformat": 4,
 "nbformat_minor": 5
}
