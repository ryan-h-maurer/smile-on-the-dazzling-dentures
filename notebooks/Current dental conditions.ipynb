{
 "cells": [
  {
   "cell_type": "code",
   "execution_count": null,
   "id": "080fd1b8",
   "metadata": {},
   "outputs": [],
   "source": [
    "import pandas as pd\n",
    "import numpy as np\n",
    "import matplotlib.pyplot as plt\n",
    "import re\n",
    "%matplotlib inline"
   ]
  },
  {
   "cell_type": "code",
   "execution_count": null,
   "id": "b48d96a7",
   "metadata": {},
   "outputs": [],
   "source": [
    "pd.set_option('display.max_columns', None)"
   ]
  },
  {
   "cell_type": "code",
   "execution_count": null,
   "id": "6a7b1499",
   "metadata": {
    "scrolled": true
   },
   "outputs": [],
   "source": [
    "smile = pd.read_csv('../data/smile_clean.csv').drop('Unnamed: 0', axis = 1)\n",
    "smile.head(3)"
   ]
  },
  {
   "cell_type": "markdown",
   "id": "ad683cc3",
   "metadata": {},
   "source": [
    "### nashville patients only"
   ]
  },
  {
   "cell_type": "code",
   "execution_count": null,
   "id": "78ef442f",
   "metadata": {
    "scrolled": false
   },
   "outputs": [],
   "source": [
    "nash = pd.read_csv('../data/nash_visitors.csv').drop('Unnamed: 0', axis = 1)\n",
    "nash.head(3)"
   ]
  },
  {
   "cell_type": "markdown",
   "id": "002fc5c1",
   "metadata": {},
   "source": [
    "### memphis patients only"
   ]
  },
  {
   "cell_type": "code",
   "execution_count": null,
   "id": "3ab74a94",
   "metadata": {
    "scrolled": true
   },
   "outputs": [],
   "source": [
    "memp = pd.read_csv('../data/memp_visitors.csv').drop('Unnamed: 0', axis = 1)\n",
    "memp.head(3)"
   ]
  },
  {
   "cell_type": "markdown",
   "id": "b2d53c39",
   "metadata": {},
   "source": [
    "### counts of initial issues"
   ]
  },
  {
   "cell_type": "code",
   "execution_count": null,
   "id": "a86b5f87",
   "metadata": {
    "scrolled": false
   },
   "outputs": [],
   "source": [
    "upper = smile.value_counts(\"num of upper natural teeth\")\n",
    "upper"
   ]
  },
  {
   "cell_type": "code",
   "execution_count": null,
   "id": "c9aa6842",
   "metadata": {},
   "outputs": [],
   "source": [
    "lower = smile.value_counts(\"num of lower natural teeth\")\n",
    "lower"
   ]
  },
  {
   "cell_type": "code",
   "execution_count": null,
   "id": "03b1b2ca",
   "metadata": {},
   "outputs": [],
   "source": [
    "removable_dentures = smile.value_counts(\"removable dentures\")\n",
    "removable_dentures"
   ]
  },
  {
   "cell_type": "code",
   "execution_count": null,
   "id": "a3bbbf6c",
   "metadata": {},
   "outputs": [],
   "source": [
    "periodontal_care = smile.value_counts(\"need for periodontal care\")\n",
    "periodontal_care"
   ]
  },
  {
   "cell_type": "code",
   "execution_count": null,
   "id": "fc2c69b1",
   "metadata": {},
   "outputs": [],
   "source": [
    "root_fragments = smile.value_counts(\"root fragments\")\n",
    "root_fragments"
   ]
  },
  {
   "cell_type": "code",
   "execution_count": null,
   "id": "ba311c85",
   "metadata": {},
   "outputs": [],
   "source": [
    "soft_tissue_lesions = smile.value_counts(\"suspicious soft tissue lesions\")\n",
    "soft_tissue_lesions"
   ]
  },
  {
   "cell_type": "code",
   "execution_count": null,
   "id": "0b590b98",
   "metadata": {},
   "outputs": [],
   "source": [
    "untreated_decay = smile.value_counts(\"untreated decay\")\n",
    "untreated_decay"
   ]
  },
  {
   "cell_type": "code",
   "execution_count": null,
   "id": "e9a03f25",
   "metadata": {
    "scrolled": true
   },
   "outputs": [],
   "source": [
    "brush_frequency = smile.value_counts(\"how often do you brush your teeth\")\n",
    "brush_frequency"
   ]
  },
  {
   "cell_type": "code",
   "execution_count": null,
   "id": "2f7286e5",
   "metadata": {
    "scrolled": true
   },
   "outputs": [],
   "source": [
    "treatment_urgency = smile.value_counts(\"treatment urgency\")\n",
    "treatment_urgency"
   ]
  },
  {
   "cell_type": "markdown",
   "id": "ebba4eaf",
   "metadata": {},
   "source": [
    "### trying to utilize DP's code for dental issues"
   ]
  },
  {
   "cell_type": "code",
   "execution_count": null,
   "id": "e8e45d19",
   "metadata": {},
   "outputs": [],
   "source": [
    "smile.loc[~smile['callernum'].isin([-1,-2])]['callernum'].nunique()"
   ]
  },
  {
   "cell_type": "code",
   "execution_count": null,
   "id": "59e76802",
   "metadata": {},
   "outputs": [],
   "source": [
    "clients_list = smile.loc[~smile[\"callernum\"].isin([-1,-2])][\"callernum\"].unique()\n",
    "clients_list"
   ]
  },
  {
   "cell_type": "code",
   "execution_count": null,
   "id": "a1480d43",
   "metadata": {},
   "outputs": [],
   "source": [
    "n_clients_list = smile.loc[~smile[\"callernum\"].isin([-1,-2])][\"callernum\"].nunique()\n",
    "clients_list = smile.loc[~smile[\"callernum\"].isin([-1,-2])][\"callernum\"].unique()\n",
    "\n",
    "def make_callernum_dict(dataframe, colname):\n",
    "    results = {}\n",
    "    x=0\n",
    "    while x in range (0,n_clients_list):\n",
    "        patientdf = dataframe.loc[dataframe[colname]==clients_list[x]]\n",
    "        results[clients_list[x]] = patientdf\n",
    "        x += 1\n",
    "    return results\n",
    "    \n",
    "callernum_dict = make_callernum_dict(smile,\"callernum\")"
   ]
  },
  {
   "cell_type": "code",
   "execution_count": null,
   "id": "25b33484",
   "metadata": {},
   "outputs": [],
   "source": [
    "len(callernum_dict.keys())"
   ]
  },
  {
   "cell_type": "code",
   "execution_count": null,
   "id": "7fc030ba",
   "metadata": {},
   "outputs": [],
   "source": [
    "callerNum_dict[4481785][\"Base-line Oral and Conditions Questions - How would you describe the condition of your mouth and teeth?\"].nunique()"
   ]
  }
 ],
 "metadata": {
  "kernelspec": {
   "display_name": "Python 3",
   "language": "python",
   "name": "python3"
  },
  "language_info": {
   "codemirror_mode": {
    "name": "ipython",
    "version": 3
   },
   "file_extension": ".py",
   "mimetype": "text/x-python",
   "name": "python",
   "nbconvert_exporter": "python",
   "pygments_lexer": "ipython3",
   "version": "3.8.8"
  }
 },
 "nbformat": 4,
 "nbformat_minor": 5
}
