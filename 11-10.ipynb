{
 "cells": [
  {
   "cell_type": "code",
   "execution_count": 1,
   "id": "1489cddb",
   "metadata": {},
   "outputs": [],
   "source": [
    "import pandas as pd\n",
    "import matplotlib.pyplot as plt\n",
    "import numpy as np\n",
    "import seaborn as sns\n",
    "import re"
   ]
  },
  {
   "cell_type": "code",
   "execution_count": 2,
   "id": "38d9702c",
   "metadata": {},
   "outputs": [
    {
     "name": "stderr",
     "output_type": "stream",
     "text": [
      "C:\\Users\\6106057\\Anaconda3\\lib\\site-packages\\IPython\\core\\interactiveshell.py:3165: DtypeWarning: Columns (3) have mixed types.Specify dtype option on import or set low_memory=False.\n",
      "  has_raised = await self.run_ast_nodes(code_ast.body, cell_name,\n"
     ]
    }
   ],
   "source": [
    "smile = pd.read_csv('C:/Users/6106057/nss-data-analytics/projects/smile-on-the-dazzling-dentures/Data/smile.csv')"
   ]
  },
  {
   "cell_type": "code",
   "execution_count": 3,
   "id": "183ca3d3",
   "metadata": {
    "scrolled": false
   },
   "outputs": [
    {
     "data": {
      "text/plain": [
       "Index(['Unnamed: 0', 'CallReportNum', 'ReportVersion', 'LinkedToCallReportNum',\n",
       "       'CallDateAndTimeStart', 'CallDateAndTimeEnd', 'CallLength', 'CallerNum',\n",
       "       'PhoneWorkerNum', 'CityName', 'CountyName', 'StateProvince',\n",
       "       'CountryName', 'PostalCode', 'Narrative', 'EnteredByWorkerNum',\n",
       "       'EnteredOn',\n",
       "       'SMILE ON 60+ Demographic Information - # of People in Household',\n",
       "       'Birth Year', 'SMILE ON 60+ Demographic Information - Other Language',\n",
       "       'SMILE ON 60+ Screening - Last Screening Date',\n",
       "       'SMILE ON 60+ Verification of Eligibility - Verification Date',\n",
       "       'SMILE ON 60+ Base-line Oral and Conditions Questions - Dental Clinic',\n",
       "       'SMILE ON 60+ Base-line Oral and Conditions Questions - Did the client commit to referral?',\n",
       "       'SMILE ON 60+ Base-line Oral and Conditions Questions - Do you need help in these other areas?',\n",
       "       'SMILE ON 60+ Base-line Oral and Conditions Questions - Have you ever felt that the appearance of your mouth and teeth affected your quality of life?',\n",
       "       'SMILE ON 60+ Base-line Oral and Conditions Questions - How would you describe the condition of your mouth and teeth?',\n",
       "       'SMILE ON 60+ Case Management Information - Transportation Barriers',\n",
       "       'SMILE ON 60+ Case Management Information - What barriers have kept you from finding a consistent dental home? (Select all that apply)',\n",
       "       'SMILE ON 60+ Demographic Information - Gender',\n",
       "       'SMILE ON 60+ Demographic Information - Household Income Level',\n",
       "       'SMILE ON 60+ Demographic Information - How did you first hear about the SMILE ON 60+ program?',\n",
       "       'SMILE ON 60+ Demographic Information - Preferred Language/Language Needed',\n",
       "       'SMILE ON 60+ Demographic Information - Race/Ethnicity',\n",
       "       'SMILE ON 60+ Demographic Information - What other assistance programs are you on?',\n",
       "       'SMILE ON 60+ Demographic Information - When is the last time you visited your dentist?',\n",
       "       'SMILE ON 60+ Oral Care Encounter - What care was provided to the enrollee? (Select all that apply)',\n",
       "       'SMILE ON 60+ Presumptive Eligibility - Dental Insurance?',\n",
       "       'SMILE ON 60+ Presumptive Eligibility - Do they pre-qualify for SMILE ON 60+?',\n",
       "       'SMILE ON 60+ Screening - Do you have removable dentures?',\n",
       "       'SMILE ON 60+ Screening - Do you usually wear your denture(s) when you eat?',\n",
       "       'SMILE ON 60+ Screening - How often do you brush your teeth?',\n",
       "       'SMILE ON 60+ Screening - Need for Periodontal Care',\n",
       "       'SMILE ON 60+ Screening - Root Fragments',\n",
       "       'SMILE ON 60+ Screening - Suspicious Soft Tissue Lesions',\n",
       "       'SMILE ON 60+ Screening - Treatment Urgency',\n",
       "       'SMILE ON 60+ Screening - Untreated Decay',\n",
       "       'SMILE ON 60+ Site Information - Enroller ID',\n",
       "       'SMILE ON 60+ Site Information - Enroller Location',\n",
       "       'SMILE ON 60+ Treatment Plan - Is the treatment plan completed?',\n",
       "       'SMILE ON 60+ Treatment Plan - Was a treatment plan developed?',\n",
       "       'SMILE ON 60+ Treatment Plan - Was the enrollee able to be restored to function (can chew) and \"social six\" esthetics (top front six teeth are present and disease free)'],\n",
       "      dtype='object')"
      ]
     },
     "execution_count": 3,
     "metadata": {},
     "output_type": "execute_result"
    }
   ],
   "source": [
    "smile.columns"
   ]
  },
  {
   "cell_type": "code",
   "execution_count": 4,
   "id": "aab375cb",
   "metadata": {},
   "outputs": [],
   "source": [
    "smile = smile.rename(columns ={'CallReportNum':'reportID','ReportVersion':'reg_clic',\n",
    "                               'CallDateAndTimeStart':'callStart','CallDateAndTimeEnd':'callEnd',\n",
    "                              'CityName':'city', 'CountyName':'county','CountryName':'country',\n",
    "                              'PostalCode':'zipcode',\n",
    "                               'SMILE ON 60+ Demographic Information - # of People in Household': 'num_household',\n",
    "                               'Birth Year':'birth_year',\n",
    "                               'SMILE ON 60+ Demographic Information - Other Language': 'language',\n",
    "                               'SMILE ON 60+ Verification of Eligibility - Verification Date':'lastscreeningdate',\n",
    "                               'SMILE ON 60+ Base-line Oral and Conditions Questions - Dental Clinic':'dental_clinic',\n",
    "                               'SMILE ON 60+ Base-line Oral and Conditions Questions - Did the client commit to referral?':'referral',\n",
    "                               'SMILE ON 60+ Base-line Oral and Conditions Questions - Have you ever felt that the appearance of your mouth and teeth affected your quality of life?' : 'mouth_teeth_quality',\n",
    "                               'SMILE ON 60+ Demographic Information - Gender':'gender',\n",
    "                               'SMILE ON 60+ Demographic Information - Race/Ethnicity': 'race',\n",
    "                               'SMILE ON 60+ Demographic Information - Household Income Level':'income_level',\n",
    "                               'SMILE ON 60+ Demographic Information - When is the last time you visited your dentist?':'last_time_visit',\n",
    "                               'SMILE ON 60+ Presumptive Eligibility - Dental Insurance?':'with_insurance',\n",
    "                               'SMILE ON 60+ Screening - How often do you brush your teeth?': 'brush_teeth',\n",
    "                               'SMILE ON 60+ Screening - Need for Periodontal Care':'future_care'})"
   ]
  },
  {
   "cell_type": "code",
   "execution_count": 5,
   "id": "d6493c41",
   "metadata": {
    "scrolled": false
   },
   "outputs": [
    {
     "data": {
      "text/plain": [
       "Index(['Unnamed: 0', 'reportID', 'reg_clic', 'LinkedToCallReportNum',\n",
       "       'callStart', 'callEnd', 'CallLength', 'CallerNum', 'PhoneWorkerNum',\n",
       "       'city', 'county', 'StateProvince', 'country', 'zipcode', 'Narrative',\n",
       "       'EnteredByWorkerNum', 'EnteredOn', 'num_household', 'birth_year',\n",
       "       'language', 'SMILE ON 60+ Screening - Last Screening Date',\n",
       "       'lastscreeningdate', 'dental_clinic', 'referral',\n",
       "       'SMILE ON 60+ Base-line Oral and Conditions Questions - Do you need help in these other areas?',\n",
       "       'mouth_teeth_quality',\n",
       "       'SMILE ON 60+ Base-line Oral and Conditions Questions - How would you describe the condition of your mouth and teeth?',\n",
       "       'SMILE ON 60+ Case Management Information - Transportation Barriers',\n",
       "       'SMILE ON 60+ Case Management Information - What barriers have kept you from finding a consistent dental home? (Select all that apply)',\n",
       "       'gender', 'income_level',\n",
       "       'SMILE ON 60+ Demographic Information - How did you first hear about the SMILE ON 60+ program?',\n",
       "       'SMILE ON 60+ Demographic Information - Preferred Language/Language Needed',\n",
       "       'race',\n",
       "       'SMILE ON 60+ Demographic Information - What other assistance programs are you on?',\n",
       "       'last_time_visit',\n",
       "       'SMILE ON 60+ Oral Care Encounter - What care was provided to the enrollee? (Select all that apply)',\n",
       "       'with_insurance',\n",
       "       'SMILE ON 60+ Presumptive Eligibility - Do they pre-qualify for SMILE ON 60+?',\n",
       "       'SMILE ON 60+ Screening - Do you have removable dentures?',\n",
       "       'SMILE ON 60+ Screening - Do you usually wear your denture(s) when you eat?',\n",
       "       'brush_teeth', 'future_care', 'SMILE ON 60+ Screening - Root Fragments',\n",
       "       'SMILE ON 60+ Screening - Suspicious Soft Tissue Lesions',\n",
       "       'SMILE ON 60+ Screening - Treatment Urgency',\n",
       "       'SMILE ON 60+ Screening - Untreated Decay',\n",
       "       'SMILE ON 60+ Site Information - Enroller ID',\n",
       "       'SMILE ON 60+ Site Information - Enroller Location',\n",
       "       'SMILE ON 60+ Treatment Plan - Is the treatment plan completed?',\n",
       "       'SMILE ON 60+ Treatment Plan - Was a treatment plan developed?',\n",
       "       'SMILE ON 60+ Treatment Plan - Was the enrollee able to be restored to function (can chew) and \"social six\" esthetics (top front six teeth are present and disease free)'],\n",
       "      dtype='object')"
      ]
     },
     "execution_count": 5,
     "metadata": {},
     "output_type": "execute_result"
    }
   ],
   "source": [
    "smile.columns"
   ]
  },
  {
   "cell_type": "code",
   "execution_count": 28,
   "id": "009326cf",
   "metadata": {
    "scrolled": false
   },
   "outputs": [
    {
     "data": {
      "text/html": [
       "<div>\n",
       "<style scoped>\n",
       "    .dataframe tbody tr th:only-of-type {\n",
       "        vertical-align: middle;\n",
       "    }\n",
       "\n",
       "    .dataframe tbody tr th {\n",
       "        vertical-align: top;\n",
       "    }\n",
       "\n",
       "    .dataframe thead th {\n",
       "        text-align: right;\n",
       "    }\n",
       "</style>\n",
       "<table border=\"1\" class=\"dataframe\">\n",
       "  <thead>\n",
       "    <tr style=\"text-align: right;\">\n",
       "      <th></th>\n",
       "      <th>gender</th>\n",
       "      <th>race</th>\n",
       "      <th>CallerNum</th>\n",
       "    </tr>\n",
       "  </thead>\n",
       "  <tbody>\n",
       "    <tr>\n",
       "      <th>0</th>\n",
       "      <td>Female</td>\n",
       "      <td>African American</td>\n",
       "      <td>1766</td>\n",
       "    </tr>\n",
       "    <tr>\n",
       "      <th>1</th>\n",
       "      <td>Female</td>\n",
       "      <td>American Indian and Alaska Native</td>\n",
       "      <td>32</td>\n",
       "    </tr>\n",
       "    <tr>\n",
       "      <th>2</th>\n",
       "      <td>Female</td>\n",
       "      <td>Asian</td>\n",
       "      <td>92</td>\n",
       "    </tr>\n",
       "    <tr>\n",
       "      <th>3</th>\n",
       "      <td>Female</td>\n",
       "      <td>Caucasian</td>\n",
       "      <td>3776</td>\n",
       "    </tr>\n",
       "    <tr>\n",
       "      <th>4</th>\n",
       "      <td>Female</td>\n",
       "      <td>Hispanic</td>\n",
       "      <td>269</td>\n",
       "    </tr>\n",
       "    <tr>\n",
       "      <th>5</th>\n",
       "      <td>Female</td>\n",
       "      <td>Multi-racial</td>\n",
       "      <td>21</td>\n",
       "    </tr>\n",
       "    <tr>\n",
       "      <th>6</th>\n",
       "      <td>Female</td>\n",
       "      <td>Pacific Islander</td>\n",
       "      <td>6</td>\n",
       "    </tr>\n",
       "    <tr>\n",
       "      <th>7</th>\n",
       "      <td>Female</td>\n",
       "      <td>Unknown</td>\n",
       "      <td>61</td>\n",
       "    </tr>\n",
       "    <tr>\n",
       "      <th>8</th>\n",
       "      <td>Male</td>\n",
       "      <td>African American</td>\n",
       "      <td>891</td>\n",
       "    </tr>\n",
       "    <tr>\n",
       "      <th>9</th>\n",
       "      <td>Male</td>\n",
       "      <td>American Indian and Alaska Native</td>\n",
       "      <td>19</td>\n",
       "    </tr>\n",
       "    <tr>\n",
       "      <th>10</th>\n",
       "      <td>Male</td>\n",
       "      <td>Asian</td>\n",
       "      <td>59</td>\n",
       "    </tr>\n",
       "    <tr>\n",
       "      <th>11</th>\n",
       "      <td>Male</td>\n",
       "      <td>Caucasian</td>\n",
       "      <td>2174</td>\n",
       "    </tr>\n",
       "    <tr>\n",
       "      <th>12</th>\n",
       "      <td>Male</td>\n",
       "      <td>Hispanic</td>\n",
       "      <td>193</td>\n",
       "    </tr>\n",
       "    <tr>\n",
       "      <th>13</th>\n",
       "      <td>Male</td>\n",
       "      <td>Multi-racial</td>\n",
       "      <td>12</td>\n",
       "    </tr>\n",
       "    <tr>\n",
       "      <th>14</th>\n",
       "      <td>Male</td>\n",
       "      <td>Pacific Islander</td>\n",
       "      <td>4</td>\n",
       "    </tr>\n",
       "    <tr>\n",
       "      <th>15</th>\n",
       "      <td>Male</td>\n",
       "      <td>Unknown</td>\n",
       "      <td>51</td>\n",
       "    </tr>\n",
       "    <tr>\n",
       "      <th>16</th>\n",
       "      <td>Other</td>\n",
       "      <td>Unknown</td>\n",
       "      <td>1</td>\n",
       "    </tr>\n",
       "    <tr>\n",
       "      <th>17</th>\n",
       "      <td>Transgender</td>\n",
       "      <td>Caucasian</td>\n",
       "      <td>1</td>\n",
       "    </tr>\n",
       "  </tbody>\n",
       "</table>\n",
       "</div>"
      ],
      "text/plain": [
       "         gender                               race  CallerNum\n",
       "0        Female                   African American       1766\n",
       "1        Female  American Indian and Alaska Native         32\n",
       "2        Female                              Asian         92\n",
       "3        Female                          Caucasian       3776\n",
       "4        Female                           Hispanic        269\n",
       "5        Female                       Multi-racial         21\n",
       "6        Female                   Pacific Islander          6\n",
       "7        Female                            Unknown         61\n",
       "8          Male                   African American        891\n",
       "9          Male  American Indian and Alaska Native         19\n",
       "10         Male                              Asian         59\n",
       "11         Male                          Caucasian       2174\n",
       "12         Male                           Hispanic        193\n",
       "13         Male                       Multi-racial         12\n",
       "14         Male                   Pacific Islander          4\n",
       "15         Male                            Unknown         51\n",
       "16        Other                            Unknown          1\n",
       "17  Transgender                          Caucasian          1"
      ]
     },
     "execution_count": 28,
     "metadata": {},
     "output_type": "execute_result"
    }
   ],
   "source": [
    "Callernum = smile.groupby(['gender','race'])[\"CallerNum\"].nunique().reset_index()\n",
    "Callernum"
   ]
  },
  {
   "cell_type": "code",
   "execution_count": 29,
   "id": "7c1cc3a8",
   "metadata": {},
   "outputs": [
    {
     "data": {
      "text/plain": [
       "9428"
      ]
     },
     "execution_count": 29,
     "metadata": {},
     "output_type": "execute_result"
    }
   ],
   "source": [
    "Callernum.CallerNum.sum()"
   ]
  },
  {
   "cell_type": "markdown",
   "id": "c7458973",
   "metadata": {},
   "source": [
    "## Geo - gender, birth year and race"
   ]
  },
  {
   "cell_type": "code",
   "execution_count": 7,
   "id": "c3c1e63c",
   "metadata": {
    "scrolled": false
   },
   "outputs": [
    {
     "data": {
      "text/html": [
       "<div>\n",
       "<style scoped>\n",
       "    .dataframe tbody tr th:only-of-type {\n",
       "        vertical-align: middle;\n",
       "    }\n",
       "\n",
       "    .dataframe tbody tr th {\n",
       "        vertical-align: top;\n",
       "    }\n",
       "\n",
       "    .dataframe thead th {\n",
       "        text-align: right;\n",
       "    }\n",
       "</style>\n",
       "<table border=\"1\" class=\"dataframe\">\n",
       "  <thead>\n",
       "    <tr style=\"text-align: right;\">\n",
       "      <th></th>\n",
       "      <th>CallerNum</th>\n",
       "      <th>birth_year</th>\n",
       "      <th>gender</th>\n",
       "      <th>race</th>\n",
       "    </tr>\n",
       "  </thead>\n",
       "  <tbody>\n",
       "    <tr>\n",
       "      <th>0</th>\n",
       "      <td>3638169</td>\n",
       "      <td>1960.0</td>\n",
       "      <td>Female</td>\n",
       "      <td>African American</td>\n",
       "    </tr>\n",
       "    <tr>\n",
       "      <th>1</th>\n",
       "      <td>4431194</td>\n",
       "      <td>1959.0</td>\n",
       "      <td>Female</td>\n",
       "      <td>Caucasian</td>\n",
       "    </tr>\n",
       "    <tr>\n",
       "      <th>2</th>\n",
       "      <td>2941341</td>\n",
       "      <td>1942.0</td>\n",
       "      <td>Male</td>\n",
       "      <td>Asian</td>\n",
       "    </tr>\n",
       "    <tr>\n",
       "      <th>3</th>\n",
       "      <td>3823933</td>\n",
       "      <td>1960.0</td>\n",
       "      <td>Male</td>\n",
       "      <td>African American</td>\n",
       "    </tr>\n",
       "    <tr>\n",
       "      <th>4</th>\n",
       "      <td>3348256</td>\n",
       "      <td>1955.0</td>\n",
       "      <td>Female</td>\n",
       "      <td>African American</td>\n",
       "    </tr>\n",
       "  </tbody>\n",
       "</table>\n",
       "</div>"
      ],
      "text/plain": [
       "   CallerNum  birth_year  gender              race\n",
       "0    3638169      1960.0  Female  African American\n",
       "1    4431194      1959.0  Female         Caucasian\n",
       "2    2941341      1942.0    Male             Asian\n",
       "3    3823933      1960.0    Male  African American\n",
       "4    3348256      1955.0  Female  African American"
      ]
     },
     "execution_count": 7,
     "metadata": {},
     "output_type": "execute_result"
    }
   ],
   "source": [
    "smile_geo = smile[smile.columns[smile.columns.isin(['gender','birth_year','race','CallerNum'])]]\n",
    "smile_geo.head()"
   ]
  },
  {
   "cell_type": "code",
   "execution_count": 8,
   "id": "24d1a77b",
   "metadata": {
    "scrolled": false
   },
   "outputs": [
    {
     "data": {
      "text/plain": [
       "Caucasian                            32248\n",
       "African American                     14670\n",
       "Hispanic                              2657\n",
       "Asian                                  836\n",
       "Unknown                                833\n",
       "American Indian and Alaska Native      170\n",
       "Multi-racial                           147\n",
       "Pacific Islander                        37\n",
       "Name: race, dtype: int64"
      ]
     },
     "execution_count": 8,
     "metadata": {},
     "output_type": "execute_result"
    }
   ],
   "source": [
    "smile_geo.race.value_counts()\n",
    "## a lot of duplicated calls. Value counts doesn't make sense"
   ]
  },
  {
   "cell_type": "markdown",
   "id": "6b12ba8c",
   "metadata": {},
   "source": [
    "# put all the people 60+ "
   ]
  },
  {
   "cell_type": "code",
   "execution_count": 9,
   "id": "d69cd084",
   "metadata": {
    "scrolled": false
   },
   "outputs": [
    {
     "name": "stdout",
     "output_type": "stream",
     "text": [
      "<class 'pandas.core.frame.DataFrame'>\n",
      "Int64Index: 57791 entries, 0 to 57859\n",
      "Data columns (total 4 columns):\n",
      " #   Column      Non-Null Count  Dtype  \n",
      "---  ------      --------------  -----  \n",
      " 0   CallerNum   57791 non-null  int64  \n",
      " 1   birth_year  57791 non-null  float64\n",
      " 2   gender      57278 non-null  object \n",
      " 3   race        51539 non-null  object \n",
      "dtypes: float64(1), int64(1), object(2)\n",
      "memory usage: 2.2+ MB\n"
     ]
    }
   ],
   "source": [
    "over_60 = smile_geo[smile_geo['birth_year'] <= 1961.0]\n",
    "over_60.info()"
   ]
  },
  {
   "cell_type": "code",
   "execution_count": 10,
   "id": "a37e227d",
   "metadata": {
    "scrolled": false
   },
   "outputs": [],
   "source": [
    "gender_race = over_60.groupby(['gender','race'])[\"CallerNum\"].nunique().reset_index()\n",
    "##gender_race = gender_race.sort_values(CallerNum) \n",
    "## lined up from the biggest to small number groups"
   ]
  },
  {
   "cell_type": "code",
   "execution_count": 11,
   "id": "9507ddfc",
   "metadata": {},
   "outputs": [],
   "source": [
    "gender_race = gender_race.sort_values(\"CallerNum\", ascending = False)"
   ]
  },
  {
   "cell_type": "code",
   "execution_count": 12,
   "id": "0fc1f503",
   "metadata": {
    "scrolled": false
   },
   "outputs": [
    {
     "data": {
      "text/plain": [
       "<AxesSubplot:xlabel='race'>"
      ]
     },
     "execution_count": 12,
     "metadata": {},
     "output_type": "execute_result"
    },
    {
     "data": {
      "image/png": "[encoded data removed]",
      "text/plain": [
       "<Figure size 432x288 with 1 Axes>"
      ]
     },
     "metadata": {
      "needs_background": "light"
     },
     "output_type": "display_data"
    }
   ],
   "source": [
    "gender_race[[\"gender\", \"race\", \"CallerNum\"]].plot(x=\"race\", kind=\"bar\")\n",
    "## no very colorful to peresent the issue. "
   ]
  },
  {
   "cell_type": "code",
   "execution_count": 13,
   "id": "0e8fd425",
   "metadata": {
    "scrolled": false
   },
   "outputs": [
    {
     "name": "stderr",
     "output_type": "stream",
     "text": [
      "<ipython-input-13-859bd929bc76>:2: UserWarning: FixedFormatter should only be used together with FixedLocator\n",
      "  ax.set_xticklabels(gender_race.index,rotation=90)\n"
     ]
    },
    {
     "data": {
      "text/plain": [
       "Text(0.5, 1.0, 'The number patients of in differnt Genders')"
      ]
     },
     "execution_count": 13,
     "metadata": {},
     "output_type": "execute_result"
    },
    {
     "data": {
      "image/png": "[encoded data removed]",
      "text/plain": [
       "<Figure size 864x720 with 1 Axes>"
      ]
     },
     "metadata": {
      "needs_background": "light"
     },
     "output_type": "display_data"
    }
   ],
   "source": [
    "fig, ax = plt.subplots(figsize=(12, 10)) \n",
    "ax.set_xticklabels(gender_race.index,rotation=90)\n",
    "ax = sns.barplot(x=\"race\", y=\"CallerNum\" ,hue=\"gender\", data=gender_race)\n",
    "plt.title(\"The number patients of in differnt Genders\", size=20)\n",
    "## python barplot x rotation"
   ]
  },
  {
   "cell_type": "markdown",
   "id": "13e255a2",
   "metadata": {},
   "source": [
    "# saving the picture: plt.savefig(\"The_number_patients_of_in differnt_Genders.png\")"
   ]
  },
  {
   "cell_type": "raw",
   "id": "f9030677",
   "metadata": {},
   "source": [
    "over_60.groupby(['gender','birth_year']).size() \n",
    "## some of years are very wired. "
   ]
  },
  {
   "cell_type": "raw",
   "id": "908123c3",
   "metadata": {},
   "source": [
    "gr_m = gender_race[gender_race['gender'] == 'Male']\n",
    "gr_f = gender_race[gender_race['gender'] == 'Female']"
   ]
  },
  {
   "cell_type": "markdown",
   "id": "5dacd084",
   "metadata": {},
   "source": [
    "# look the income with insurance and last time get checked"
   ]
  },
  {
   "cell_type": "code",
   "execution_count": 14,
   "id": "99f04f62",
   "metadata": {
    "scrolled": true
   },
   "outputs": [
    {
     "data": {
      "text/plain": [
       "$0-$21280        42590\n",
       "$21246-$24280     7332\n",
       "$24281-$27315     2323\n",
       "$28806-$32920     2016\n",
       "$32921-$37035      645\n",
       "$36366-$41560      236\n",
       "$41561-$46755      206\n",
       "$43926-$50200       58\n",
       "$50201-$56475       55\n",
       "$51486-$58840       26\n",
       "$58841-$66195       22\n",
       "$59046-$67480       18\n",
       "$76121-$85635        8\n",
       "$84761-$95355        4\n",
       "$66606-$76120        4\n",
       "$67481-$75915        3\n",
       "$74166-$84760        2\n",
       "Name: income_level, dtype: int64"
      ]
     },
     "execution_count": 14,
     "metadata": {},
     "output_type": "execute_result"
    }
   ],
   "source": [
    "smile['income_level'] = smile['income_level'].str.replace(\" \", \"\") \n",
    "## replace the black space in the \"21 280\"\n",
    "smile['income_level'].value_counts()\n",
    "## there is blank space on the 21280 income level. "
   ]
  },
  {
   "cell_type": "code",
   "execution_count": 15,
   "id": "a919545f",
   "metadata": {},
   "outputs": [
    {
     "data": {
      "text/plain": [
       "0    $0-$21280\n",
       "1    $0-$21280\n",
       "2    $0-$21280\n",
       "3    $0-$21280\n",
       "4    $0-$21280\n",
       "Name: income_level, dtype: object"
      ]
     },
     "execution_count": 15,
     "metadata": {},
     "output_type": "execute_result"
    }
   ],
   "source": [
    "smile.income_level.head()"
   ]
  },
  {
   "cell_type": "code",
   "execution_count": 16,
   "id": "3cfd07d2",
   "metadata": {
    "scrolled": false
   },
   "outputs": [
    {
     "name": "stdout",
     "output_type": "stream",
     "text": [
      "  with_insurance  Numbers\n",
      "0             No     9170\n",
      "1            Yes      863\n"
     ]
    }
   ],
   "source": [
    "insurance = smile.groupby(['with_insurance'])[\"CallerNum\"].nunique().reset_index()\n",
    "insurance = insurance.rename(columns = {\"CallerNum\": \"Numbers\"})\n",
    "print(insurance)"
   ]
  },
  {
   "cell_type": "markdown",
   "id": "238525ee",
   "metadata": {},
   "source": [
    "# Insurance holders perectage "
   ]
  },
  {
   "cell_type": "code",
   "execution_count": 17,
   "id": "7eba7081",
   "metadata": {},
   "outputs": [
    {
     "data": {
      "image/png": "[encoded data removed]",
      "text/plain": [
       "<Figure size 432x288 with 1 Axes>"
      ]
     },
     "metadata": {},
     "output_type": "display_data"
    }
   ],
   "source": [
    "labels = insurance[\"with_insurance\"]\n",
    "sizes = insurance[\"Numbers\"]\n",
    "colors = (\"cyan\",\"orange\") \n",
    "fig1, ax1 = plt.subplots()\n",
    "explode = (0, 0.1) \n",
    "ax1.pie(sizes, colors = colors, explode=explode, labels=labels, autopct='%1.1f%%',\n",
    "        shadow=True, startangle=90) \n",
    "patches, texts, auto = ax1.pie(sizes, colors = colors, explode=explode, labels=labels, autopct='%1.1f%%',\n",
    "        shadow=True, startangle=90)\n",
    "plt.legend(patches, labels, loc=\"best\")\n",
    "plt.show()\n",
    "\n",
    "## why only 2.2% holding insurance becasue of free med-care?"
   ]
  },
  {
   "cell_type": "code",
   "execution_count": 18,
   "id": "7c815095",
   "metadata": {
    "scrolled": false
   },
   "outputs": [
    {
     "data": {
      "text/plain": [
       "$0-$21280        40096\n",
       "$21246-$24280     6570\n",
       "$24281-$27315     2033\n",
       "$28806-$32920     1705\n",
       "$32921-$37035      566\n",
       "$36366-$41560      189\n",
       "$41561-$46755      158\n",
       "$43926-$50200       50\n",
       "$50201-$56475       41\n",
       "$51486-$58840       22\n",
       "$58841-$66195       18\n",
       "$59046-$67480       15\n",
       "$76121-$85635        7\n",
       "$66606-$76120        4\n",
       "$84761-$95355        3\n",
       "$74166-$84760        2\n",
       "$67481-$75915        2\n",
       "Name: income_level, dtype: int64"
      ]
     },
     "execution_count": 18,
     "metadata": {},
     "output_type": "execute_result"
    }
   ],
   "source": [
    "## low income level in the no insurance\n",
    "no_insurance = smile[smile[\"with_insurance\"] == 'No']\n",
    "no_insurance.income_level.value_counts()"
   ]
  },
  {
   "cell_type": "code",
   "execution_count": 19,
   "id": "29e23d82",
   "metadata": {
    "scrolled": true
   },
   "outputs": [
    {
     "data": {
      "text/plain": [
       "Less than 12 months    21354\n",
       "More than 5 years      12260\n",
       "1 to 2 years            9759\n",
       "3 to 5 years            6779\n",
       "Name: last_time_visit, dtype: int64"
      ]
     },
     "execution_count": 19,
     "metadata": {},
     "output_type": "execute_result"
    }
   ],
   "source": [
    "no_insurance.last_time_visit.value_counts()"
   ]
  },
  {
   "cell_type": "markdown",
   "id": "e7876676",
   "metadata": {},
   "source": [
    "# The relationship between Income levelwith Insurance. "
   ]
  },
  {
   "cell_type": "code",
   "execution_count": 20,
   "id": "1e98449a",
   "metadata": {
    "scrolled": false
   },
   "outputs": [
    {
     "data": {
      "text/plain": [
       "$0-$21280        655\n",
       "$21246-$24280    194\n",
       "$24281-$27315     78\n",
       "$28806-$32920     56\n",
       "$36366-$41560     21\n",
       "$32921-$37035     21\n",
       "$41561-$46755     20\n",
       "$43926-$50200      4\n",
       "$59046-$67480      2\n",
       "$58841-$66195      2\n",
       "$84761-$95355      1\n",
       "$67481-$75915      1\n",
       "$51486-$58840      1\n",
       "$76121-$85635      1\n",
       "Name: income_level, dtype: int64"
      ]
     },
     "execution_count": 20,
     "metadata": {},
     "output_type": "execute_result"
    }
   ],
   "source": [
    "yes_insurance = smile[smile[\"with_insurance\"] == 'Yes']\n",
    "yes_insurance.income_level.value_counts()"
   ]
  },
  {
   "cell_type": "code",
   "execution_count": 21,
   "id": "eda85c2c",
   "metadata": {},
   "outputs": [
    {
     "data": {
      "text/plain": [
       "Less than 12 months    510\n",
       "More than 5 years      223\n",
       "1 to 2 years           187\n",
       "3 to 5 years           145\n",
       "Name: last_time_visit, dtype: int64"
      ]
     },
     "execution_count": 21,
     "metadata": {},
     "output_type": "execute_result"
    }
   ],
   "source": [
    "yes_insurance.last_time_visit.value_counts()"
   ]
  },
  {
   "cell_type": "markdown",
   "id": "56809d1b",
   "metadata": {},
   "source": [
    "# look the lowest income level with/without insurance for the last visit\n",
    "$0-$21280 "
   ]
  },
  {
   "cell_type": "code",
   "execution_count": 22,
   "id": "c66d495e",
   "metadata": {
    "scrolled": true
   },
   "outputs": [
    {
     "data": {
      "text/html": [
       "<div>\n",
       "<style scoped>\n",
       "    .dataframe tbody tr th:only-of-type {\n",
       "        vertical-align: middle;\n",
       "    }\n",
       "\n",
       "    .dataframe tbody tr th {\n",
       "        vertical-align: top;\n",
       "    }\n",
       "\n",
       "    .dataframe thead th {\n",
       "        text-align: right;\n",
       "    }\n",
       "</style>\n",
       "<table border=\"1\" class=\"dataframe\">\n",
       "  <thead>\n",
       "    <tr style=\"text-align: right;\">\n",
       "      <th></th>\n",
       "      <th>index</th>\n",
       "      <th>no_last_time_visit</th>\n",
       "    </tr>\n",
       "  </thead>\n",
       "  <tbody>\n",
       "    <tr>\n",
       "      <th>0</th>\n",
       "      <td>Less than 12 months</td>\n",
       "      <td>16246</td>\n",
       "    </tr>\n",
       "    <tr>\n",
       "      <th>1</th>\n",
       "      <td>More than 5 years</td>\n",
       "      <td>9471</td>\n",
       "    </tr>\n",
       "    <tr>\n",
       "      <th>2</th>\n",
       "      <td>1 to 2 years</td>\n",
       "      <td>7021</td>\n",
       "    </tr>\n",
       "    <tr>\n",
       "      <th>3</th>\n",
       "      <td>3 to 5 years</td>\n",
       "      <td>5157</td>\n",
       "    </tr>\n",
       "  </tbody>\n",
       "</table>\n",
       "</div>"
      ],
      "text/plain": [
       "                 index  no_last_time_visit\n",
       "0  Less than 12 months               16246\n",
       "1    More than 5 years                9471\n",
       "2         1 to 2 years                7021\n",
       "3         3 to 5 years                5157"
      ]
     },
     "execution_count": 22,
     "metadata": {},
     "output_type": "execute_result"
    }
   ],
   "source": [
    "no_low = smile.loc[(smile[\"with_insurance\"] == 'No') & \n",
    "                   (smile[\"income_level\"] == '$0-$21280')].last_time_visit.value_counts().reset_index()\n",
    "no_low = no_low.rename(columns = {\"last_time_visit\": \"no_last_time_visit\"})\n",
    "no_low"
   ]
  },
  {
   "cell_type": "code",
   "execution_count": 23,
   "id": "7892e6ae",
   "metadata": {},
   "outputs": [
    {
     "data": {
      "text/html": [
       "<div>\n",
       "<style scoped>\n",
       "    .dataframe tbody tr th:only-of-type {\n",
       "        vertical-align: middle;\n",
       "    }\n",
       "\n",
       "    .dataframe tbody tr th {\n",
       "        vertical-align: top;\n",
       "    }\n",
       "\n",
       "    .dataframe thead th {\n",
       "        text-align: right;\n",
       "    }\n",
       "</style>\n",
       "<table border=\"1\" class=\"dataframe\">\n",
       "  <thead>\n",
       "    <tr style=\"text-align: right;\">\n",
       "      <th></th>\n",
       "      <th>index</th>\n",
       "      <th>yes_last_time_visit</th>\n",
       "    </tr>\n",
       "  </thead>\n",
       "  <tbody>\n",
       "    <tr>\n",
       "      <th>0</th>\n",
       "      <td>Less than 12 months</td>\n",
       "      <td>282</td>\n",
       "    </tr>\n",
       "    <tr>\n",
       "      <th>1</th>\n",
       "      <td>More than 5 years</td>\n",
       "      <td>142</td>\n",
       "    </tr>\n",
       "    <tr>\n",
       "      <th>2</th>\n",
       "      <td>1 to 2 years</td>\n",
       "      <td>110</td>\n",
       "    </tr>\n",
       "    <tr>\n",
       "      <th>3</th>\n",
       "      <td>3 to 5 years</td>\n",
       "      <td>92</td>\n",
       "    </tr>\n",
       "  </tbody>\n",
       "</table>\n",
       "</div>"
      ],
      "text/plain": [
       "                 index  yes_last_time_visit\n",
       "0  Less than 12 months                  282\n",
       "1    More than 5 years                  142\n",
       "2         1 to 2 years                  110\n",
       "3         3 to 5 years                   92"
      ]
     },
     "execution_count": 23,
     "metadata": {},
     "output_type": "execute_result"
    }
   ],
   "source": [
    "yes_low = smile.loc[(smile[\"with_insurance\"] == 'Yes') & \n",
    "                    (smile[\"income_level\"] == '$0-$21280')].last_time_visit.value_counts().reset_index()\n",
    "yes_low = yes_low.rename(columns = {\"last_time_visit\": \"yes_last_time_visit\"})\n",
    "yes_low"
   ]
  },
  {
   "cell_type": "markdown",
   "id": "5a7a4031",
   "metadata": {},
   "source": [
    "# comparing with two of them for the last time visit"
   ]
  },
  {
   "cell_type": "code",
   "execution_count": 24,
   "id": "1115020a",
   "metadata": {},
   "outputs": [
    {
     "data": {
      "text/html": [
       "<div>\n",
       "<style scoped>\n",
       "    .dataframe tbody tr th:only-of-type {\n",
       "        vertical-align: middle;\n",
       "    }\n",
       "\n",
       "    .dataframe tbody tr th {\n",
       "        vertical-align: top;\n",
       "    }\n",
       "\n",
       "    .dataframe thead th {\n",
       "        text-align: right;\n",
       "    }\n",
       "</style>\n",
       "<table border=\"1\" class=\"dataframe\">\n",
       "  <thead>\n",
       "    <tr style=\"text-align: right;\">\n",
       "      <th></th>\n",
       "      <th>index</th>\n",
       "      <th>yes_last_time_visit</th>\n",
       "      <th>no_last_time_visit</th>\n",
       "    </tr>\n",
       "  </thead>\n",
       "  <tbody>\n",
       "    <tr>\n",
       "      <th>0</th>\n",
       "      <td>Less than 12 months</td>\n",
       "      <td>282</td>\n",
       "      <td>16246</td>\n",
       "    </tr>\n",
       "    <tr>\n",
       "      <th>1</th>\n",
       "      <td>More than 5 years</td>\n",
       "      <td>142</td>\n",
       "      <td>9471</td>\n",
       "    </tr>\n",
       "    <tr>\n",
       "      <th>2</th>\n",
       "      <td>1 to 2 years</td>\n",
       "      <td>110</td>\n",
       "      <td>7021</td>\n",
       "    </tr>\n",
       "    <tr>\n",
       "      <th>3</th>\n",
       "      <td>3 to 5 years</td>\n",
       "      <td>92</td>\n",
       "      <td>5157</td>\n",
       "    </tr>\n",
       "  </tbody>\n",
       "</table>\n",
       "</div>"
      ],
      "text/plain": [
       "                 index  yes_last_time_visit  no_last_time_visit\n",
       "0  Less than 12 months                  282               16246\n",
       "1    More than 5 years                  142                9471\n",
       "2         1 to 2 years                  110                7021\n",
       "3         3 to 5 years                   92                5157"
      ]
     },
     "execution_count": 24,
     "metadata": {},
     "output_type": "execute_result"
    }
   ],
   "source": [
    "yorn = yes_low.merge(no_low, how = 'left', on = 'index')\n",
    "##yorn.reset_index(inplace = True)\n",
    "##yorn = yorn.dropna(columns )\n",
    "yorn"
   ]
  },
  {
   "cell_type": "code",
   "execution_count": 25,
   "id": "7273804a",
   "metadata": {},
   "outputs": [
    {
     "data": {
      "text/plain": [
       "626"
      ]
     },
     "execution_count": 25,
     "metadata": {},
     "output_type": "execute_result"
    }
   ],
   "source": [
    "yorn.yes_last_time_visit.sum()"
   ]
  },
  {
   "cell_type": "code",
   "execution_count": 26,
   "id": "947bfbd5",
   "metadata": {},
   "outputs": [
    {
     "data": {
      "text/plain": [
       "37895"
      ]
     },
     "execution_count": 26,
     "metadata": {},
     "output_type": "execute_result"
    }
   ],
   "source": [
    "yorn.no_last_time_visit.sum()"
   ]
  },
  {
   "cell_type": "code",
   "execution_count": 27,
   "id": "5db7a7a1",
   "metadata": {
    "scrolled": true
   },
   "outputs": [
    {
     "data": {
      "text/plain": [
       "Text(0.5, 0, 'last_time_visit')"
      ]
     },
     "execution_count": 27,
     "metadata": {},
     "output_type": "execute_result"
    },
    {
     "data": {
      "image/png": "[encoded data removed]",
      "text/plain": [
       "<Figure size 432x288 with 1 Axes>"
      ]
     },
     "metadata": {
      "needs_background": "light"
     },
     "output_type": "display_data"
    }
   ],
   "source": [
    "##yorn = yorn.rename(columns = {\"yes_last_time_visit\": \"Visit last time with Insurance\", \"No_last_time_visit\":\"Visit last time without Insurance\"})\n",
    "yorn.plot(kind=\"barh\")\n",
    "plt.title(\"Insurance effected last time visit\")\n",
    "plt.ylabel(\"index\")\n",
    "plt.xlabel(\"last_time_visit\")\n",
    "## the number of people visit insanure is too small, not very good on the graph. "
   ]
  },
  {
   "cell_type": "raw",
   "id": "006bc4a3",
   "metadata": {},
   "source": [
    "put on the percentage that makes sense??? make new column for percentage???"
   ]
  },
  {
   "cell_type": "code",
   "execution_count": null,
   "id": "c792f178",
   "metadata": {},
   "outputs": [],
   "source": []
  },
  {
   "cell_type": "code",
   "execution_count": null,
   "id": "02e32d68",
   "metadata": {},
   "outputs": [],
   "source": []
  },
  {
   "cell_type": "code",
   "execution_count": null,
   "id": "b739ee2b",
   "metadata": {},
   "outputs": [],
   "source": []
  },
  {
   "cell_type": "code",
   "execution_count": null,
   "id": "677668ab",
   "metadata": {},
   "outputs": [],
   "source": []
  },
  {
   "cell_type": "code",
   "execution_count": null,
   "id": "a4906fae",
   "metadata": {},
   "outputs": [],
   "source": []
  }
 ],
 "metadata": {
  "kernelspec": {
   "display_name": "Python 3",
   "language": "python",
   "name": "python3"
  },
  "language_info": {
   "codemirror_mode": {
    "name": "ipython",
    "version": 3
   },
   "file_extension": ".py",
   "mimetype": "text/x-python",
   "name": "python",
   "nbconvert_exporter": "python",
   "pygments_lexer": "ipython3",
   "version": "3.8.8"
  }
 },
 "nbformat": 4,
 "nbformat_minor": 5
}
