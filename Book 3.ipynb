{
 "cells": [
  {
   "cell_type": "code",
   "execution_count": 1,
   "id": "1489cddb",
   "metadata": {},
   "outputs": [],
   "source": [
    "import pandas as pd\n",
    "import matplotlib.pyplot as plt\n",
    "import numpy as np\n",
    "import seaborn as sns\n",
    "import re"
   ]
  },
  {
   "cell_type": "code",
   "execution_count": 2,
   "id": "38d9702c",
   "metadata": {},
   "outputs": [
    {
     "name": "stderr",
     "output_type": "stream",
     "text": [
      "C:\\Users\\6106057\\Anaconda3\\lib\\site-packages\\IPython\\core\\interactiveshell.py:3165: DtypeWarning: Columns (3) have mixed types.Specify dtype option on import or set low_memory=False.\n",
      "  has_raised = await self.run_ast_nodes(code_ast.body, cell_name,\n"
     ]
    }
   ],
   "source": [
    "smile = pd.read_csv('C:/Users/6106057/nss-data-analytics/projects/smile-on-the-dazzling-dentures/Data/smile.csv')"
   ]
  },
  {
   "cell_type": "code",
   "execution_count": 3,
   "id": "183ca3d3",
   "metadata": {
    "scrolled": true
   },
   "outputs": [
    {
     "data": {
      "text/plain": [
       "Index(['Unnamed: 0', 'CallReportNum', 'ReportVersion', 'LinkedToCallReportNum',\n",
       "       'CallDateAndTimeStart', 'CallDateAndTimeEnd', 'CallLength', 'CallerNum',\n",
       "       'PhoneWorkerNum', 'CityName', 'CountyName', 'StateProvince',\n",
       "       'CountryName', 'PostalCode', 'Narrative', 'EnteredByWorkerNum',\n",
       "       'EnteredOn',\n",
       "       'SMILE ON 60+ Demographic Information - # of People in Household',\n",
       "       'Birth Year', 'SMILE ON 60+ Demographic Information - Other Language',\n",
       "       'SMILE ON 60+ Screening - Last Screening Date',\n",
       "       'SMILE ON 60+ Verification of Eligibility - Verification Date',\n",
       "       'SMILE ON 60+ Base-line Oral and Conditions Questions - Dental Clinic',\n",
       "       'SMILE ON 60+ Base-line Oral and Conditions Questions - Did the client commit to referral?',\n",
       "       'SMILE ON 60+ Base-line Oral and Conditions Questions - Do you need help in these other areas?',\n",
       "       'SMILE ON 60+ Base-line Oral and Conditions Questions - Have you ever felt that the appearance of your mouth and teeth affected your quality of life?',\n",
       "       'SMILE ON 60+ Base-line Oral and Conditions Questions - How would you describe the condition of your mouth and teeth?',\n",
       "       'SMILE ON 60+ Case Management Information - Transportation Barriers',\n",
       "       'SMILE ON 60+ Case Management Information - What barriers have kept you from finding a consistent dental home? (Select all that apply)',\n",
       "       'SMILE ON 60+ Demographic Information - Gender',\n",
       "       'SMILE ON 60+ Demographic Information - Household Income Level',\n",
       "       'SMILE ON 60+ Demographic Information - How did you first hear about the SMILE ON 60+ program?',\n",
       "       'SMILE ON 60+ Demographic Information - Preferred Language/Language Needed',\n",
       "       'SMILE ON 60+ Demographic Information - Race/Ethnicity',\n",
       "       'SMILE ON 60+ Demographic Information - What other assistance programs are you on?',\n",
       "       'SMILE ON 60+ Demographic Information - When is the last time you visited your dentist?',\n",
       "       'SMILE ON 60+ Oral Care Encounter - What care was provided to the enrollee? (Select all that apply)',\n",
       "       'SMILE ON 60+ Presumptive Eligibility - Dental Insurance?',\n",
       "       'SMILE ON 60+ Presumptive Eligibility - Do they pre-qualify for SMILE ON 60+?',\n",
       "       'SMILE ON 60+ Screening - Do you have removable dentures?',\n",
       "       'SMILE ON 60+ Screening - Do you usually wear your denture(s) when you eat?',\n",
       "       'SMILE ON 60+ Screening - How often do you brush your teeth?',\n",
       "       'SMILE ON 60+ Screening - Need for Periodontal Care',\n",
       "       'SMILE ON 60+ Screening - Root Fragments',\n",
       "       'SMILE ON 60+ Screening - Suspicious Soft Tissue Lesions',\n",
       "       'SMILE ON 60+ Screening - Treatment Urgency',\n",
       "       'SMILE ON 60+ Screening - Untreated Decay',\n",
       "       'SMILE ON 60+ Site Information - Enroller ID',\n",
       "       'SMILE ON 60+ Site Information - Enroller Location',\n",
       "       'SMILE ON 60+ Treatment Plan - Is the treatment plan completed?',\n",
       "       'SMILE ON 60+ Treatment Plan - Was a treatment plan developed?',\n",
       "       'SMILE ON 60+ Treatment Plan - Was the enrollee able to be restored to function (can chew) and \"social six\" esthetics (top front six teeth are present and disease free)'],\n",
       "      dtype='object')"
      ]
     },
     "execution_count": 3,
     "metadata": {},
     "output_type": "execute_result"
    }
   ],
   "source": [
    "smile.columns"
   ]
  },
  {
   "cell_type": "code",
   "execution_count": 4,
   "id": "aab375cb",
   "metadata": {},
   "outputs": [],
   "source": [
    "smile = smile.rename(columns ={'CallReportNum':'reportID','ReportVersion':'reg_clic',\n",
    "                               'CallDateAndTimeStart':'callStart','CallDateAndTimeEnd':'callEnd',\n",
    "                              'CityName':'city', 'CountyName':'county','CountryName':'country',\n",
    "                              'PostalCode':'zipcode',\n",
    "                               'SMILE ON 60+ Demographic Information - # of People in Household': 'num_household',\n",
    "                               'Birth Year':'birth_year',\n",
    "                               'SMILE ON 60+ Demographic Information - Other Language': 'language',\n",
    "                               'SMILE ON 60+ Verification of Eligibility - Verification Date':'lastscreeningdate',\n",
    "                               'SMILE ON 60+ Base-line Oral and Conditions Questions - Dental Clinic':'dental_clinic',\n",
    "                               'SMILE ON 60+ Base-line Oral and Conditions Questions - Did the client commit to referral?':'referral',\n",
    "                               'SMILE ON 60+ Base-line Oral and Conditions Questions - Have you ever felt that the appearance of your mouth and teeth affected your quality of life?' : 'mouth_teeth_quality',\n",
    "                               'SMILE ON 60+ Demographic Information - Gender':'gender',\n",
    "                               'SMILE ON 60+ Demographic Information - Race/Ethnicity': 'race',\n",
    "                               'SMILE ON 60+ Demographic Information - Household Income Level':'income_level',\n",
    "                               'SMILE ON 60+ Demographic Information - When is the last time you visited your dentist?':'last_time_visit',\n",
    "                               'SMILE ON 60+ Presumptive Eligibility - Dental Insurance?':'with_insurance',\n",
    "                               'SMILE ON 60+ Screening - How often do you brush your teeth?': 'brush_teeth',\n",
    "                               'SMILE ON 60+ Screening - Need for Periodontal Care':'future_care'})"
   ]
  },
  {
   "cell_type": "code",
   "execution_count": 5,
   "id": "d6493c41",
   "metadata": {
    "scrolled": true
   },
   "outputs": [
    {
     "data": {
      "text/html": [
       "<div>\n",
       "<style scoped>\n",
       "    .dataframe tbody tr th:only-of-type {\n",
       "        vertical-align: middle;\n",
       "    }\n",
       "\n",
       "    .dataframe tbody tr th {\n",
       "        vertical-align: top;\n",
       "    }\n",
       "\n",
       "    .dataframe thead th {\n",
       "        text-align: right;\n",
       "    }\n",
       "</style>\n",
       "<table border=\"1\" class=\"dataframe\">\n",
       "  <thead>\n",
       "    <tr style=\"text-align: right;\">\n",
       "      <th></th>\n",
       "      <th>Unnamed: 0</th>\n",
       "      <th>reportID</th>\n",
       "      <th>reg_clic</th>\n",
       "      <th>LinkedToCallReportNum</th>\n",
       "      <th>callStart</th>\n",
       "      <th>callEnd</th>\n",
       "      <th>CallLength</th>\n",
       "      <th>CallerNum</th>\n",
       "      <th>PhoneWorkerNum</th>\n",
       "      <th>city</th>\n",
       "      <th>...</th>\n",
       "      <th>future_care</th>\n",
       "      <th>SMILE ON 60+ Screening - Root Fragments</th>\n",
       "      <th>SMILE ON 60+ Screening - Suspicious Soft Tissue Lesions</th>\n",
       "      <th>SMILE ON 60+ Screening - Treatment Urgency</th>\n",
       "      <th>SMILE ON 60+ Screening - Untreated Decay</th>\n",
       "      <th>SMILE ON 60+ Site Information - Enroller ID</th>\n",
       "      <th>SMILE ON 60+ Site Information - Enroller Location</th>\n",
       "      <th>SMILE ON 60+ Treatment Plan - Is the treatment plan completed?</th>\n",
       "      <th>SMILE ON 60+ Treatment Plan - Was a treatment plan developed?</th>\n",
       "      <th>SMILE ON 60+ Treatment Plan - Was the enrollee able to be restored to function (can chew) and \"social six\" esthetics (top front six teeth are present and disease free)</th>\n",
       "    </tr>\n",
       "  </thead>\n",
       "  <tbody>\n",
       "    <tr>\n",
       "      <th>0</th>\n",
       "      <td>0</td>\n",
       "      <td>93115324</td>\n",
       "      <td>SMILE ON 60+ Registration</td>\n",
       "      <td>NaN</td>\n",
       "      <td>9/30/2021 16:56</td>\n",
       "      <td>9/30/2021 16:57</td>\n",
       "      <td>1</td>\n",
       "      <td>3638169</td>\n",
       "      <td>123747</td>\n",
       "      <td>Smyrna</td>\n",
       "      <td>...</td>\n",
       "      <td>NaN</td>\n",
       "      <td>NaN</td>\n",
       "      <td>NaN</td>\n",
       "      <td>NaN</td>\n",
       "      <td>NaN</td>\n",
       "      <td>NaN</td>\n",
       "      <td>NaN</td>\n",
       "      <td>NaN</td>\n",
       "      <td>NaN</td>\n",
       "      <td>NaN</td>\n",
       "    </tr>\n",
       "    <tr>\n",
       "      <th>1</th>\n",
       "      <td>1</td>\n",
       "      <td>93115188</td>\n",
       "      <td>SMILE ON 60+ Registration</td>\n",
       "      <td>NaN</td>\n",
       "      <td>9/30/2021 16:53</td>\n",
       "      <td>9/30/2021 16:53</td>\n",
       "      <td>0</td>\n",
       "      <td>4431194</td>\n",
       "      <td>123747</td>\n",
       "      <td>Nashville</td>\n",
       "      <td>...</td>\n",
       "      <td>NaN</td>\n",
       "      <td>NaN</td>\n",
       "      <td>NaN</td>\n",
       "      <td>NaN</td>\n",
       "      <td>NaN</td>\n",
       "      <td>NaN</td>\n",
       "      <td>Referral Follow-Up</td>\n",
       "      <td>NaN</td>\n",
       "      <td>NaN</td>\n",
       "      <td>NaN</td>\n",
       "    </tr>\n",
       "    <tr>\n",
       "      <th>2</th>\n",
       "      <td>2</td>\n",
       "      <td>93115081</td>\n",
       "      <td>SMILE ON 60+ Clinical</td>\n",
       "      <td>NaN</td>\n",
       "      <td>9/30/2021 16:50</td>\n",
       "      <td>9/30/2021 16:51</td>\n",
       "      <td>1</td>\n",
       "      <td>2941341</td>\n",
       "      <td>161979</td>\n",
       "      <td>Memphis</td>\n",
       "      <td>...</td>\n",
       "      <td>NaN</td>\n",
       "      <td>NaN</td>\n",
       "      <td>NaN</td>\n",
       "      <td>NaN</td>\n",
       "      <td>NaN</td>\n",
       "      <td>Christ Community Health Services- Broad Avenue</td>\n",
       "      <td>Provider Site</td>\n",
       "      <td>No</td>\n",
       "      <td>Yes</td>\n",
       "      <td>No</td>\n",
       "    </tr>\n",
       "    <tr>\n",
       "      <th>3</th>\n",
       "      <td>3</td>\n",
       "      <td>93115032</td>\n",
       "      <td>SMILE ON 60+ Clinical</td>\n",
       "      <td>NaN</td>\n",
       "      <td>9/30/2021 16:48</td>\n",
       "      <td>9/30/2021 16:49</td>\n",
       "      <td>1</td>\n",
       "      <td>3823933</td>\n",
       "      <td>161979</td>\n",
       "      <td>Memphis</td>\n",
       "      <td>...</td>\n",
       "      <td>NaN</td>\n",
       "      <td>NaN</td>\n",
       "      <td>NaN</td>\n",
       "      <td>NaN</td>\n",
       "      <td>NaN</td>\n",
       "      <td>Christ Community Health Services- Broad Avenue</td>\n",
       "      <td>Provider Site</td>\n",
       "      <td>No</td>\n",
       "      <td>Yes</td>\n",
       "      <td>No</td>\n",
       "    </tr>\n",
       "    <tr>\n",
       "      <th>4</th>\n",
       "      <td>4</td>\n",
       "      <td>93114968</td>\n",
       "      <td>SMILE ON 60+ Clinical</td>\n",
       "      <td>NaN</td>\n",
       "      <td>9/30/2021 16:46</td>\n",
       "      <td>9/30/2021 16:48</td>\n",
       "      <td>2</td>\n",
       "      <td>3348256</td>\n",
       "      <td>161979</td>\n",
       "      <td>Memphis</td>\n",
       "      <td>...</td>\n",
       "      <td>NaN</td>\n",
       "      <td>NaN</td>\n",
       "      <td>NaN</td>\n",
       "      <td>NaN</td>\n",
       "      <td>NaN</td>\n",
       "      <td>Christ Community Health Services- Broad Avenue</td>\n",
       "      <td>Provider Site</td>\n",
       "      <td>No</td>\n",
       "      <td>Yes</td>\n",
       "      <td>No</td>\n",
       "    </tr>\n",
       "  </tbody>\n",
       "</table>\n",
       "<p>5 rows × 52 columns</p>\n",
       "</div>"
      ],
      "text/plain": [
       "   Unnamed: 0  reportID                   reg_clic LinkedToCallReportNum  \\\n",
       "0           0  93115324  SMILE ON 60+ Registration                   NaN   \n",
       "1           1  93115188  SMILE ON 60+ Registration                   NaN   \n",
       "2           2  93115081      SMILE ON 60+ Clinical                   NaN   \n",
       "3           3  93115032      SMILE ON 60+ Clinical                   NaN   \n",
       "4           4  93114968      SMILE ON 60+ Clinical                   NaN   \n",
       "\n",
       "         callStart          callEnd  CallLength  CallerNum  PhoneWorkerNum  \\\n",
       "0  9/30/2021 16:56  9/30/2021 16:57           1    3638169          123747   \n",
       "1  9/30/2021 16:53  9/30/2021 16:53           0    4431194          123747   \n",
       "2  9/30/2021 16:50  9/30/2021 16:51           1    2941341          161979   \n",
       "3  9/30/2021 16:48  9/30/2021 16:49           1    3823933          161979   \n",
       "4  9/30/2021 16:46  9/30/2021 16:48           2    3348256          161979   \n",
       "\n",
       "        city  ... future_care SMILE ON 60+ Screening - Root Fragments  \\\n",
       "0     Smyrna  ...         NaN                                     NaN   \n",
       "1  Nashville  ...         NaN                                     NaN   \n",
       "2    Memphis  ...         NaN                                     NaN   \n",
       "3    Memphis  ...         NaN                                     NaN   \n",
       "4    Memphis  ...         NaN                                     NaN   \n",
       "\n",
       "  SMILE ON 60+ Screening - Suspicious Soft Tissue Lesions  \\\n",
       "0                                                NaN        \n",
       "1                                                NaN        \n",
       "2                                                NaN        \n",
       "3                                                NaN        \n",
       "4                                                NaN        \n",
       "\n",
       "   SMILE ON 60+ Screening - Treatment Urgency  \\\n",
       "0                                         NaN   \n",
       "1                                         NaN   \n",
       "2                                         NaN   \n",
       "3                                         NaN   \n",
       "4                                         NaN   \n",
       "\n",
       "  SMILE ON 60+ Screening - Untreated Decay  \\\n",
       "0                                      NaN   \n",
       "1                                      NaN   \n",
       "2                                      NaN   \n",
       "3                                      NaN   \n",
       "4                                      NaN   \n",
       "\n",
       "      SMILE ON 60+ Site Information - Enroller ID  \\\n",
       "0                                             NaN   \n",
       "1                                             NaN   \n",
       "2  Christ Community Health Services- Broad Avenue   \n",
       "3  Christ Community Health Services- Broad Avenue   \n",
       "4  Christ Community Health Services- Broad Avenue   \n",
       "\n",
       "  SMILE ON 60+ Site Information - Enroller Location  \\\n",
       "0                                               NaN   \n",
       "1                                Referral Follow-Up   \n",
       "2                                     Provider Site   \n",
       "3                                     Provider Site   \n",
       "4                                     Provider Site   \n",
       "\n",
       "   SMILE ON 60+ Treatment Plan - Is the treatment plan completed?  \\\n",
       "0                                                NaN                \n",
       "1                                                NaN                \n",
       "2                                                 No                \n",
       "3                                                 No                \n",
       "4                                                 No                \n",
       "\n",
       "   SMILE ON 60+ Treatment Plan - Was a treatment plan developed?  \\\n",
       "0                                                NaN               \n",
       "1                                                NaN               \n",
       "2                                                Yes               \n",
       "3                                                Yes               \n",
       "4                                                Yes               \n",
       "\n",
       "  SMILE ON 60+ Treatment Plan - Was the enrollee able to be restored to function (can chew) and \"social six\" esthetics (top front six teeth are present and disease free)  \n",
       "0                                                NaN                                                                                                                       \n",
       "1                                                NaN                                                                                                                       \n",
       "2                                                 No                                                                                                                       \n",
       "3                                                 No                                                                                                                       \n",
       "4                                                 No                                                                                                                       \n",
       "\n",
       "[5 rows x 52 columns]"
      ]
     },
     "execution_count": 5,
     "metadata": {},
     "output_type": "execute_result"
    }
   ],
   "source": [
    "smile.head()"
   ]
  },
  {
   "cell_type": "markdown",
   "id": "c7458973",
   "metadata": {},
   "source": [
    "## Geo - gender, birth year and race"
   ]
  },
  {
   "cell_type": "code",
   "execution_count": 6,
   "id": "c3c1e63c",
   "metadata": {
    "scrolled": false
   },
   "outputs": [
    {
     "data": {
      "text/html": [
       "<div>\n",
       "<style scoped>\n",
       "    .dataframe tbody tr th:only-of-type {\n",
       "        vertical-align: middle;\n",
       "    }\n",
       "\n",
       "    .dataframe tbody tr th {\n",
       "        vertical-align: top;\n",
       "    }\n",
       "\n",
       "    .dataframe thead th {\n",
       "        text-align: right;\n",
       "    }\n",
       "</style>\n",
       "<table border=\"1\" class=\"dataframe\">\n",
       "  <thead>\n",
       "    <tr style=\"text-align: right;\">\n",
       "      <th></th>\n",
       "      <th>birth_year</th>\n",
       "      <th>gender</th>\n",
       "      <th>race</th>\n",
       "    </tr>\n",
       "  </thead>\n",
       "  <tbody>\n",
       "    <tr>\n",
       "      <th>0</th>\n",
       "      <td>1960.0</td>\n",
       "      <td>Female</td>\n",
       "      <td>African American</td>\n",
       "    </tr>\n",
       "    <tr>\n",
       "      <th>1</th>\n",
       "      <td>1959.0</td>\n",
       "      <td>Female</td>\n",
       "      <td>Caucasian</td>\n",
       "    </tr>\n",
       "    <tr>\n",
       "      <th>2</th>\n",
       "      <td>1942.0</td>\n",
       "      <td>Male</td>\n",
       "      <td>Asian</td>\n",
       "    </tr>\n",
       "    <tr>\n",
       "      <th>3</th>\n",
       "      <td>1960.0</td>\n",
       "      <td>Male</td>\n",
       "      <td>African American</td>\n",
       "    </tr>\n",
       "    <tr>\n",
       "      <th>4</th>\n",
       "      <td>1955.0</td>\n",
       "      <td>Female</td>\n",
       "      <td>African American</td>\n",
       "    </tr>\n",
       "  </tbody>\n",
       "</table>\n",
       "</div>"
      ],
      "text/plain": [
       "   birth_year  gender              race\n",
       "0      1960.0  Female  African American\n",
       "1      1959.0  Female         Caucasian\n",
       "2      1942.0    Male             Asian\n",
       "3      1960.0    Male  African American\n",
       "4      1955.0  Female  African American"
      ]
     },
     "execution_count": 6,
     "metadata": {},
     "output_type": "execute_result"
    }
   ],
   "source": [
    "smile_geo = smile[smile.columns[smile.columns.isin(['gender','birth_year','race'])]]\n",
    "smile_geo.head()"
   ]
  },
  {
   "cell_type": "code",
   "execution_count": 7,
   "id": "24d1a77b",
   "metadata": {
    "scrolled": true
   },
   "outputs": [
    {
     "data": {
      "text/plain": [
       "Caucasian                            32248\n",
       "African American                     14670\n",
       "Hispanic                              2657\n",
       "Asian                                  836\n",
       "Unknown                                833\n",
       "American Indian and Alaska Native      170\n",
       "Multi-racial                           147\n",
       "Pacific Islander                        37\n",
       "Name: race, dtype: int64"
      ]
     },
     "execution_count": 7,
     "metadata": {},
     "output_type": "execute_result"
    }
   ],
   "source": [
    "smile_geo.race.value_counts()"
   ]
  },
  {
   "cell_type": "code",
   "execution_count": 8,
   "id": "aa940176",
   "metadata": {
    "scrolled": true
   },
   "outputs": [
    {
     "data": {
      "text/plain": [
       "<bound method IndexOpsMixin.value_counts of 0        Female\n",
       "1        Female\n",
       "2          Male\n",
       "3          Male\n",
       "4        Female\n",
       "          ...  \n",
       "57855    Female\n",
       "57856    Female\n",
       "57857       NaN\n",
       "57858      Male\n",
       "57859    Female\n",
       "Name: gender, Length: 57860, dtype: object>"
      ]
     },
     "execution_count": 8,
     "metadata": {},
     "output_type": "execute_result"
    }
   ],
   "source": [
    "smile_geo.gender.value_counts"
   ]
  },
  {
   "cell_type": "markdown",
   "id": "6b12ba8c",
   "metadata": {},
   "source": [
    "# put all the people 60+ "
   ]
  },
  {
   "cell_type": "code",
   "execution_count": 9,
   "id": "d69cd084",
   "metadata": {
    "scrolled": true
   },
   "outputs": [
    {
     "data": {
      "text/plain": [
       "(57791, 3)"
      ]
     },
     "execution_count": 9,
     "metadata": {},
     "output_type": "execute_result"
    }
   ],
   "source": [
    "over_60 = smile_geo[smile_geo['birth_year'] <= 1961.0]\n",
    "over_60.shape"
   ]
  },
  {
   "cell_type": "code",
   "execution_count": 10,
   "id": "a37e227d",
   "metadata": {
    "scrolled": false
   },
   "outputs": [
    {
     "data": {
      "text/plain": [
       "Index(['gender', 'race', 0], dtype='object')"
      ]
     },
     "execution_count": 10,
     "metadata": {},
     "output_type": "execute_result"
    }
   ],
   "source": [
    "gender_race = over_60.groupby(['gender','race']).size().reset_index()\n",
    "gender_race.columns"
   ]
  },
  {
   "cell_type": "code",
   "execution_count": 11,
   "id": "9507ddfc",
   "metadata": {},
   "outputs": [
    {
     "data": {
      "text/html": [
       "<div>\n",
       "<style scoped>\n",
       "    .dataframe tbody tr th:only-of-type {\n",
       "        vertical-align: middle;\n",
       "    }\n",
       "\n",
       "    .dataframe tbody tr th {\n",
       "        vertical-align: top;\n",
       "    }\n",
       "\n",
       "    .dataframe thead th {\n",
       "        text-align: right;\n",
       "    }\n",
       "</style>\n",
       "<table border=\"1\" class=\"dataframe\">\n",
       "  <thead>\n",
       "    <tr style=\"text-align: right;\">\n",
       "      <th></th>\n",
       "      <th>gender</th>\n",
       "      <th>race</th>\n",
       "      <th>0</th>\n",
       "    </tr>\n",
       "  </thead>\n",
       "  <tbody>\n",
       "    <tr>\n",
       "      <th>0</th>\n",
       "      <td>Female</td>\n",
       "      <td>African American</td>\n",
       "      <td>9533</td>\n",
       "    </tr>\n",
       "    <tr>\n",
       "      <th>1</th>\n",
       "      <td>Female</td>\n",
       "      <td>American Indian and Alaska Native</td>\n",
       "      <td>105</td>\n",
       "    </tr>\n",
       "    <tr>\n",
       "      <th>2</th>\n",
       "      <td>Female</td>\n",
       "      <td>Asian</td>\n",
       "      <td>507</td>\n",
       "    </tr>\n",
       "    <tr>\n",
       "      <th>3</th>\n",
       "      <td>Female</td>\n",
       "      <td>Caucasian</td>\n",
       "      <td>19967</td>\n",
       "    </tr>\n",
       "    <tr>\n",
       "      <th>4</th>\n",
       "      <td>Female</td>\n",
       "      <td>Hispanic</td>\n",
       "      <td>1518</td>\n",
       "    </tr>\n",
       "    <tr>\n",
       "      <th>5</th>\n",
       "      <td>Female</td>\n",
       "      <td>Multi-racial</td>\n",
       "      <td>87</td>\n",
       "    </tr>\n",
       "    <tr>\n",
       "      <th>6</th>\n",
       "      <td>Female</td>\n",
       "      <td>Pacific Islander</td>\n",
       "      <td>22</td>\n",
       "    </tr>\n",
       "    <tr>\n",
       "      <th>7</th>\n",
       "      <td>Female</td>\n",
       "      <td>Unknown</td>\n",
       "      <td>403</td>\n",
       "    </tr>\n",
       "    <tr>\n",
       "      <th>8</th>\n",
       "      <td>Male</td>\n",
       "      <td>African American</td>\n",
       "      <td>5041</td>\n",
       "    </tr>\n",
       "    <tr>\n",
       "      <th>9</th>\n",
       "      <td>Male</td>\n",
       "      <td>American Indian and Alaska Native</td>\n",
       "      <td>61</td>\n",
       "    </tr>\n",
       "    <tr>\n",
       "      <th>10</th>\n",
       "      <td>Male</td>\n",
       "      <td>Asian</td>\n",
       "      <td>321</td>\n",
       "    </tr>\n",
       "    <tr>\n",
       "      <th>11</th>\n",
       "      <td>Male</td>\n",
       "      <td>Caucasian</td>\n",
       "      <td>12164</td>\n",
       "    </tr>\n",
       "    <tr>\n",
       "      <th>12</th>\n",
       "      <td>Male</td>\n",
       "      <td>Hispanic</td>\n",
       "      <td>1138</td>\n",
       "    </tr>\n",
       "    <tr>\n",
       "      <th>13</th>\n",
       "      <td>Male</td>\n",
       "      <td>Multi-racial</td>\n",
       "      <td>60</td>\n",
       "    </tr>\n",
       "    <tr>\n",
       "      <th>14</th>\n",
       "      <td>Male</td>\n",
       "      <td>Pacific Islander</td>\n",
       "      <td>15</td>\n",
       "    </tr>\n",
       "    <tr>\n",
       "      <th>15</th>\n",
       "      <td>Male</td>\n",
       "      <td>Unknown</td>\n",
       "      <td>405</td>\n",
       "    </tr>\n",
       "    <tr>\n",
       "      <th>16</th>\n",
       "      <td>Other</td>\n",
       "      <td>Unknown</td>\n",
       "      <td>1</td>\n",
       "    </tr>\n",
       "    <tr>\n",
       "      <th>17</th>\n",
       "      <td>Transgender</td>\n",
       "      <td>Caucasian</td>\n",
       "      <td>21</td>\n",
       "    </tr>\n",
       "  </tbody>\n",
       "</table>\n",
       "</div>"
      ],
      "text/plain": [
       "         gender                               race      0\n",
       "0        Female                   African American   9533\n",
       "1        Female  American Indian and Alaska Native    105\n",
       "2        Female                              Asian    507\n",
       "3        Female                          Caucasian  19967\n",
       "4        Female                           Hispanic   1518\n",
       "5        Female                       Multi-racial     87\n",
       "6        Female                   Pacific Islander     22\n",
       "7        Female                            Unknown    403\n",
       "8          Male                   African American   5041\n",
       "9          Male  American Indian and Alaska Native     61\n",
       "10         Male                              Asian    321\n",
       "11         Male                          Caucasian  12164\n",
       "12         Male                           Hispanic   1138\n",
       "13         Male                       Multi-racial     60\n",
       "14         Male                   Pacific Islander     15\n",
       "15         Male                            Unknown    405\n",
       "16        Other                            Unknown      1\n",
       "17  Transgender                          Caucasian     21"
      ]
     },
     "execution_count": 11,
     "metadata": {},
     "output_type": "execute_result"
    }
   ],
   "source": [
    "gender_race"
   ]
  },
  {
   "cell_type": "code",
   "execution_count": 12,
   "id": "0fc1f503",
   "metadata": {
    "scrolled": false
   },
   "outputs": [
    {
     "data": {
      "text/plain": [
       "<AxesSubplot:xlabel='race'>"
      ]
     },
     "execution_count": 12,
     "metadata": {},
     "output_type": "execute_result"
    },
    {
     "data": {
      "image/png": "[encoded data removed]",
      "text/plain": [
       "<Figure size 432x288 with 1 Axes>"
      ]
     },
     "metadata": {
      "needs_background": "light"
     },
     "output_type": "display_data"
    }
   ],
   "source": [
    "gender_race[[\"gender\", \"race\", 0]].plot(x=\"race\", kind=\"bar\")"
   ]
  },
  {
   "cell_type": "code",
   "execution_count": 41,
   "id": "7a5324d2",
   "metadata": {},
   "outputs": [
    {
     "data": {
      "image/png": "[encoded data removed]",
      "text/plain": [
       "<Figure size 864x720 with 1 Axes>"
      ]
     },
     "metadata": {
      "needs_background": "light"
     },
     "output_type": "display_data"
    }
   ],
   "source": [
    "fig, ax = plt.subplots(figsize=(12, 10))\n",
    "ax = sns.barplot(x=\"race\", y=0, hue=\"gender\", data=gender_race)\n"
   ]
  },
  {
   "cell_type": "code",
   "execution_count": 14,
   "id": "ab4e6a5a",
   "metadata": {},
   "outputs": [
    {
     "data": {
      "text/plain": [
       "gender       birth_year\n",
       "Female       1900.0          85\n",
       "             1918.0           2\n",
       "             1919.0           4\n",
       "             1920.0           1\n",
       "             1921.0          12\n",
       "                           ... \n",
       "Male         1959.0        1543\n",
       "             1960.0         835\n",
       "             1961.0         145\n",
       "Other        1943.0           1\n",
       "Transgender  1946.0          21\n",
       "Length: 88, dtype: int64"
      ]
     },
     "execution_count": 14,
     "metadata": {},
     "output_type": "execute_result"
    }
   ],
   "source": [
    "over_60.groupby(['gender','birth_year']).size() \n",
    "## some of years are very wired"
   ]
  },
  {
   "cell_type": "code",
   "execution_count": 15,
   "id": "7e894881",
   "metadata": {},
   "outputs": [],
   "source": [
    "## the percentage of 60+ popluar in the whole dataset \n",
    "\n"
   ]
  },
  {
   "cell_type": "code",
   "execution_count": 16,
   "id": "eb4c25cc",
   "metadata": {},
   "outputs": [],
   "source": [
    "gr_m = gender_race[gender_race['gender'] == 'Male']\n",
    "gr_f = gender_race[gender_race['gender'] == 'Female']"
   ]
  },
  {
   "cell_type": "markdown",
   "id": "5dacd084",
   "metadata": {},
   "source": [
    "# look the income with insurance and last time get checked"
   ]
  },
  {
   "cell_type": "code",
   "execution_count": 17,
   "id": "99f04f62",
   "metadata": {
    "scrolled": true
   },
   "outputs": [
    {
     "data": {
      "text/plain": [
       "$0-$21280        42590\n",
       "$21246-$24280     7332\n",
       "$24281-$27315     2323\n",
       "$28806-$32920     2016\n",
       "$32921-$37035      645\n",
       "$36366-$41560      236\n",
       "$41561-$46755      206\n",
       "$43926-$50200       58\n",
       "$50201-$56475       55\n",
       "$51486-$58840       26\n",
       "$58841-$66195       22\n",
       "$59046-$67480       18\n",
       "$76121-$85635        8\n",
       "$84761-$95355        4\n",
       "$66606-$76120        4\n",
       "$67481-$75915        3\n",
       "$74166-$84760        2\n",
       "Name: income_level, dtype: int64"
      ]
     },
     "execution_count": 17,
     "metadata": {},
     "output_type": "execute_result"
    }
   ],
   "source": [
    "smile['income_level'] = smile['income_level'].str.replace(\" \", \"\") \n",
    "## replace the black space in the \"21 280\"\n",
    "smile['income_level'].value_counts()\n",
    "## there is blank space on the 21280 income level. "
   ]
  },
  {
   "cell_type": "code",
   "execution_count": 18,
   "id": "a919545f",
   "metadata": {},
   "outputs": [
    {
     "data": {
      "text/plain": [
       "0    $0-$21280\n",
       "1    $0-$21280\n",
       "2    $0-$21280\n",
       "3    $0-$21280\n",
       "4    $0-$21280\n",
       "Name: income_level, dtype: object"
      ]
     },
     "execution_count": 18,
     "metadata": {},
     "output_type": "execute_result"
    }
   ],
   "source": [
    "smile.income_level.head()"
   ]
  },
  {
   "cell_type": "code",
   "execution_count": 19,
   "id": "3cfd07d2",
   "metadata": {},
   "outputs": [
    {
     "data": {
      "text/plain": [
       "No     53131\n",
       "Yes     1190\n",
       "Name: with_insurance, dtype: int64"
      ]
     },
     "execution_count": 19,
     "metadata": {},
     "output_type": "execute_result"
    }
   ],
   "source": [
    "smile.with_insurance.value_counts()"
   ]
  },
  {
   "cell_type": "code",
   "execution_count": 20,
   "id": "7c815095",
   "metadata": {
    "scrolled": false
   },
   "outputs": [
    {
     "data": {
      "text/plain": [
       "$0-$21280        40096\n",
       "$21246-$24280     6570\n",
       "$24281-$27315     2033\n",
       "$28806-$32920     1705\n",
       "$32921-$37035      566\n",
       "$36366-$41560      189\n",
       "$41561-$46755      158\n",
       "$43926-$50200       50\n",
       "$50201-$56475       41\n",
       "$51486-$58840       22\n",
       "$58841-$66195       18\n",
       "$59046-$67480       15\n",
       "$76121-$85635        7\n",
       "$66606-$76120        4\n",
       "$84761-$95355        3\n",
       "$67481-$75915        2\n",
       "$74166-$84760        2\n",
       "Name: income_level, dtype: int64"
      ]
     },
     "execution_count": 20,
     "metadata": {},
     "output_type": "execute_result"
    }
   ],
   "source": [
    "## low income level in the no insurance\n",
    "no_insurance = smile[smile[\"with_insurance\"] == 'No']\n",
    "no_insurance.income_level.value_counts()"
   ]
  },
  {
   "cell_type": "code",
   "execution_count": 21,
   "id": "22c82522",
   "metadata": {
    "scrolled": true
   },
   "outputs": [
    {
     "data": {
      "text/plain": [
       "Less than 12 months    21354\n",
       "More than 5 years      12260\n",
       "1 to 2 years            9759\n",
       "3 to 5 years            6779\n",
       "Name: last_time_visit, dtype: int64"
      ]
     },
     "execution_count": 21,
     "metadata": {},
     "output_type": "execute_result"
    }
   ],
   "source": [
    "no_insurance.last_time_visit.value_counts()"
   ]
  },
  {
   "cell_type": "markdown",
   "id": "c87fb4e5",
   "metadata": {},
   "source": [
    "# The relationship between Income levelwith Insurance. "
   ]
  },
  {
   "cell_type": "code",
   "execution_count": 29,
   "id": "1e98449a",
   "metadata": {
    "scrolled": false
   },
   "outputs": [
    {
     "data": {
      "text/plain": [
       "$0-$21280        655\n",
       "$21246-$24280    194\n",
       "$24281-$27315     78\n",
       "$28806-$32920     56\n",
       "$32921-$37035     21\n",
       "$36366-$41560     21\n",
       "$41561-$46755     20\n",
       "$43926-$50200      4\n",
       "$59046-$67480      2\n",
       "$58841-$66195      2\n",
       "$51486-$58840      1\n",
       "$67481-$75915      1\n",
       "$84761-$95355      1\n",
       "$76121-$85635      1\n",
       "Name: income_level, dtype: int64"
      ]
     },
     "execution_count": 29,
     "metadata": {},
     "output_type": "execute_result"
    }
   ],
   "source": [
    "yes_insurance = smile[smile[\"with_insurance\"] == 'Yes']\n",
    "yes_insurance.income_level.value_counts()"
   ]
  },
  {
   "cell_type": "code",
   "execution_count": 30,
   "id": "91460f35",
   "metadata": {},
   "outputs": [
    {
     "data": {
      "text/plain": [
       "Less than 12 months    510\n",
       "More than 5 years      223\n",
       "1 to 2 years           187\n",
       "3 to 5 years           145\n",
       "Name: last_time_visit, dtype: int64"
      ]
     },
     "execution_count": 30,
     "metadata": {},
     "output_type": "execute_result"
    }
   ],
   "source": [
    "yes_insurance.last_time_visit.value_counts()"
   ]
  },
  {
   "cell_type": "markdown",
   "id": "2fa3daec",
   "metadata": {},
   "source": [
    "# Going to look the lowest income level with/without insurance\n",
    "$0-$21280 "
   ]
  },
  {
   "cell_type": "code",
   "execution_count": 39,
   "id": "94009ecd",
   "metadata": {
    "scrolled": false
   },
   "outputs": [
    {
     "data": {
      "text/html": [
       "<div>\n",
       "<style scoped>\n",
       "    .dataframe tbody tr th:only-of-type {\n",
       "        vertical-align: middle;\n",
       "    }\n",
       "\n",
       "    .dataframe tbody tr th {\n",
       "        vertical-align: top;\n",
       "    }\n",
       "\n",
       "    .dataframe thead th {\n",
       "        text-align: right;\n",
       "    }\n",
       "</style>\n",
       "<table border=\"1\" class=\"dataframe\">\n",
       "  <thead>\n",
       "    <tr style=\"text-align: right;\">\n",
       "      <th></th>\n",
       "      <th>Unnamed: 0</th>\n",
       "      <th>reportID</th>\n",
       "      <th>reg_clic</th>\n",
       "      <th>LinkedToCallReportNum</th>\n",
       "      <th>callStart</th>\n",
       "      <th>callEnd</th>\n",
       "      <th>CallLength</th>\n",
       "      <th>CallerNum</th>\n",
       "      <th>PhoneWorkerNum</th>\n",
       "      <th>city</th>\n",
       "      <th>...</th>\n",
       "      <th>future_care</th>\n",
       "      <th>SMILE ON 60+ Screening - Root Fragments</th>\n",
       "      <th>SMILE ON 60+ Screening - Suspicious Soft Tissue Lesions</th>\n",
       "      <th>SMILE ON 60+ Screening - Treatment Urgency</th>\n",
       "      <th>SMILE ON 60+ Screening - Untreated Decay</th>\n",
       "      <th>SMILE ON 60+ Site Information - Enroller ID</th>\n",
       "      <th>SMILE ON 60+ Site Information - Enroller Location</th>\n",
       "      <th>SMILE ON 60+ Treatment Plan - Is the treatment plan completed?</th>\n",
       "      <th>SMILE ON 60+ Treatment Plan - Was a treatment plan developed?</th>\n",
       "      <th>SMILE ON 60+ Treatment Plan - Was the enrollee able to be restored to function (can chew) and \"social six\" esthetics (top front six teeth are present and disease free)</th>\n",
       "    </tr>\n",
       "  </thead>\n",
       "  <tbody>\n",
       "    <tr>\n",
       "      <th>0</th>\n",
       "      <td>0</td>\n",
       "      <td>93115324</td>\n",
       "      <td>SMILE ON 60+ Registration</td>\n",
       "      <td>NaN</td>\n",
       "      <td>9/30/2021 16:56</td>\n",
       "      <td>9/30/2021 16:57</td>\n",
       "      <td>1</td>\n",
       "      <td>3638169</td>\n",
       "      <td>123747</td>\n",
       "      <td>Smyrna</td>\n",
       "      <td>...</td>\n",
       "      <td>NaN</td>\n",
       "      <td>NaN</td>\n",
       "      <td>NaN</td>\n",
       "      <td>NaN</td>\n",
       "      <td>NaN</td>\n",
       "      <td>NaN</td>\n",
       "      <td>NaN</td>\n",
       "      <td>NaN</td>\n",
       "      <td>NaN</td>\n",
       "      <td>NaN</td>\n",
       "    </tr>\n",
       "    <tr>\n",
       "      <th>1</th>\n",
       "      <td>1</td>\n",
       "      <td>93115188</td>\n",
       "      <td>SMILE ON 60+ Registration</td>\n",
       "      <td>NaN</td>\n",
       "      <td>9/30/2021 16:53</td>\n",
       "      <td>9/30/2021 16:53</td>\n",
       "      <td>0</td>\n",
       "      <td>4431194</td>\n",
       "      <td>123747</td>\n",
       "      <td>Nashville</td>\n",
       "      <td>...</td>\n",
       "      <td>NaN</td>\n",
       "      <td>NaN</td>\n",
       "      <td>NaN</td>\n",
       "      <td>NaN</td>\n",
       "      <td>NaN</td>\n",
       "      <td>NaN</td>\n",
       "      <td>Referral Follow-Up</td>\n",
       "      <td>NaN</td>\n",
       "      <td>NaN</td>\n",
       "      <td>NaN</td>\n",
       "    </tr>\n",
       "    <tr>\n",
       "      <th>2</th>\n",
       "      <td>2</td>\n",
       "      <td>93115081</td>\n",
       "      <td>SMILE ON 60+ Clinical</td>\n",
       "      <td>NaN</td>\n",
       "      <td>9/30/2021 16:50</td>\n",
       "      <td>9/30/2021 16:51</td>\n",
       "      <td>1</td>\n",
       "      <td>2941341</td>\n",
       "      <td>161979</td>\n",
       "      <td>Memphis</td>\n",
       "      <td>...</td>\n",
       "      <td>NaN</td>\n",
       "      <td>NaN</td>\n",
       "      <td>NaN</td>\n",
       "      <td>NaN</td>\n",
       "      <td>NaN</td>\n",
       "      <td>Christ Community Health Services- Broad Avenue</td>\n",
       "      <td>Provider Site</td>\n",
       "      <td>No</td>\n",
       "      <td>Yes</td>\n",
       "      <td>No</td>\n",
       "    </tr>\n",
       "    <tr>\n",
       "      <th>3</th>\n",
       "      <td>3</td>\n",
       "      <td>93115032</td>\n",
       "      <td>SMILE ON 60+ Clinical</td>\n",
       "      <td>NaN</td>\n",
       "      <td>9/30/2021 16:48</td>\n",
       "      <td>9/30/2021 16:49</td>\n",
       "      <td>1</td>\n",
       "      <td>3823933</td>\n",
       "      <td>161979</td>\n",
       "      <td>Memphis</td>\n",
       "      <td>...</td>\n",
       "      <td>NaN</td>\n",
       "      <td>NaN</td>\n",
       "      <td>NaN</td>\n",
       "      <td>NaN</td>\n",
       "      <td>NaN</td>\n",
       "      <td>Christ Community Health Services- Broad Avenue</td>\n",
       "      <td>Provider Site</td>\n",
       "      <td>No</td>\n",
       "      <td>Yes</td>\n",
       "      <td>No</td>\n",
       "    </tr>\n",
       "    <tr>\n",
       "      <th>4</th>\n",
       "      <td>4</td>\n",
       "      <td>93114968</td>\n",
       "      <td>SMILE ON 60+ Clinical</td>\n",
       "      <td>NaN</td>\n",
       "      <td>9/30/2021 16:46</td>\n",
       "      <td>9/30/2021 16:48</td>\n",
       "      <td>2</td>\n",
       "      <td>3348256</td>\n",
       "      <td>161979</td>\n",
       "      <td>Memphis</td>\n",
       "      <td>...</td>\n",
       "      <td>NaN</td>\n",
       "      <td>NaN</td>\n",
       "      <td>NaN</td>\n",
       "      <td>NaN</td>\n",
       "      <td>NaN</td>\n",
       "      <td>Christ Community Health Services- Broad Avenue</td>\n",
       "      <td>Provider Site</td>\n",
       "      <td>No</td>\n",
       "      <td>Yes</td>\n",
       "      <td>No</td>\n",
       "    </tr>\n",
       "  </tbody>\n",
       "</table>\n",
       "<p>5 rows × 52 columns</p>\n",
       "</div>"
      ],
      "text/plain": [
       "   Unnamed: 0  reportID                   reg_clic LinkedToCallReportNum  \\\n",
       "0           0  93115324  SMILE ON 60+ Registration                   NaN   \n",
       "1           1  93115188  SMILE ON 60+ Registration                   NaN   \n",
       "2           2  93115081      SMILE ON 60+ Clinical                   NaN   \n",
       "3           3  93115032      SMILE ON 60+ Clinical                   NaN   \n",
       "4           4  93114968      SMILE ON 60+ Clinical                   NaN   \n",
       "\n",
       "         callStart          callEnd  CallLength  CallerNum  PhoneWorkerNum  \\\n",
       "0  9/30/2021 16:56  9/30/2021 16:57           1    3638169          123747   \n",
       "1  9/30/2021 16:53  9/30/2021 16:53           0    4431194          123747   \n",
       "2  9/30/2021 16:50  9/30/2021 16:51           1    2941341          161979   \n",
       "3  9/30/2021 16:48  9/30/2021 16:49           1    3823933          161979   \n",
       "4  9/30/2021 16:46  9/30/2021 16:48           2    3348256          161979   \n",
       "\n",
       "        city  ... future_care SMILE ON 60+ Screening - Root Fragments  \\\n",
       "0     Smyrna  ...         NaN                                     NaN   \n",
       "1  Nashville  ...         NaN                                     NaN   \n",
       "2    Memphis  ...         NaN                                     NaN   \n",
       "3    Memphis  ...         NaN                                     NaN   \n",
       "4    Memphis  ...         NaN                                     NaN   \n",
       "\n",
       "  SMILE ON 60+ Screening - Suspicious Soft Tissue Lesions  \\\n",
       "0                                                NaN        \n",
       "1                                                NaN        \n",
       "2                                                NaN        \n",
       "3                                                NaN        \n",
       "4                                                NaN        \n",
       "\n",
       "   SMILE ON 60+ Screening - Treatment Urgency  \\\n",
       "0                                         NaN   \n",
       "1                                         NaN   \n",
       "2                                         NaN   \n",
       "3                                         NaN   \n",
       "4                                         NaN   \n",
       "\n",
       "  SMILE ON 60+ Screening - Untreated Decay  \\\n",
       "0                                      NaN   \n",
       "1                                      NaN   \n",
       "2                                      NaN   \n",
       "3                                      NaN   \n",
       "4                                      NaN   \n",
       "\n",
       "      SMILE ON 60+ Site Information - Enroller ID  \\\n",
       "0                                             NaN   \n",
       "1                                             NaN   \n",
       "2  Christ Community Health Services- Broad Avenue   \n",
       "3  Christ Community Health Services- Broad Avenue   \n",
       "4  Christ Community Health Services- Broad Avenue   \n",
       "\n",
       "  SMILE ON 60+ Site Information - Enroller Location  \\\n",
       "0                                               NaN   \n",
       "1                                Referral Follow-Up   \n",
       "2                                     Provider Site   \n",
       "3                                     Provider Site   \n",
       "4                                     Provider Site   \n",
       "\n",
       "   SMILE ON 60+ Treatment Plan - Is the treatment plan completed?  \\\n",
       "0                                                NaN                \n",
       "1                                                NaN                \n",
       "2                                                 No                \n",
       "3                                                 No                \n",
       "4                                                 No                \n",
       "\n",
       "   SMILE ON 60+ Treatment Plan - Was a treatment plan developed?  \\\n",
       "0                                                NaN               \n",
       "1                                                NaN               \n",
       "2                                                Yes               \n",
       "3                                                Yes               \n",
       "4                                                Yes               \n",
       "\n",
       "  SMILE ON 60+ Treatment Plan - Was the enrollee able to be restored to function (can chew) and \"social six\" esthetics (top front six teeth are present and disease free)  \n",
       "0                                                NaN                                                                                                                       \n",
       "1                                                NaN                                                                                                                       \n",
       "2                                                 No                                                                                                                       \n",
       "3                                                 No                                                                                                                       \n",
       "4                                                 No                                                                                                                       \n",
       "\n",
       "[5 rows x 52 columns]"
      ]
     },
     "execution_count": 39,
     "metadata": {},
     "output_type": "execute_result"
    }
   ],
   "source": [
    "No_low = smile.loc[(smile[\"with_insurance\"] == 'No') & (smile[\"income_level\"] == '$0-$21280')]\n",
    "No_low.head()"
   ]
  },
  {
   "cell_type": "code",
   "execution_count": null,
   "id": "384a2d41",
   "metadata": {},
   "outputs": [],
   "source": []
  }
 ],
 "metadata": {
  "kernelspec": {
   "display_name": "Python 3",
   "language": "python",
   "name": "python3"
  },
  "language_info": {
   "codemirror_mode": {
    "name": "ipython",
    "version": 3
   },
   "file_extension": ".py",
   "mimetype": "text/x-python",
   "name": "python",
   "nbconvert_exporter": "python",
   "pygments_lexer": "ipython3",
   "version": "3.8.8"
  }
 },
 "nbformat": 4,
 "nbformat_minor": 5
}
